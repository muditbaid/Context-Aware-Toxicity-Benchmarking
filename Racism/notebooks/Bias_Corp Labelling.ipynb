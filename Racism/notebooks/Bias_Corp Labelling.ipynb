{
 "cells": [
  {
   "cell_type": "code",
   "execution_count": null,
   "id": "7eba65dc-1bf6-4a9c-9d68-df8c46149846",
   "metadata": {},
   "outputs": [],
   "source": [
    "import pandas as pd\n",
    "import numpy as np\n",
    "\n",
    "bcorp = pd.read_csv('bias_corp_racial.csv')\n",
    "bcorp.head()\n",
    "\n",
    "## bias == racial bias ( 0, 1, 2, 3, 4, 5)\n",
    "## indicating their confidence in the bias score (1-10)"
   ]
  },
  {
   "cell_type": "code",
   "execution_count": null,
   "id": "e339525b-e777-4692-8297-f2d2daf20fa5",
   "metadata": {},
   "outputs": [],
   "source": [
    "df = bcorp.copy()\n",
    "\n",
    "# Function to compute the normalized confidence-weighted bias score\n",
    "def compute_weighted_bias(row):\n",
    "    # Extract bias and confidence scores\n",
    "    bias_scores = np.array([row['bias_1'], row['bias_2'], row['bias_3']])\n",
    "    confidence_scores = np.array([row['confidence_1'], row['confidence_2'], row['confidence_3']])\n",
    "    \n",
    "    # Normalize confidence scores so they sum to 1\n",
    "    normalized_conf = confidence_scores / confidence_scores.sum()\n",
    "    \n",
    "    # Compute the weighted bias score\n",
    "    weighted_bias = np.dot(bias_scores, normalized_conf)\n",
    "    return weighted_bias\n",
    "\n",
    "# Apply the function to compute weighted bias scores\n",
    "df['weighted_bias'] = df.apply(compute_weighted_bias, axis=1)\n",
    "\n",
    "# Determine true labels based on a threshold (e.g., weighted bias >= 3 is racist)\n",
    "df['true_label'] = (df['weighted_bias'] >= 3).astype(int)\n",
    "\n",
    "df.head()"
   ]
  },
  {
   "cell_type": "code",
   "execution_count": null,
   "id": "5b524988-fddf-4fde-998b-ab055e6846d7",
   "metadata": {},
   "outputs": [],
   "source": [
    "import matplotlib.pyplot as plt\n",
    "\n",
    "plt.figure(figsize=(8, 5))\n",
    "plt.hist(df['weighted_bias'], bins=10, edgecolor='black')\n",
    "plt.title('Distribution of Weighted Bias Scores')\n",
    "plt.xlabel('Weighted Bias Score')\n",
    "plt.ylabel('Frequency')\n",
    "plt.grid(axis='y', linestyle='--', alpha=0.7)\n",
    "plt.show()"
   ]
  },
  {
   "cell_type": "code",
   "execution_count": null,
   "id": "c1c5b074-906d-4b89-b95c-2615a3500f35",
   "metadata": {},
   "outputs": [],
   "source": [
    "df.head()"
   ]
  }
 ],
 "metadata": {
  "kernelspec": {
   "display_name": "Python 3 (ipykernel)",
   "language": "python",
   "name": "python3"
  },
  "language_info": {
   "codemirror_mode": {
    "name": "ipython",
    "version": 3
   },
   "file_extension": ".py",
   "mimetype": "text/x-python",
   "name": "python",
   "nbconvert_exporter": "python",
   "pygments_lexer": "ipython3",
   "version": "3.12.7"
  }
 },
 "nbformat": 4,
 "nbformat_minor": 5
}
