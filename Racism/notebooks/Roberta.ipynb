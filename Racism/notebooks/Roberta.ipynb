{
 "cells": [
  {
   "cell_type": "code",
   "execution_count": 1,
   "id": "80fb6c4c-4733-4848-b87c-3eaf539b9a00",
   "metadata": {},
   "outputs": [
    {
     "name": "stdout",
     "output_type": "stream",
     "text": [
      "Python 3.12.7\n"
     ]
    }
   ],
   "source": [
    "!python --version"
   ]
  },
  {
   "cell_type": "code",
   "execution_count": 1,
   "id": "6084f338-1995-469f-9bc1-030729cf2fc0",
   "metadata": {},
   "outputs": [],
   "source": [
    "import pandas as pd\n",
    "import numpy as np"
   ]
  },
  {
   "cell_type": "markdown",
   "id": "b8744e85-8913-4bb4-a3dc-34a255d6ea86",
   "metadata": {
    "jp-MarkdownHeadingCollapsed": true
   },
   "source": [
    "### IMPORT ROBERTA MODEL"
   ]
  },
  {
   "cell_type": "code",
   "execution_count": 6,
   "id": "8568d5b8-2cfd-43b4-9174-d7454ebc669c",
   "metadata": {},
   "outputs": [
    {
     "name": "stdout",
     "output_type": "stream",
     "text": [
      "WARNING:tensorflow:From D:\\Anaconda\\Lib\\site-packages\\tf_keras\\src\\losses.py:2976: The name tf.losses.sparse_softmax_cross_entropy is deprecated. Please use tf.compat.v1.losses.sparse_softmax_cross_entropy instead.\n",
      "\n"
     ]
    },
    {
     "name": "stderr",
     "output_type": "stream",
     "text": [
      "D:\\Anaconda\\Lib\\site-packages\\transformers\\models\\auto\\configuration_auto.py:1006: FutureWarning: The `use_auth_token` argument is deprecated and will be removed in v5 of Transformers. Please use `token` instead.\n",
      "  warnings.warn(\n",
      "D:\\Anaconda\\Lib\\site-packages\\transformers\\models\\auto\\tokenization_auto.py:810: FutureWarning: The `use_auth_token` argument is deprecated and will be removed in v5 of Transformers. Please use `token` instead.\n",
      "  warnings.warn(\n",
      "D:\\Anaconda\\Lib\\site-packages\\transformers\\models\\auto\\auto_factory.py:471: FutureWarning: The `use_auth_token` argument is deprecated and will be removed in v5 of Transformers. Please use `token` instead.\n",
      "  warnings.warn(\n"
     ]
    }
   ],
   "source": [
    "import tweetnlp\n",
    "import torch\n",
    "from tqdm import tqdm\n",
    "device = torch.device('cuda')\n",
    "\n",
    "# Load the CardiffNLP RoBERTa model for hate detection\n",
    "roberta = tweetnlp.Classifier(\"cardiffnlp/twitter-roberta-base-hate-latest\",max_length=512)\n",
    "\n",
    "# Function to get predictions from the model one sentence at a time\n",
    "def get_predictions(model, texts):\n",
    "    predictions = []\n",
    "    for text in tqdm(texts, desc=\"Processing texts\"):\n",
    "        prediction = roberta.predict(text)['label']\n",
    "        predictions.append(prediction)\n",
    "    return predictions"
   ]
  },
  {
   "cell_type": "markdown",
   "id": "b880f5e0-1213-4fe4-bc91-1df8a9349912",
   "metadata": {
    "jp-MarkdownHeadingCollapsed": true
   },
   "source": [
    "### DATASET 1: BIAS_CORP"
   ]
  },
  {
   "cell_type": "code",
   "execution_count": 4,
   "id": "e63cfa9a-c54f-42d3-90ac-5e72874641a6",
   "metadata": {},
   "outputs": [
    {
     "data": {
      "text/html": [
       "<div>\n",
       "<style scoped>\n",
       "    .dataframe tbody tr th:only-of-type {\n",
       "        vertical-align: middle;\n",
       "    }\n",
       "\n",
       "    .dataframe tbody tr th {\n",
       "        vertical-align: top;\n",
       "    }\n",
       "\n",
       "    .dataframe thead th {\n",
       "        text-align: right;\n",
       "    }\n",
       "</style>\n",
       "<table border=\"1\" class=\"dataframe\">\n",
       "  <thead>\n",
       "    <tr style=\"text-align: right;\">\n",
       "      <th></th>\n",
       "      <th>text</th>\n",
       "      <th>bias_1</th>\n",
       "      <th>bias_2</th>\n",
       "      <th>bias_3</th>\n",
       "      <th>confidence_1</th>\n",
       "      <th>confidence_2</th>\n",
       "      <th>confidence_3</th>\n",
       "      <th>time_1</th>\n",
       "      <th>time_2</th>\n",
       "      <th>time_3</th>\n",
       "      <th>sentiment_score</th>\n",
       "      <th>source</th>\n",
       "    </tr>\n",
       "  </thead>\n",
       "  <tbody>\n",
       "    <tr>\n",
       "      <th>0</th>\n",
       "      <td>'' Democrats needed someone like Obama, half w...</td>\n",
       "      <td>4</td>\n",
       "      <td>3</td>\n",
       "      <td>2</td>\n",
       "      <td>4</td>\n",
       "      <td>3</td>\n",
       "      <td>5</td>\n",
       "      <td>82</td>\n",
       "      <td>94</td>\n",
       "      <td>295</td>\n",
       "      <td>0.205548</td>\n",
       "      <td>BB</td>\n",
       "    </tr>\n",
       "    <tr>\n",
       "      <th>1</th>\n",
       "      <td>'Greatest threat to the Black Famiky is the wh...</td>\n",
       "      <td>1</td>\n",
       "      <td>3</td>\n",
       "      <td>4</td>\n",
       "      <td>6</td>\n",
       "      <td>6</td>\n",
       "      <td>4</td>\n",
       "      <td>48</td>\n",
       "      <td>37</td>\n",
       "      <td>23</td>\n",
       "      <td>-0.189737</td>\n",
       "      <td>BB</td>\n",
       "    </tr>\n",
       "    <tr>\n",
       "      <th>2</th>\n",
       "      <td>'In March, Black Lives Matter activists marche...</td>\n",
       "      <td>3</td>\n",
       "      <td>3</td>\n",
       "      <td>2</td>\n",
       "      <td>7</td>\n",
       "      <td>7</td>\n",
       "      <td>7</td>\n",
       "      <td>140</td>\n",
       "      <td>2495</td>\n",
       "      <td>75</td>\n",
       "      <td>-0.282843</td>\n",
       "      <td>BB</td>\n",
       "    </tr>\n",
       "    <tr>\n",
       "      <th>3</th>\n",
       "      <td>'Rogue'' Chinese Virologist Joins Twitter, Pub...</td>\n",
       "      <td>5</td>\n",
       "      <td>4</td>\n",
       "      <td>3</td>\n",
       "      <td>8</td>\n",
       "      <td>9</td>\n",
       "      <td>7</td>\n",
       "      <td>3900</td>\n",
       "      <td>6838</td>\n",
       "      <td>85</td>\n",
       "      <td>-0.094491</td>\n",
       "      <td>BB</td>\n",
       "    </tr>\n",
       "    <tr>\n",
       "      <th>4</th>\n",
       "      <td>'What this means is he could have told black p...</td>\n",
       "      <td>2</td>\n",
       "      <td>3</td>\n",
       "      <td>3</td>\n",
       "      <td>8</td>\n",
       "      <td>7</td>\n",
       "      <td>6</td>\n",
       "      <td>9302</td>\n",
       "      <td>4203</td>\n",
       "      <td>43</td>\n",
       "      <td>-0.347440</td>\n",
       "      <td>BB</td>\n",
       "    </tr>\n",
       "  </tbody>\n",
       "</table>\n",
       "</div>"
      ],
      "text/plain": [
       "                                                text  bias_1  bias_2  bias_3  \\\n",
       "0  '' Democrats needed someone like Obama, half w...       4       3       2   \n",
       "1  'Greatest threat to the Black Famiky is the wh...       1       3       4   \n",
       "2  'In March, Black Lives Matter activists marche...       3       3       2   \n",
       "3  'Rogue'' Chinese Virologist Joins Twitter, Pub...       5       4       3   \n",
       "4  'What this means is he could have told black p...       2       3       3   \n",
       "\n",
       "   confidence_1  confidence_2  confidence_3  time_1  time_2  time_3  \\\n",
       "0             4             3             5      82      94     295   \n",
       "1             6             6             4      48      37      23   \n",
       "2             7             7             7     140    2495      75   \n",
       "3             8             9             7    3900    6838      85   \n",
       "4             8             7             6    9302    4203      43   \n",
       "\n",
       "   sentiment_score source  \n",
       "0         0.205548     BB  \n",
       "1        -0.189737     BB  \n",
       "2        -0.282843     BB  \n",
       "3        -0.094491     BB  \n",
       "4        -0.347440     BB  "
      ]
     },
     "execution_count": 4,
     "metadata": {},
     "output_type": "execute_result"
    }
   ],
   "source": [
    "bias_corp = pd.read_csv(\"bias_corp_racial.csv\")\n",
    "bias_corp.head()"
   ]
  },
  {
   "cell_type": "code",
   "execution_count": 7,
   "id": "18275671-e652-48ab-a2c1-f95a05c80197",
   "metadata": {},
   "outputs": [],
   "source": [
    "df = bias_corp.copy()"
   ]
  },
  {
   "cell_type": "code",
   "execution_count": 10,
   "id": "49bcf329-28d2-4575-859f-40deadb51fff",
   "metadata": {},
   "outputs": [
    {
     "data": {
      "text/html": [
       "<div>\n",
       "<style scoped>\n",
       "    .dataframe tbody tr th:only-of-type {\n",
       "        vertical-align: middle;\n",
       "    }\n",
       "\n",
       "    .dataframe tbody tr th {\n",
       "        vertical-align: top;\n",
       "    }\n",
       "\n",
       "    .dataframe thead th {\n",
       "        text-align: right;\n",
       "    }\n",
       "</style>\n",
       "<table border=\"1\" class=\"dataframe\">\n",
       "  <thead>\n",
       "    <tr style=\"text-align: right;\">\n",
       "      <th></th>\n",
       "      <th>text</th>\n",
       "      <th>bias_1</th>\n",
       "      <th>bias_2</th>\n",
       "      <th>bias_3</th>\n",
       "      <th>confidence_1</th>\n",
       "      <th>confidence_2</th>\n",
       "      <th>confidence_3</th>\n",
       "      <th>time_1</th>\n",
       "      <th>time_2</th>\n",
       "      <th>time_3</th>\n",
       "      <th>sentiment_score</th>\n",
       "      <th>source</th>\n",
       "      <th>weighted_bias</th>\n",
       "      <th>true_label</th>\n",
       "    </tr>\n",
       "  </thead>\n",
       "  <tbody>\n",
       "    <tr>\n",
       "      <th>0</th>\n",
       "      <td>'' Democrats needed someone like Obama, half w...</td>\n",
       "      <td>4</td>\n",
       "      <td>3</td>\n",
       "      <td>2</td>\n",
       "      <td>4</td>\n",
       "      <td>3</td>\n",
       "      <td>5</td>\n",
       "      <td>82</td>\n",
       "      <td>94</td>\n",
       "      <td>295</td>\n",
       "      <td>0.205548</td>\n",
       "      <td>BB</td>\n",
       "      <td>2.916667</td>\n",
       "      <td>0</td>\n",
       "    </tr>\n",
       "    <tr>\n",
       "      <th>1</th>\n",
       "      <td>'Greatest threat to the Black Famiky is the wh...</td>\n",
       "      <td>1</td>\n",
       "      <td>3</td>\n",
       "      <td>4</td>\n",
       "      <td>6</td>\n",
       "      <td>6</td>\n",
       "      <td>4</td>\n",
       "      <td>48</td>\n",
       "      <td>37</td>\n",
       "      <td>23</td>\n",
       "      <td>-0.189737</td>\n",
       "      <td>BB</td>\n",
       "      <td>2.500000</td>\n",
       "      <td>0</td>\n",
       "    </tr>\n",
       "    <tr>\n",
       "      <th>2</th>\n",
       "      <td>'In March, Black Lives Matter activists marche...</td>\n",
       "      <td>3</td>\n",
       "      <td>3</td>\n",
       "      <td>2</td>\n",
       "      <td>7</td>\n",
       "      <td>7</td>\n",
       "      <td>7</td>\n",
       "      <td>140</td>\n",
       "      <td>2495</td>\n",
       "      <td>75</td>\n",
       "      <td>-0.282843</td>\n",
       "      <td>BB</td>\n",
       "      <td>2.666667</td>\n",
       "      <td>0</td>\n",
       "    </tr>\n",
       "    <tr>\n",
       "      <th>3</th>\n",
       "      <td>'Rogue'' Chinese Virologist Joins Twitter, Pub...</td>\n",
       "      <td>5</td>\n",
       "      <td>4</td>\n",
       "      <td>3</td>\n",
       "      <td>8</td>\n",
       "      <td>9</td>\n",
       "      <td>7</td>\n",
       "      <td>3900</td>\n",
       "      <td>6838</td>\n",
       "      <td>85</td>\n",
       "      <td>-0.094491</td>\n",
       "      <td>BB</td>\n",
       "      <td>4.041667</td>\n",
       "      <td>1</td>\n",
       "    </tr>\n",
       "    <tr>\n",
       "      <th>4</th>\n",
       "      <td>'What this means is he could have told black p...</td>\n",
       "      <td>2</td>\n",
       "      <td>3</td>\n",
       "      <td>3</td>\n",
       "      <td>8</td>\n",
       "      <td>7</td>\n",
       "      <td>6</td>\n",
       "      <td>9302</td>\n",
       "      <td>4203</td>\n",
       "      <td>43</td>\n",
       "      <td>-0.347440</td>\n",
       "      <td>BB</td>\n",
       "      <td>2.619048</td>\n",
       "      <td>0</td>\n",
       "    </tr>\n",
       "  </tbody>\n",
       "</table>\n",
       "</div>"
      ],
      "text/plain": [
       "                                                text  bias_1  bias_2  bias_3  \\\n",
       "0  '' Democrats needed someone like Obama, half w...       4       3       2   \n",
       "1  'Greatest threat to the Black Famiky is the wh...       1       3       4   \n",
       "2  'In March, Black Lives Matter activists marche...       3       3       2   \n",
       "3  'Rogue'' Chinese Virologist Joins Twitter, Pub...       5       4       3   \n",
       "4  'What this means is he could have told black p...       2       3       3   \n",
       "\n",
       "   confidence_1  confidence_2  confidence_3  time_1  time_2  time_3  \\\n",
       "0             4             3             5      82      94     295   \n",
       "1             6             6             4      48      37      23   \n",
       "2             7             7             7     140    2495      75   \n",
       "3             8             9             7    3900    6838      85   \n",
       "4             8             7             6    9302    4203      43   \n",
       "\n",
       "   sentiment_score source  weighted_bias  true_label  \n",
       "0         0.205548     BB       2.916667           0  \n",
       "1        -0.189737     BB       2.500000           0  \n",
       "2        -0.282843     BB       2.666667           0  \n",
       "3        -0.094491     BB       4.041667           1  \n",
       "4        -0.347440     BB       2.619048           0  "
      ]
     },
     "execution_count": 10,
     "metadata": {},
     "output_type": "execute_result"
    }
   ],
   "source": [
    "df.head()"
   ]
  },
  {
   "cell_type": "code",
   "execution_count": null,
   "id": "48b6ee83-ba73-4496-b596-862df13d9eee",
   "metadata": {},
   "outputs": [],
   "source": [
    "# Get predictions for the dataset\n",
    "df['troberta_prediction'] = get_predictions(troberta, df['text'])\n",
    "df.head()"
   ]
  },
  {
   "cell_type": "code",
   "execution_count": 23,
   "id": "511768cf-97ae-41dd-8269-768f21cbb914",
   "metadata": {},
   "outputs": [
    {
     "name": "stdout",
     "output_type": "stream",
     "text": [
      "troberta_prediction\n",
      "NOT-HATE    38948\n",
      "HATE         4784\n",
      "Name: count, dtype: int64\n",
      "true_label\n",
      "0    22622\n",
      "1    21110\n",
      "Name: count, dtype: int64\n"
     ]
    }
   ],
   "source": [
    "print(df['troberta_prediction'].value_counts())\n",
    "print(df['true_label'].value_counts())"
   ]
  },
  {
   "cell_type": "code",
   "execution_count": 25,
   "id": "0416044f-6cf9-4951-a329-fbe42d990bb5",
   "metadata": {},
   "outputs": [],
   "source": [
    "df.to_csv('roberta_results.csv',index=False)"
   ]
  },
  {
   "cell_type": "code",
   "execution_count": null,
   "id": "8a149492-22f7-4414-8c67-cdb3c2bd469b",
   "metadata": {},
   "outputs": [],
   "source": [
    "df['troberta_prediction'].value_counts()"
   ]
  },
  {
   "cell_type": "markdown",
   "id": "edfac170-b45e-4985-a2e0-c04c96cff467",
   "metadata": {},
   "source": [
    "### DATASET 2: SAKREN TWITTER DATASET"
   ]
  },
  {
   "cell_type": "code",
   "execution_count": 44,
   "id": "93f19111-a4f7-47e6-9fe6-674fb799a45f",
   "metadata": {},
   "outputs": [],
   "source": [
    "from datasets import load_dataset\n",
    "\n",
    "sakren = load_dataset(\"sakren/twitter_racism_dataset\")"
   ]
  },
  {
   "cell_type": "code",
   "execution_count": 50,
   "id": "53cf3a5f-7f7a-4edd-ae38-5d997996145e",
   "metadata": {},
   "outputs": [],
   "source": [
    "sakren = sakren['train'].to_pandas()"
   ]
  },
  {
   "cell_type": "code",
   "execution_count": 52,
   "id": "7bfc574c-cdde-4b5a-b2e8-36eee8ee7ca4",
   "metadata": {},
   "outputs": [
    {
     "data": {
      "text/html": [
       "<div>\n",
       "<style scoped>\n",
       "    .dataframe tbody tr th:only-of-type {\n",
       "        vertical-align: middle;\n",
       "    }\n",
       "\n",
       "    .dataframe tbody tr th {\n",
       "        vertical-align: top;\n",
       "    }\n",
       "\n",
       "    .dataframe thead th {\n",
       "        text-align: right;\n",
       "    }\n",
       "</style>\n",
       "<table border=\"1\" class=\"dataframe\">\n",
       "  <thead>\n",
       "    <tr style=\"text-align: right;\">\n",
       "      <th></th>\n",
       "      <th>index</th>\n",
       "      <th>id</th>\n",
       "      <th>Text</th>\n",
       "      <th>Annotation</th>\n",
       "      <th>oh_label</th>\n",
       "    </tr>\n",
       "  </thead>\n",
       "  <tbody>\n",
       "    <tr>\n",
       "      <th>0</th>\n",
       "      <td>5.767493e+17</td>\n",
       "      <td>5.767493e+17</td>\n",
       "      <td>@AAlwuhaib1977 Muslim mob violence against Hin...</td>\n",
       "      <td>racism</td>\n",
       "      <td>1</td>\n",
       "    </tr>\n",
       "    <tr>\n",
       "      <th>1</th>\n",
       "      <td>5.408905e+17</td>\n",
       "      <td>5.408905e+17</td>\n",
       "      <td>@Te4m_NiGhtM4Re http://t.co/5Ih7MkDbQG</td>\n",
       "      <td>none</td>\n",
       "      <td>0</td>\n",
       "    </tr>\n",
       "    <tr>\n",
       "      <th>2</th>\n",
       "      <td>5.678433e+17</td>\n",
       "      <td>5.678433e+17</td>\n",
       "      <td>@jncatron @isra_jourisra @AMPalestine Islamoph...</td>\n",
       "      <td>racism</td>\n",
       "      <td>1</td>\n",
       "    </tr>\n",
       "    <tr>\n",
       "      <th>3</th>\n",
       "      <td>5.766462e+17</td>\n",
       "      <td>5.766462e+17</td>\n",
       "      <td>Finally I'm all caught up, and that sudden dea...</td>\n",
       "      <td>none</td>\n",
       "      <td>0</td>\n",
       "    </tr>\n",
       "    <tr>\n",
       "      <th>4</th>\n",
       "      <td>5.713492e+17</td>\n",
       "      <td>5.713492e+17</td>\n",
       "      <td>@carolinesinders @herecomesfran *hugs*</td>\n",
       "      <td>none</td>\n",
       "      <td>0</td>\n",
       "    </tr>\n",
       "  </tbody>\n",
       "</table>\n",
       "</div>"
      ],
      "text/plain": [
       "          index            id  \\\n",
       "0  5.767493e+17  5.767493e+17   \n",
       "1  5.408905e+17  5.408905e+17   \n",
       "2  5.678433e+17  5.678433e+17   \n",
       "3  5.766462e+17  5.766462e+17   \n",
       "4  5.713492e+17  5.713492e+17   \n",
       "\n",
       "                                                Text Annotation  oh_label  \n",
       "0  @AAlwuhaib1977 Muslim mob violence against Hin...     racism         1  \n",
       "1             @Te4m_NiGhtM4Re http://t.co/5Ih7MkDbQG       none         0  \n",
       "2  @jncatron @isra_jourisra @AMPalestine Islamoph...     racism         1  \n",
       "3  Finally I'm all caught up, and that sudden dea...       none         0  \n",
       "4             @carolinesinders @herecomesfran *hugs*       none         0  "
      ]
     },
     "execution_count": 52,
     "metadata": {},
     "output_type": "execute_result"
    }
   ],
   "source": [
    "sakren.head()"
   ]
  },
  {
   "cell_type": "code",
   "execution_count": 54,
   "id": "94b55462-6067-4813-83a8-39a5f0704b39",
   "metadata": {},
   "outputs": [
    {
     "name": "stderr",
     "output_type": "stream",
     "text": [
      "Processing texts: 100%|██████████████████████████████████████████████████████████| 13471/13471 [04:11<00:00, 53.57it/s]\n"
     ]
    },
    {
     "data": {
      "text/html": [
       "<div>\n",
       "<style scoped>\n",
       "    .dataframe tbody tr th:only-of-type {\n",
       "        vertical-align: middle;\n",
       "    }\n",
       "\n",
       "    .dataframe tbody tr th {\n",
       "        vertical-align: top;\n",
       "    }\n",
       "\n",
       "    .dataframe thead th {\n",
       "        text-align: right;\n",
       "    }\n",
       "</style>\n",
       "<table border=\"1\" class=\"dataframe\">\n",
       "  <thead>\n",
       "    <tr style=\"text-align: right;\">\n",
       "      <th></th>\n",
       "      <th>index</th>\n",
       "      <th>id</th>\n",
       "      <th>Text</th>\n",
       "      <th>Annotation</th>\n",
       "      <th>oh_label</th>\n",
       "      <th>roberta_sakren</th>\n",
       "    </tr>\n",
       "  </thead>\n",
       "  <tbody>\n",
       "    <tr>\n",
       "      <th>0</th>\n",
       "      <td>5.767493e+17</td>\n",
       "      <td>5.767493e+17</td>\n",
       "      <td>@AAlwuhaib1977 Muslim mob violence against Hin...</td>\n",
       "      <td>racism</td>\n",
       "      <td>1</td>\n",
       "      <td>NOT-HATE</td>\n",
       "    </tr>\n",
       "    <tr>\n",
       "      <th>1</th>\n",
       "      <td>5.408905e+17</td>\n",
       "      <td>5.408905e+17</td>\n",
       "      <td>@Te4m_NiGhtM4Re http://t.co/5Ih7MkDbQG</td>\n",
       "      <td>none</td>\n",
       "      <td>0</td>\n",
       "      <td>NOT-HATE</td>\n",
       "    </tr>\n",
       "    <tr>\n",
       "      <th>2</th>\n",
       "      <td>5.678433e+17</td>\n",
       "      <td>5.678433e+17</td>\n",
       "      <td>@jncatron @isra_jourisra @AMPalestine Islamoph...</td>\n",
       "      <td>racism</td>\n",
       "      <td>1</td>\n",
       "      <td>HATE</td>\n",
       "    </tr>\n",
       "    <tr>\n",
       "      <th>3</th>\n",
       "      <td>5.766462e+17</td>\n",
       "      <td>5.766462e+17</td>\n",
       "      <td>Finally I'm all caught up, and that sudden dea...</td>\n",
       "      <td>none</td>\n",
       "      <td>0</td>\n",
       "      <td>NOT-HATE</td>\n",
       "    </tr>\n",
       "    <tr>\n",
       "      <th>4</th>\n",
       "      <td>5.713492e+17</td>\n",
       "      <td>5.713492e+17</td>\n",
       "      <td>@carolinesinders @herecomesfran *hugs*</td>\n",
       "      <td>none</td>\n",
       "      <td>0</td>\n",
       "      <td>NOT-HATE</td>\n",
       "    </tr>\n",
       "  </tbody>\n",
       "</table>\n",
       "</div>"
      ],
      "text/plain": [
       "          index            id  \\\n",
       "0  5.767493e+17  5.767493e+17   \n",
       "1  5.408905e+17  5.408905e+17   \n",
       "2  5.678433e+17  5.678433e+17   \n",
       "3  5.766462e+17  5.766462e+17   \n",
       "4  5.713492e+17  5.713492e+17   \n",
       "\n",
       "                                                Text Annotation  oh_label  \\\n",
       "0  @AAlwuhaib1977 Muslim mob violence against Hin...     racism         1   \n",
       "1             @Te4m_NiGhtM4Re http://t.co/5Ih7MkDbQG       none         0   \n",
       "2  @jncatron @isra_jourisra @AMPalestine Islamoph...     racism         1   \n",
       "3  Finally I'm all caught up, and that sudden dea...       none         0   \n",
       "4             @carolinesinders @herecomesfran *hugs*       none         0   \n",
       "\n",
       "  roberta_sakren  \n",
       "0       NOT-HATE  \n",
       "1       NOT-HATE  \n",
       "2           HATE  \n",
       "3       NOT-HATE  \n",
       "4       NOT-HATE  "
      ]
     },
     "execution_count": 54,
     "metadata": {},
     "output_type": "execute_result"
    }
   ],
   "source": [
    "def get_predictions(model, texts):\n",
    "    predictions = []\n",
    "    for text in tqdm(texts, desc=\"Processing texts\"):\n",
    "        prediction = roberta.predict(text)['label']\n",
    "        predictions.append(prediction)\n",
    "    return predictions\n",
    "\n",
    "# Get predictions for the dataset\n",
    "sakren['roberta_sakren'] = get_predictions(roberta, sakren['Text'])\n",
    "sakren.head()"
   ]
  },
  {
   "cell_type": "code",
   "execution_count": 56,
   "id": "08f11664-32cf-4642-8da2-2534196f1f2b",
   "metadata": {},
   "outputs": [
    {
     "name": "stderr",
     "output_type": "stream",
     "text": [
      "C:\\Users\\MUDIT BAID\\AppData\\Local\\Temp\\ipykernel_10632\\4294934485.py:2: FutureWarning: A value is trying to be set on a copy of a DataFrame or Series through chained assignment using an inplace method.\n",
      "The behavior will change in pandas 3.0. This inplace method will never work because the intermediate object on which we are setting values always behaves as a copy.\n",
      "\n",
      "For example, when doing 'df[col].method(value, inplace=True)', try using 'df.method({col: value}, inplace=True)' or df[col] = df[col].method(value) instead, to perform the operation inplace on the original object.\n",
      "\n",
      "\n",
      "  sakren['roberta_sakren'].replace({\"HATE\": \"racism\", \"NOT-HATE\": \"none\"},inplace=True)\n"
     ]
    }
   ],
   "source": [
    "# Experimenting cardiffnlp roberta because it has been trained using racism dataset also. Changing labels to test accuracy on racism dataset.\n",
    "sakren['roberta_sakren'].replace({\"HATE\": \"racism\", \"NOT-HATE\": \"none\"},inplace=True)"
   ]
  },
  {
   "cell_type": "code",
   "execution_count": 78,
   "id": "01cb60e1-6f1f-468a-8975-e3177d0d96c9",
   "metadata": {},
   "outputs": [
    {
     "data": {
      "text/html": [
       "<div>\n",
       "<style scoped>\n",
       "    .dataframe tbody tr th:only-of-type {\n",
       "        vertical-align: middle;\n",
       "    }\n",
       "\n",
       "    .dataframe tbody tr th {\n",
       "        vertical-align: top;\n",
       "    }\n",
       "\n",
       "    .dataframe thead th {\n",
       "        text-align: right;\n",
       "    }\n",
       "</style>\n",
       "<table border=\"1\" class=\"dataframe\">\n",
       "  <thead>\n",
       "    <tr style=\"text-align: right;\">\n",
       "      <th></th>\n",
       "      <th>index</th>\n",
       "      <th>id</th>\n",
       "      <th>Text</th>\n",
       "      <th>Annotation</th>\n",
       "      <th>oh_label</th>\n",
       "      <th>roberta_sakren</th>\n",
       "    </tr>\n",
       "  </thead>\n",
       "  <tbody>\n",
       "    <tr>\n",
       "      <th>0</th>\n",
       "      <td>5.767493e+17</td>\n",
       "      <td>5.767493e+17</td>\n",
       "      <td>@AAlwuhaib1977 Muslim mob violence against Hin...</td>\n",
       "      <td>racism</td>\n",
       "      <td>1</td>\n",
       "      <td>none</td>\n",
       "    </tr>\n",
       "    <tr>\n",
       "      <th>1</th>\n",
       "      <td>5.408905e+17</td>\n",
       "      <td>5.408905e+17</td>\n",
       "      <td>@Te4m_NiGhtM4Re http://t.co/5Ih7MkDbQG</td>\n",
       "      <td>none</td>\n",
       "      <td>0</td>\n",
       "      <td>none</td>\n",
       "    </tr>\n",
       "    <tr>\n",
       "      <th>2</th>\n",
       "      <td>5.678433e+17</td>\n",
       "      <td>5.678433e+17</td>\n",
       "      <td>@jncatron @isra_jourisra @AMPalestine Islamoph...</td>\n",
       "      <td>racism</td>\n",
       "      <td>1</td>\n",
       "      <td>racism</td>\n",
       "    </tr>\n",
       "    <tr>\n",
       "      <th>3</th>\n",
       "      <td>5.766462e+17</td>\n",
       "      <td>5.766462e+17</td>\n",
       "      <td>Finally I'm all caught up, and that sudden dea...</td>\n",
       "      <td>none</td>\n",
       "      <td>0</td>\n",
       "      <td>none</td>\n",
       "    </tr>\n",
       "    <tr>\n",
       "      <th>4</th>\n",
       "      <td>5.713492e+17</td>\n",
       "      <td>5.713492e+17</td>\n",
       "      <td>@carolinesinders @herecomesfran *hugs*</td>\n",
       "      <td>none</td>\n",
       "      <td>0</td>\n",
       "      <td>none</td>\n",
       "    </tr>\n",
       "  </tbody>\n",
       "</table>\n",
       "</div>"
      ],
      "text/plain": [
       "          index            id  \\\n",
       "0  5.767493e+17  5.767493e+17   \n",
       "1  5.408905e+17  5.408905e+17   \n",
       "2  5.678433e+17  5.678433e+17   \n",
       "3  5.766462e+17  5.766462e+17   \n",
       "4  5.713492e+17  5.713492e+17   \n",
       "\n",
       "                                                Text Annotation  oh_label  \\\n",
       "0  @AAlwuhaib1977 Muslim mob violence against Hin...     racism         1   \n",
       "1             @Te4m_NiGhtM4Re http://t.co/5Ih7MkDbQG       none         0   \n",
       "2  @jncatron @isra_jourisra @AMPalestine Islamoph...     racism         1   \n",
       "3  Finally I'm all caught up, and that sudden dea...       none         0   \n",
       "4             @carolinesinders @herecomesfran *hugs*       none         0   \n",
       "\n",
       "  roberta_sakren  \n",
       "0           none  \n",
       "1           none  \n",
       "2         racism  \n",
       "3           none  \n",
       "4           none  "
      ]
     },
     "execution_count": 78,
     "metadata": {},
     "output_type": "execute_result"
    }
   ],
   "source": [
    "sakren.head()"
   ]
  },
  {
   "cell_type": "code",
   "execution_count": 60,
   "id": "d25d5545-5623-44da-b691-6bf32f25d56d",
   "metadata": {},
   "outputs": [],
   "source": [
    "sakren.to_csv('roberta_sakren.csv',index=False)"
   ]
  },
  {
   "cell_type": "code",
   "execution_count": 80,
   "id": "81239511-16c9-4bc9-93e3-ccf39637ba23",
   "metadata": {},
   "outputs": [
    {
     "name": "stdout",
     "output_type": "stream",
     "text": [
      "Accuracy: 0.8693\n",
      "F1 Score: 0.4909\n",
      "Confusion Matrix:\n",
      "[[10861   640]\n",
      " [ 1121   849]]\n"
     ]
    },
    {
     "data": {
      "image/png": "[encoded data removed]",
      "text/plain": [
       "<Figure size 800x600 with 2 Axes>"
      ]
     },
     "metadata": {},
     "output_type": "display_data"
    }
   ],
   "source": [
    "from sklearn.metrics import confusion_matrix, accuracy_score, f1_score\n",
    "import matplotlib.pyplot as plt\n",
    "import seaborn as sns\n",
    "\n",
    "# Map 'roberta_sakren' to binary values\n",
    "sakren['pred_label'] = sakren['roberta_sakren'].map({\"none\": 0, \"racism\": 1})\n",
    "\n",
    "# Calculate metrics\n",
    "accuracy = accuracy_score(sakren['oh_label'], sakren['pred_label'])\n",
    "f1 = f1_score(sakren['oh_label'], sakren['pred_label'])\n",
    "conf_matrix = confusion_matrix(sakren['oh_label'], sakren['pred_label'])\n",
    "\n",
    "# Display metrics\n",
    "print(f\"Accuracy: {accuracy:.4f}\")\n",
    "print(f\"F1 Score: {f1:.4f}\")\n",
    "print(\"Confusion Matrix:\")\n",
    "print(conf_matrix)\n",
    "\n",
    "# Plot confusion matrix\n",
    "plt.figure(figsize=(8, 6))\n",
    "ax = sns.heatmap(conf_matrix, annot=True, fmt=\"d\", cmap=\"Blues\",\n",
    "                 xticklabels=[\"None\", \"Racism\"], yticklabels=[\"None\", \"Racism\"])\n",
    "ax.set_title(f\"Confusion Matrix\\nAccuracy: {accuracy:.4f}, F1 Score: {f1:.4f}\")\n",
    "ax.set_xlabel(\"Predicted Label\")\n",
    "ax.set_ylabel(\"True Label\")\n",
    "plt.show()\n"
   ]
  },
  {
   "cell_type": "markdown",
   "id": "d106b5f0-1808-45c6-8415-9c55b0462766",
   "metadata": {},
   "source": [
    "### DATASET 3: KAGGLE TWITTER"
   ]
  },
  {
   "cell_type": "code",
   "execution_count": 9,
   "id": "d2f87912-c6d0-407c-a6c4-15cdd269da2b",
   "metadata": {},
   "outputs": [],
   "source": [
    "kaggle_racism = pd.read_csv(\"D:/OneDrive - University of Georgia/UGA/Dr. Itai/Racism/racism_kaggle/racism1.csv\",low_memory=False)"
   ]
  },
  {
   "cell_type": "code",
   "execution_count": 11,
   "id": "a5d50fd5-e41e-455a-969c-b6837906aa4a",
   "metadata": {
    "scrolled": true
   },
   "outputs": [
    {
     "data": {
      "text/html": [
       "<div>\n",
       "<style scoped>\n",
       "    .dataframe tbody tr th:only-of-type {\n",
       "        vertical-align: middle;\n",
       "    }\n",
       "\n",
       "    .dataframe tbody tr th {\n",
       "        vertical-align: top;\n",
       "    }\n",
       "\n",
       "    .dataframe thead th {\n",
       "        text-align: right;\n",
       "    }\n",
       "</style>\n",
       "<table border=\"1\" class=\"dataframe\">\n",
       "  <thead>\n",
       "    <tr style=\"text-align: right;\">\n",
       "      <th></th>\n",
       "      <th>Unnamed: 0</th>\n",
       "      <th>id</th>\n",
       "      <th>conversation_id</th>\n",
       "      <th>created_at</th>\n",
       "      <th>date</th>\n",
       "      <th>time</th>\n",
       "      <th>timezone</th>\n",
       "      <th>user_id</th>\n",
       "      <th>username</th>\n",
       "      <th>name</th>\n",
       "      <th>...</th>\n",
       "      <th>user_rt</th>\n",
       "      <th>retweet_id</th>\n",
       "      <th>reply_to</th>\n",
       "      <th>retweet_date</th>\n",
       "      <th>translate</th>\n",
       "      <th>trans_src</th>\n",
       "      <th>trans_dest</th>\n",
       "      <th>cleanText</th>\n",
       "      <th>TextBlob Score</th>\n",
       "      <th>TextBlob Sentiment</th>\n",
       "    </tr>\n",
       "  </thead>\n",
       "  <tbody>\n",
       "    <tr>\n",
       "      <th>0</th>\n",
       "      <td>0</td>\n",
       "      <td>1.400600e+18</td>\n",
       "      <td>1.400210e+18</td>\n",
       "      <td>2021-06-03 18:59:56 Central Daylight Time</td>\n",
       "      <td>6/3/2021</td>\n",
       "      <td>18:59:56</td>\n",
       "      <td>-500</td>\n",
       "      <td>9.292310e+17</td>\n",
       "      <td>rayne_katsune</td>\n",
       "      <td>Rayne ã€ŒThe Nuisanceã€ Katsune ã‚µã‚¿ã‚¢ãƒ«</td>\n",
       "      <td>...</td>\n",
       "      <td>NaN</td>\n",
       "      <td>NaN</td>\n",
       "      <td>[{'screen_name': 'HyperSnoc', 'name': 'Your Lo...</td>\n",
       "      <td>NaN</td>\n",
       "      <td>NaN</td>\n",
       "      <td>NaN</td>\n",
       "      <td>NaN</td>\n",
       "      <td>hypersnoc echo im_not_kit racism</td>\n",
       "      <td>0.00</td>\n",
       "      <td>Neutral</td>\n",
       "    </tr>\n",
       "    <tr>\n",
       "      <th>1</th>\n",
       "      <td>1</td>\n",
       "      <td>1.400600e+18</td>\n",
       "      <td>1.397240e+18</td>\n",
       "      <td>2021-06-03 18:59:55 Central Daylight Time</td>\n",
       "      <td>6/3/2021</td>\n",
       "      <td>18:59:55</td>\n",
       "      <td>-500</td>\n",
       "      <td>5.791119e+08</td>\n",
       "      <td>tonyhasanidea</td>\n",
       "      <td>no one you know</td>\n",
       "      <td>...</td>\n",
       "      <td>NaN</td>\n",
       "      <td>NaN</td>\n",
       "      <td>[{'screen_name': 'manoutdoors4', 'name': 'Stoi...</td>\n",
       "      <td>NaN</td>\n",
       "      <td>NaN</td>\n",
       "      <td>NaN</td>\n",
       "      <td>NaN</td>\n",
       "      <td>manoutdoor aj_lady_liberti fbiwfo thejusticede...</td>\n",
       "      <td>0.05</td>\n",
       "      <td>Positive</td>\n",
       "    </tr>\n",
       "    <tr>\n",
       "      <th>2</th>\n",
       "      <td>2</td>\n",
       "      <td>1.400600e+18</td>\n",
       "      <td>1.400600e+18</td>\n",
       "      <td>2021-06-03 18:59:46 Central Daylight Time</td>\n",
       "      <td>6/3/2021</td>\n",
       "      <td>18:59:46</td>\n",
       "      <td>-500</td>\n",
       "      <td>3.098130e+09</td>\n",
       "      <td>americanist4u</td>\n",
       "      <td>Americanist (Racism and treason are not patrio...</td>\n",
       "      <td>...</td>\n",
       "      <td>NaN</td>\n",
       "      <td>NaN</td>\n",
       "      <td>[]</td>\n",
       "      <td>NaN</td>\n",
       "      <td>NaN</td>\n",
       "      <td>NaN</td>\n",
       "      <td>NaN</td>\n",
       "      <td>trumpisnotwel</td>\n",
       "      <td>0.00</td>\n",
       "      <td>Neutral</td>\n",
       "    </tr>\n",
       "    <tr>\n",
       "      <th>3</th>\n",
       "      <td>3</td>\n",
       "      <td>1.400600e+18</td>\n",
       "      <td>1.400590e+18</td>\n",
       "      <td>2021-06-03 18:59:44 Central Daylight Time</td>\n",
       "      <td>6/3/2021</td>\n",
       "      <td>18:59:44</td>\n",
       "      <td>-500</td>\n",
       "      <td>1.084560e+18</td>\n",
       "      <td>mimizwei</td>\n",
       "      <td>MimiRocheðŸ›¡</td>\n",
       "      <td>...</td>\n",
       "      <td>NaN</td>\n",
       "      <td>NaN</td>\n",
       "      <td>[{'screen_name': 'KateWilliamsme', 'name': 'Pr...</td>\n",
       "      <td>NaN</td>\n",
       "      <td>NaN</td>\n",
       "      <td>NaN</td>\n",
       "      <td>NaN</td>\n",
       "      <td>katewilliamsm annabeth ðÿš racism exempt queen...</td>\n",
       "      <td>0.00</td>\n",
       "      <td>Neutral</td>\n",
       "    </tr>\n",
       "    <tr>\n",
       "      <th>4</th>\n",
       "      <td>4</td>\n",
       "      <td>1.400600e+18</td>\n",
       "      <td>1.400600e+18</td>\n",
       "      <td>2021-06-03 18:59:42 Central Daylight Time</td>\n",
       "      <td>6/3/2021</td>\n",
       "      <td>18:59:42</td>\n",
       "      <td>-500</td>\n",
       "      <td>3.071625e+09</td>\n",
       "      <td>goseemickeyron</td>\n",
       "      <td>Honored to be a Disney Legend</td>\n",
       "      <td>...</td>\n",
       "      <td>NaN</td>\n",
       "      <td>NaN</td>\n",
       "      <td>[{'screen_name': 'WGNNews', 'name': 'WGN TV Ne...</td>\n",
       "      <td>NaN</td>\n",
       "      <td>NaN</td>\n",
       "      <td>NaN</td>\n",
       "      <td>NaN</td>\n",
       "      <td>wgnnew critic race theoryâ noth teach hatr big...</td>\n",
       "      <td>0.00</td>\n",
       "      <td>Neutral</td>\n",
       "    </tr>\n",
       "  </tbody>\n",
       "</table>\n",
       "<p>5 rows × 40 columns</p>\n",
       "</div>"
      ],
      "text/plain": [
       "   Unnamed: 0            id  conversation_id  \\\n",
       "0           0  1.400600e+18     1.400210e+18   \n",
       "1           1  1.400600e+18     1.397240e+18   \n",
       "2           2  1.400600e+18     1.400600e+18   \n",
       "3           3  1.400600e+18     1.400590e+18   \n",
       "4           4  1.400600e+18     1.400600e+18   \n",
       "\n",
       "                                  created_at      date      time  timezone  \\\n",
       "0  2021-06-03 18:59:56 Central Daylight Time  6/3/2021  18:59:56      -500   \n",
       "1  2021-06-03 18:59:55 Central Daylight Time  6/3/2021  18:59:55      -500   \n",
       "2  2021-06-03 18:59:46 Central Daylight Time  6/3/2021  18:59:46      -500   \n",
       "3  2021-06-03 18:59:44 Central Daylight Time  6/3/2021  18:59:44      -500   \n",
       "4  2021-06-03 18:59:42 Central Daylight Time  6/3/2021  18:59:42      -500   \n",
       "\n",
       "        user_id        username  \\\n",
       "0  9.292310e+17   rayne_katsune   \n",
       "1  5.791119e+08   tonyhasanidea   \n",
       "2  3.098130e+09   americanist4u   \n",
       "3  1.084560e+18        mimizwei   \n",
       "4  3.071625e+09  goseemickeyron   \n",
       "\n",
       "                                                name  ... user_rt retweet_id  \\\n",
       "0      Rayne ã€ŒThe Nuisanceã€ Katsune ã‚µã‚¿ã‚¢ãƒ«  ...     NaN        NaN   \n",
       "1                                    no one you know  ...     NaN        NaN   \n",
       "2  Americanist (Racism and treason are not patrio...  ...     NaN        NaN   \n",
       "3                                      MimiRocheðŸ›¡  ...     NaN        NaN   \n",
       "4                      Honored to be a Disney Legend  ...     NaN        NaN   \n",
       "\n",
       "                                            reply_to retweet_date translate  \\\n",
       "0  [{'screen_name': 'HyperSnoc', 'name': 'Your Lo...          NaN       NaN   \n",
       "1  [{'screen_name': 'manoutdoors4', 'name': 'Stoi...          NaN       NaN   \n",
       "2                                                 []          NaN       NaN   \n",
       "3  [{'screen_name': 'KateWilliamsme', 'name': 'Pr...          NaN       NaN   \n",
       "4  [{'screen_name': 'WGNNews', 'name': 'WGN TV Ne...          NaN       NaN   \n",
       "\n",
       "  trans_src  trans_dest                                          cleanText  \\\n",
       "0       NaN         NaN                   hypersnoc echo im_not_kit racism   \n",
       "1       NaN         NaN  manoutdoor aj_lady_liberti fbiwfo thejusticede...   \n",
       "2       NaN         NaN                                      trumpisnotwel   \n",
       "3       NaN         NaN  katewilliamsm annabeth ðÿš racism exempt queen...   \n",
       "4       NaN         NaN  wgnnew critic race theoryâ noth teach hatr big...   \n",
       "\n",
       "   TextBlob Score TextBlob Sentiment  \n",
       "0            0.00            Neutral  \n",
       "1            0.05           Positive  \n",
       "2            0.00            Neutral  \n",
       "3            0.00            Neutral  \n",
       "4            0.00            Neutral  \n",
       "\n",
       "[5 rows x 40 columns]"
      ]
     },
     "execution_count": 11,
     "metadata": {},
     "output_type": "execute_result"
    }
   ],
   "source": [
    "kaggle_racism.head()"
   ]
  },
  {
   "cell_type": "code",
   "execution_count": 13,
   "id": "e5b01752-c96b-4b50-b618-a0dfab3e3ece",
   "metadata": {},
   "outputs": [],
   "source": [
    "kaggle = kaggle_racism[['date','tweet','cleanText','TextBlob Sentiment']]"
   ]
  },
  {
   "cell_type": "code",
   "execution_count": 25,
   "id": "c9e9162b-d1d2-4591-9eea-1977a00cec2e",
   "metadata": {},
   "outputs": [
    {
     "data": {
      "text/html": [
       "<div>\n",
       "<style scoped>\n",
       "    .dataframe tbody tr th:only-of-type {\n",
       "        vertical-align: middle;\n",
       "    }\n",
       "\n",
       "    .dataframe tbody tr th {\n",
       "        vertical-align: top;\n",
       "    }\n",
       "\n",
       "    .dataframe thead th {\n",
       "        text-align: right;\n",
       "    }\n",
       "</style>\n",
       "<table border=\"1\" class=\"dataframe\">\n",
       "  <thead>\n",
       "    <tr style=\"text-align: right;\">\n",
       "      <th></th>\n",
       "      <th>date</th>\n",
       "      <th>tweet</th>\n",
       "      <th>cleanText</th>\n",
       "      <th>TextBlob Sentiment</th>\n",
       "    </tr>\n",
       "  </thead>\n",
       "  <tbody>\n",
       "    <tr>\n",
       "      <th>0</th>\n",
       "      <td>6/3/2021</td>\n",
       "      <td>@HyperSnoc @Echo31334604 @im_not_kit Racism  h...</td>\n",
       "      <td>hypersnoc echo im_not_kit racism</td>\n",
       "      <td>Neutral</td>\n",
       "    </tr>\n",
       "    <tr>\n",
       "      <th>1</th>\n",
       "      <td>6/3/2021</td>\n",
       "      <td>@manoutdoors4 @AJ_Lady_Liberty @FBIWFO @TheJus...</td>\n",
       "      <td>manoutdoor aj_lady_liberti fbiwfo thejusticede...</td>\n",
       "      <td>Positive</td>\n",
       "    </tr>\n",
       "    <tr>\n",
       "      <th>2</th>\n",
       "      <td>6/3/2021</td>\n",
       "      <td>#TrumpIsNotWell  https://t.co/JJl8j4dRK9</td>\n",
       "      <td>trumpisnotwel</td>\n",
       "      <td>Neutral</td>\n",
       "    </tr>\n",
       "    <tr>\n",
       "      <th>3</th>\n",
       "      <td>6/3/2021</td>\n",
       "      <td>@KateWilliamsme @AnnaBethS4 ðŸš¨ \"Racism is ex...</td>\n",
       "      <td>katewilliamsm annabeth ðÿš racism exempt queen...</td>\n",
       "      <td>Neutral</td>\n",
       "    </tr>\n",
       "    <tr>\n",
       "      <th>4</th>\n",
       "      <td>6/3/2021</td>\n",
       "      <td>@WGNNews â€˜Critical race theoryâ€™ is nothing...</td>\n",
       "      <td>wgnnew critic race theoryâ noth teach hatr big...</td>\n",
       "      <td>Neutral</td>\n",
       "    </tr>\n",
       "  </tbody>\n",
       "</table>\n",
       "</div>"
      ],
      "text/plain": [
       "       date                                              tweet  \\\n",
       "0  6/3/2021  @HyperSnoc @Echo31334604 @im_not_kit Racism  h...   \n",
       "1  6/3/2021  @manoutdoors4 @AJ_Lady_Liberty @FBIWFO @TheJus...   \n",
       "2  6/3/2021           #TrumpIsNotWell  https://t.co/JJl8j4dRK9   \n",
       "3  6/3/2021  @KateWilliamsme @AnnaBethS4 ðŸš¨ \"Racism is ex...   \n",
       "4  6/3/2021  @WGNNews â€˜Critical race theoryâ€™ is nothing...   \n",
       "\n",
       "                                           cleanText TextBlob Sentiment  \n",
       "0                   hypersnoc echo im_not_kit racism            Neutral  \n",
       "1  manoutdoor aj_lady_liberti fbiwfo thejusticede...           Positive  \n",
       "2                                      trumpisnotwel            Neutral  \n",
       "3  katewilliamsm annabeth ðÿš racism exempt queen...            Neutral  \n",
       "4  wgnnew critic race theoryâ noth teach hatr big...            Neutral  "
      ]
     },
     "execution_count": 25,
     "metadata": {},
     "output_type": "execute_result"
    }
   ],
   "source": [
    "kaggle.dropna(inplace=True)\n",
    "kaggle.head()"
   ]
  },
  {
   "cell_type": "code",
   "execution_count": 27,
   "id": "49fa2085-fbd9-44b8-9856-01f5d3626c82",
   "metadata": {},
   "outputs": [
    {
     "name": "stderr",
     "output_type": "stream",
     "text": [
      "Processing texts: 100%|██████████████████████████████████████████████████████| 169648/169648 [1:03:10<00:00, 44.76it/s]\n",
      "C:\\Users\\MUDIT BAID\\AppData\\Local\\Temp\\ipykernel_19756\\1810345292.py:1: SettingWithCopyWarning: \n",
      "A value is trying to be set on a copy of a slice from a DataFrame.\n",
      "Try using .loc[row_indexer,col_indexer] = value instead\n",
      "\n",
      "See the caveats in the documentation: https://pandas.pydata.org/pandas-docs/stable/user_guide/indexing.html#returning-a-view-versus-a-copy\n",
      "  kaggle['prediction'] = get_predictions(roberta, kaggle['tweet'])\n"
     ]
    }
   ],
   "source": [
    "kaggle['prediction'] = get_predictions(roberta, kaggle['tweet'])"
   ]
  },
  {
   "cell_type": "code",
   "execution_count": 38,
   "id": "f4da5d25-e66a-4bce-9f6b-d1c5304ce5db",
   "metadata": {},
   "outputs": [
    {
     "ename": "NameError",
     "evalue": "name 'kaggle' is not defined",
     "output_type": "error",
     "traceback": [
      "\u001b[1;31m---------------------------------------------------------------------------\u001b[0m",
      "\u001b[1;31mNameError\u001b[0m                                 Traceback (most recent call last)",
      "Cell \u001b[1;32mIn[38], line 1\u001b[0m\n\u001b[1;32m----> 1\u001b[0m kaggle\u001b[38;5;241m.\u001b[39mhead()\n",
      "\u001b[1;31mNameError\u001b[0m: name 'kaggle' is not defined"
     ]
    }
   ],
   "source": [
    "kaggle.head()"
   ]
  },
  {
   "cell_type": "code",
   "execution_count": 19,
   "id": "f1609a85-f212-4e75-bfad-b36bb9d9636f",
   "metadata": {},
   "outputs": [
    {
     "data": {
      "text/plain": [
       "['Systemic racism does not exiâ€”', nan]"
      ]
     },
     "execution_count": 19,
     "metadata": {},
     "output_type": "execute_result"
    }
   ],
   "source": [
    "kaggle['tweet'].tolist()[234:236]"
   ]
  },
  {
   "cell_type": "code",
   "execution_count": 31,
   "id": "ed99615d-4621-4c65-95ef-97adaf19f415",
   "metadata": {},
   "outputs": [],
   "source": [
    "kaggle.to_csv(\"roberta_kaggle.csv\",index=False)"
   ]
  },
  {
   "cell_type": "markdown",
   "id": "c8daaa52-5b5f-41a3-943c-9921a0bcbd81",
   "metadata": {},
   "source": [
    "### DATASET 4: TWITTER RACISM DATASET"
   ]
  },
  {
   "cell_type": "code",
   "execution_count": 9,
   "id": "a6fd16d8-3390-473e-a1a5-71d1d1fb68a5",
   "metadata": {},
   "outputs": [
    {
     "data": {
      "application/vnd.jupyter.widget-view+json": {
       "model_id": "58115db2815a4a88a194cfaee572e0b4",
       "version_major": 2,
       "version_minor": 0
      },
      "text/plain": [
       "README.md:   0%|          | 0.00/5.58k [00:00<?, ?B/s]"
      ]
     },
     "metadata": {},
     "output_type": "display_data"
    },
    {
     "name": "stderr",
     "output_type": "stream",
     "text": [
      "D:\\Anaconda\\Lib\\site-packages\\huggingface_hub\\file_download.py:140: UserWarning: `huggingface_hub` cache-system uses symlinks by default to efficiently store duplicated files but your machine does not support them in D:\\hf_cache\\hub\\datasets--tweets-hate-speech-detection--tweets_hate_speech_detection. Caching files will still work but in a degraded version that might require more space on your disk. This warning can be disabled by setting the `HF_HUB_DISABLE_SYMLINKS_WARNING` environment variable. For more details, see https://huggingface.co/docs/huggingface_hub/how-to-cache#limitations.\n",
      "To support symlinks on Windows, you either need to activate Developer Mode or to run Python as an administrator. In order to activate developer mode, see this article: https://docs.microsoft.com/en-us/windows/apps/get-started/enable-your-device-for-development\n",
      "  warnings.warn(message)\n"
     ]
    },
    {
     "data": {
      "application/vnd.jupyter.widget-view+json": {
       "model_id": "19a424ba3c1a4b53976243c6e58c496d",
       "version_major": 2,
       "version_minor": 0
      },
      "text/plain": [
       "train-00000-of-00001.parquet:   0%|          | 0.00/2.07M [00:00<?, ?B/s]"
      ]
     },
     "metadata": {},
     "output_type": "display_data"
    },
    {
     "data": {
      "application/vnd.jupyter.widget-view+json": {
       "model_id": "07ce83b216ce47cf80f92ee5ab4ebd64",
       "version_major": 2,
       "version_minor": 0
      },
      "text/plain": [
       "test-00000-of-00001.parquet:   0%|          | 0.00/1.11M [00:00<?, ?B/s]"
      ]
     },
     "metadata": {},
     "output_type": "display_data"
    },
    {
     "data": {
      "application/vnd.jupyter.widget-view+json": {
       "model_id": "5603b9ecbe0f4f1ca362391834df1379",
       "version_major": 2,
       "version_minor": 0
      },
      "text/plain": [
       "Generating train split:   0%|          | 0/31962 [00:00<?, ? examples/s]"
      ]
     },
     "metadata": {},
     "output_type": "display_data"
    },
    {
     "data": {
      "application/vnd.jupyter.widget-view+json": {
       "model_id": "9dd0662bd51741bfb372f5d64c827d9d",
       "version_major": 2,
       "version_minor": 0
      },
      "text/plain": [
       "Generating test split:   0%|          | 0/17197 [00:00<?, ? examples/s]"
      ]
     },
     "metadata": {},
     "output_type": "display_data"
    }
   ],
   "source": [
    "from datasets import load_dataset\n",
    "\n",
    "ds = load_dataset(\"tweets-hate-speech-detection/tweets_hate_speech_detection\")"
   ]
  },
  {
   "cell_type": "code",
   "execution_count": 11,
   "id": "b6cfe924-aa6f-4874-8dd8-bc9789093093",
   "metadata": {},
   "outputs": [
    {
     "data": {
      "text/plain": [
       "DatasetDict({\n",
       "    train: Dataset({\n",
       "        features: ['label', 'tweet'],\n",
       "        num_rows: 31962\n",
       "    })\n",
       "    test: Dataset({\n",
       "        features: ['label', 'tweet'],\n",
       "        num_rows: 17197\n",
       "    })\n",
       "})"
      ]
     },
     "execution_count": 11,
     "metadata": {},
     "output_type": "execute_result"
    }
   ],
   "source": [
    "ds"
   ]
  },
  {
   "cell_type": "code",
   "execution_count": 31,
   "id": "78ac1d74-91dc-4f4d-a514-7e9591656078",
   "metadata": {},
   "outputs": [],
   "source": [
    "twitter = ds['train'].to_pandas()"
   ]
  },
  {
   "cell_type": "code",
   "execution_count": 33,
   "id": "dc8aeed9-de42-4268-ae66-120c9b45bbf7",
   "metadata": {},
   "outputs": [
    {
     "data": {
      "text/html": [
       "<div>\n",
       "<style scoped>\n",
       "    .dataframe tbody tr th:only-of-type {\n",
       "        vertical-align: middle;\n",
       "    }\n",
       "\n",
       "    .dataframe tbody tr th {\n",
       "        vertical-align: top;\n",
       "    }\n",
       "\n",
       "    .dataframe thead th {\n",
       "        text-align: right;\n",
       "    }\n",
       "</style>\n",
       "<table border=\"1\" class=\"dataframe\">\n",
       "  <thead>\n",
       "    <tr style=\"text-align: right;\">\n",
       "      <th></th>\n",
       "      <th>label</th>\n",
       "      <th>tweet</th>\n",
       "    </tr>\n",
       "  </thead>\n",
       "  <tbody>\n",
       "    <tr>\n",
       "      <th>0</th>\n",
       "      <td>0</td>\n",
       "      <td>@user when a father is dysfunctional and is so...</td>\n",
       "    </tr>\n",
       "    <tr>\n",
       "      <th>1</th>\n",
       "      <td>0</td>\n",
       "      <td>@user @user thanks for #lyft credit i can't us...</td>\n",
       "    </tr>\n",
       "    <tr>\n",
       "      <th>2</th>\n",
       "      <td>0</td>\n",
       "      <td>bihday your majesty</td>\n",
       "    </tr>\n",
       "    <tr>\n",
       "      <th>3</th>\n",
       "      <td>0</td>\n",
       "      <td>#model   i love u take with u all the time in ...</td>\n",
       "    </tr>\n",
       "    <tr>\n",
       "      <th>4</th>\n",
       "      <td>0</td>\n",
       "      <td>factsguide: society now    #motivation</td>\n",
       "    </tr>\n",
       "  </tbody>\n",
       "</table>\n",
       "</div>"
      ],
      "text/plain": [
       "   label                                              tweet\n",
       "0      0  @user when a father is dysfunctional and is so...\n",
       "1      0  @user @user thanks for #lyft credit i can't us...\n",
       "2      0                                bihday your majesty\n",
       "3      0  #model   i love u take with u all the time in ...\n",
       "4      0             factsguide: society now    #motivation"
      ]
     },
     "execution_count": 33,
     "metadata": {},
     "output_type": "execute_result"
    }
   ],
   "source": [
    "twitter.head()"
   ]
  },
  {
   "cell_type": "code",
   "execution_count": 37,
   "id": "5c5fefb7-94cd-4eae-9423-42ca1cdae8b6",
   "metadata": {},
   "outputs": [
    {
     "name": "stderr",
     "output_type": "stream",
     "text": [
      "Processing texts: 100%|██████████████████████████████████████████████████████████| 31962/31962 [13:02<00:00, 40.84it/s]\n"
     ]
    },
    {
     "data": {
      "text/html": [
       "<div>\n",
       "<style scoped>\n",
       "    .dataframe tbody tr th:only-of-type {\n",
       "        vertical-align: middle;\n",
       "    }\n",
       "\n",
       "    .dataframe tbody tr th {\n",
       "        vertical-align: top;\n",
       "    }\n",
       "\n",
       "    .dataframe thead th {\n",
       "        text-align: right;\n",
       "    }\n",
       "</style>\n",
       "<table border=\"1\" class=\"dataframe\">\n",
       "  <thead>\n",
       "    <tr style=\"text-align: right;\">\n",
       "      <th></th>\n",
       "      <th>label</th>\n",
       "      <th>tweet</th>\n",
       "      <th>prediction</th>\n",
       "    </tr>\n",
       "  </thead>\n",
       "  <tbody>\n",
       "    <tr>\n",
       "      <th>0</th>\n",
       "      <td>0</td>\n",
       "      <td>@user when a father is dysfunctional and is so...</td>\n",
       "      <td>NOT-HATE</td>\n",
       "    </tr>\n",
       "    <tr>\n",
       "      <th>1</th>\n",
       "      <td>0</td>\n",
       "      <td>@user @user thanks for #lyft credit i can't us...</td>\n",
       "      <td>NOT-HATE</td>\n",
       "    </tr>\n",
       "    <tr>\n",
       "      <th>2</th>\n",
       "      <td>0</td>\n",
       "      <td>bihday your majesty</td>\n",
       "      <td>NOT-HATE</td>\n",
       "    </tr>\n",
       "    <tr>\n",
       "      <th>3</th>\n",
       "      <td>0</td>\n",
       "      <td>#model   i love u take with u all the time in ...</td>\n",
       "      <td>NOT-HATE</td>\n",
       "    </tr>\n",
       "    <tr>\n",
       "      <th>4</th>\n",
       "      <td>0</td>\n",
       "      <td>factsguide: society now    #motivation</td>\n",
       "      <td>NOT-HATE</td>\n",
       "    </tr>\n",
       "  </tbody>\n",
       "</table>\n",
       "</div>"
      ],
      "text/plain": [
       "   label                                              tweet prediction\n",
       "0      0  @user when a father is dysfunctional and is so...   NOT-HATE\n",
       "1      0  @user @user thanks for #lyft credit i can't us...   NOT-HATE\n",
       "2      0                                bihday your majesty   NOT-HATE\n",
       "3      0  #model   i love u take with u all the time in ...   NOT-HATE\n",
       "4      0             factsguide: society now    #motivation   NOT-HATE"
      ]
     },
     "execution_count": 37,
     "metadata": {},
     "output_type": "execute_result"
    }
   ],
   "source": [
    "twitter['prediction'] = get_predictions(roberta,twitter['tweet'])\n",
    "twitter.head()"
   ]
  },
  {
   "cell_type": "code",
   "execution_count": 68,
   "id": "b5af18b9-68a2-4bbc-9588-f5edf4d4d69b",
   "metadata": {},
   "outputs": [
    {
     "name": "stdout",
     "output_type": "stream",
     "text": [
      "label counts:  label\n",
      "0    29720\n",
      "1     2242\n",
      "Name: count, dtype: int64\n",
      "prediction counts:  prediction\n",
      "not_racism    30512\n",
      "racism         1450\n",
      "Name: count, dtype: int64\n"
     ]
    }
   ],
   "source": [
    "print('label counts: ',twitter['label'].value_counts())\n",
    "print('prediction counts: ',twitter['prediction'].value_counts())"
   ]
  },
  {
   "cell_type": "code",
   "execution_count": 40,
   "id": "29d24f7a-e943-4b5f-b412-fc993bea0d17",
   "metadata": {},
   "outputs": [],
   "source": [
    "twitter.to_csv('roberta_twitter.csv',index=False)"
   ]
  },
  {
   "cell_type": "code",
   "execution_count": 72,
   "id": "f5c88ff2-f27b-40a9-94c7-08090d8e6671",
   "metadata": {},
   "outputs": [
    {
     "data": {
      "text/html": [
       "<div>\n",
       "<style scoped>\n",
       "    .dataframe tbody tr th:only-of-type {\n",
       "        vertical-align: middle;\n",
       "    }\n",
       "\n",
       "    .dataframe tbody tr th {\n",
       "        vertical-align: top;\n",
       "    }\n",
       "\n",
       "    .dataframe thead th {\n",
       "        text-align: right;\n",
       "    }\n",
       "</style>\n",
       "<table border=\"1\" class=\"dataframe\">\n",
       "  <thead>\n",
       "    <tr style=\"text-align: right;\">\n",
       "      <th></th>\n",
       "      <th>label</th>\n",
       "      <th>tweet</th>\n",
       "      <th>prediction</th>\n",
       "      <th>prediction_binary</th>\n",
       "    </tr>\n",
       "  </thead>\n",
       "  <tbody>\n",
       "    <tr>\n",
       "      <th>0</th>\n",
       "      <td>0</td>\n",
       "      <td>@user when a father is dysfunctional and is so...</td>\n",
       "      <td>not_racism</td>\n",
       "      <td>0</td>\n",
       "    </tr>\n",
       "    <tr>\n",
       "      <th>1</th>\n",
       "      <td>0</td>\n",
       "      <td>@user @user thanks for #lyft credit i can't us...</td>\n",
       "      <td>not_racism</td>\n",
       "      <td>0</td>\n",
       "    </tr>\n",
       "    <tr>\n",
       "      <th>2</th>\n",
       "      <td>0</td>\n",
       "      <td>bihday your majesty</td>\n",
       "      <td>not_racism</td>\n",
       "      <td>0</td>\n",
       "    </tr>\n",
       "    <tr>\n",
       "      <th>3</th>\n",
       "      <td>0</td>\n",
       "      <td>#model   i love u take with u all the time in ...</td>\n",
       "      <td>not_racism</td>\n",
       "      <td>0</td>\n",
       "    </tr>\n",
       "    <tr>\n",
       "      <th>4</th>\n",
       "      <td>0</td>\n",
       "      <td>factsguide: society now    #motivation</td>\n",
       "      <td>not_racism</td>\n",
       "      <td>0</td>\n",
       "    </tr>\n",
       "  </tbody>\n",
       "</table>\n",
       "</div>"
      ],
      "text/plain": [
       "   label                                              tweet  prediction  \\\n",
       "0      0  @user when a father is dysfunctional and is so...  not_racism   \n",
       "1      0  @user @user thanks for #lyft credit i can't us...  not_racism   \n",
       "2      0                                bihday your majesty  not_racism   \n",
       "3      0  #model   i love u take with u all the time in ...  not_racism   \n",
       "4      0             factsguide: society now    #motivation  not_racism   \n",
       "\n",
       "   prediction_binary  \n",
       "0                  0  \n",
       "1                  0  \n",
       "2                  0  \n",
       "3                  0  \n",
       "4                  0  "
      ]
     },
     "execution_count": 72,
     "metadata": {},
     "output_type": "execute_result"
    }
   ],
   "source": [
    "twitter.head()"
   ]
  },
  {
   "cell_type": "code",
   "execution_count": 82,
   "id": "95c05cf8-6e82-4ab5-a5ed-93e8fa053dfd",
   "metadata": {},
   "outputs": [
    {
     "name": "stdout",
     "output_type": "stream",
     "text": [
      "Accuracy: 0.9103\n",
      "F1 Score: 0.2232\n",
      "Confusion Matrix:\n",
      "[[28682  1038]\n",
      " [ 1830   412]]\n"
     ]
    },
    {
     "data": {
      "image/png": "[encoded data removed]",
      "text/plain": [
       "<Figure size 800x600 with 2 Axes>"
      ]
     },
     "metadata": {},
     "output_type": "display_data"
    }
   ],
   "source": [
    "from sklearn.metrics import confusion_matrix, accuracy_score, precision_score, recall_score, f1_score\n",
    "# # Replace prediction values in twitter DataFrame\n",
    "# twitter['prediction'] = twitter['prediction'].replace({\"NOT-HATE\": \"not_racism\", \"HATE\": \"racism\"})\n",
    "\n",
    "# # Convert twitter['prediction'] to binary integer\n",
    "# twitter['prediction_binary'] = twitter['prediction'].map({\"racism\": 1, \"not_racism\": 0})\n",
    "\n",
    "# racism_filter = twitter['label'] == 1\n",
    "\n",
    "# Calculate Metrics for 'racism' only\n",
    "accuracy = accuracy_score(twitter['label'], twitter['prediction_binary'])\n",
    "f1 = f1_score(twitter['label'], twitter['prediction_binary'])\n",
    "conf_matrix = confusion_matrix(twitter['label'], twitter['prediction_binary'])\n",
    "\n",
    "# Display the metrics\n",
    "print(f\"Accuracy: {accuracy:.4f}\")\n",
    "print(f\"F1 Score: {f1:.4f}\")\n",
    "print(\"Confusion Matrix:\")\n",
    "print(conf_matrix)\n",
    "\n",
    "# Plot the Confusion Matrix\n",
    "import matplotlib.pyplot as plt\n",
    "import seaborn as sns\n",
    "\n",
    "plt.figure(figsize=(8, 6))\n",
    "ax = sns.heatmap(conf_matrix, annot=True, fmt=\"d\", cmap=\"Blues\",\n",
    "                 xticklabels=[\"Non-Racist\", \"Racist\"], yticklabels=[\"Non-Racist\", \"Racist\"])\n",
    "ax.set_title(f\"Confusion Matrix for 'Racism'\\nAccuracy: {accuracy:.4f}, F1 Score: {f1:.4f}\")\n",
    "ax.set_xlabel(\"Predicted Label\")\n",
    "ax.set_ylabel(\"True Label\")\n",
    "plt.show()"
   ]
  },
  {
   "cell_type": "code",
   "execution_count": null,
   "id": "9debd630-20dd-4ee9-a5f5-0d0b5bacf93c",
   "metadata": {},
   "outputs": [],
   "source": []
  }
 ],
 "metadata": {
  "kernelspec": {
   "display_name": "Python 3 (ipykernel)",
   "language": "python",
   "name": "python3"
  },
  "language_info": {
   "codemirror_mode": {
    "name": "ipython",
    "version": 3
   },
   "file_extension": ".py",
   "mimetype": "text/x-python",
   "name": "python",
   "nbconvert_exporter": "python",
   "pygments_lexer": "ipython3",
   "version": "3.12.7"
  }
 },
 "nbformat": 4,
 "nbformat_minor": 5
}
