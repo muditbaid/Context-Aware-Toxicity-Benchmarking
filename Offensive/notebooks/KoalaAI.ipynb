{
 "cells": [
  {
   "cell_type": "code",
   "execution_count": null,
   "metadata": {},
   "outputs": [],
   "source": [
    "import numpy as np\n",
    "import pandas as pd\n",
    "import tqdm as tqdm\n",
    "import torch\n",
    "import sys\n",
    "import os\n",
    "import importlib\n",
    "\n",
    "sys.path.append(os.path.abspath(\"../\"))  # Add directory\n",
    "import eval_metrics  # Import module\n",
    "\n",
    "# Reload if modified\n",
    "importlib.reload(eval_metrics)\n",
    "from eval_metrics import evaluate_model, custom_threshold_condition"
   ]
  },
  {
   "cell_type": "code",
   "execution_count": null,
   "metadata": {},
   "outputs": [],
   "source": [
    "# Load model directly\n",
    "from transformers import AutoTokenizer, AutoModelForSequenceClassification\n",
    "\n",
    "tokenizer = AutoTokenizer.from_pretrained(\"KoalaAI/OffensiveSpeechDetector\")\n",
    "model = AutoModelForSequenceClassification.from_pretrained(\"KoalaAI/OffensiveSpeechDetector\")\n",
    "\n",
    "device = torch.device(\"cuda\" if torch.cuda.is_available() else \"cpu\")\n",
    "model.to(device)"
   ]
  },
  {
   "cell_type": "code",
   "execution_count": 3,
   "metadata": {},
   "outputs": [],
   "source": [
    "import torch\n",
    "import torch.nn.functional as F\n",
    "from tqdm import tqdm\n",
    "\n",
    "def classify_tweets_batch(texts, model, tokenizer, device):\n",
    "    \"\"\"\n",
    "    Classifies a list of tweets in a single batch.\n",
    "\n",
    "    Args:\n",
    "        texts (list): List of tweet strings.\n",
    "        model: Pre-trained sequence classification model.\n",
    "        tokenizer: Corresponding tokenizer.\n",
    "        device (str): Device to run inference on.\n",
    "\n",
    "    Returns:\n",
    "        List of predicted labels.\n",
    "    \"\"\"\n",
    "    # Tokenize a batch of texts with padding and truncation\n",
    "    inputs = tokenizer(texts, return_tensors=\"pt\", truncation=True, padding=True)\n",
    "    # Move inputs to the specified device\n",
    "    inputs = {key: value.to(device) for key, value in inputs.items()}\n",
    "\n",
    "    with torch.no_grad():\n",
    "        outputs = model(**inputs)\n",
    "\n",
    "    logits = outputs.logits\n",
    "    probs = F.softmax(logits, dim=-1)\n",
    "    # Get predictions as a list (moved to CPU)\n",
    "    predicted_idxs = torch.argmax(probs, dim=-1).cpu().tolist()\n",
    "\n",
    "    # Convert indices to labels if possible\n",
    "    labels = []\n",
    "    for idx in predicted_idxs:\n",
    "        if hasattr(model.config, \"id2label\"):\n",
    "            labels.append(model.config.id2label[idx])\n",
    "        else:\n",
    "            labels.append(str(idx))\n",
    "\n",
    "    # Clean up CUDA memory\n",
    "    del inputs, outputs, logits, probs\n",
    "    torch.cuda.empty_cache()\n",
    "\n",
    "    return labels\n",
    "\n",
    "def classify_dataset(df, text_column=\"text\", batch_size=32, model=None, tokenizer=None, device=\"cuda\"):\n",
    "    \"\"\"\n",
    "    Classifies tweets in the DataFrame using batch processing.\n",
    "\n",
    "    Args:\n",
    "        df (pandas.DataFrame): DataFrame containing tweet texts.\n",
    "        text_column (str): Name of the column containing tweets.\n",
    "        batch_size (int): Number of tweets to process per batch.\n",
    "        model: Pre-trained sequence classification model.\n",
    "        tokenizer: Corresponding tokenizer.\n",
    "        device (str): Device to run inference on.\n",
    "\n",
    "    Returns:\n",
    "        DataFrame with a new 'prediction' column.\n",
    "    \"\"\"\n",
    "    predictions = []\n",
    "    texts = df[text_column].tolist()\n",
    "\n",
    "    # Process tweets in batches with a progress bar\n",
    "    for i in tqdm(range(0, len(texts), batch_size), desc=\"Classifying batches\"):\n",
    "        batch = texts[i:i + batch_size]\n",
    "        batch_preds = classify_tweets_batch(batch, model, tokenizer, device)\n",
    "        predictions.extend(batch_preds)\n",
    "\n",
    "    df[\"prediction\"] = predictions\n",
    "    return df\n"
   ]
  },
  {
   "cell_type": "markdown",
   "metadata": {},
   "source": [
    "### OffensiveLang"
   ]
  },
  {
   "cell_type": "code",
   "execution_count": 6,
   "metadata": {},
   "outputs": [
    {
     "data": {
      "text/html": [
       "<div>\n",
       "<style scoped>\n",
       "    .dataframe tbody tr th:only-of-type {\n",
       "        vertical-align: middle;\n",
       "    }\n",
       "\n",
       "    .dataframe tbody tr th {\n",
       "        vertical-align: top;\n",
       "    }\n",
       "\n",
       "    .dataframe thead th {\n",
       "        text-align: right;\n",
       "    }\n",
       "</style>\n",
       "<table border=\"1\" class=\"dataframe\">\n",
       "  <thead>\n",
       "    <tr style=\"text-align: right;\">\n",
       "      <th></th>\n",
       "      <th>Text</th>\n",
       "      <th>Category</th>\n",
       "      <th>Target Group</th>\n",
       "      <th>Final Annotation</th>\n",
       "      <th>OpenAI_Annotation</th>\n",
       "      <th>Annotator1</th>\n",
       "      <th>Annotator2</th>\n",
       "      <th>Annotator3</th>\n",
       "    </tr>\n",
       "  </thead>\n",
       "  <tbody>\n",
       "    <tr>\n",
       "      <th>0</th>\n",
       "      <td>Your recent performances are lacking the spark...</td>\n",
       "      <td>Occupation</td>\n",
       "      <td>Actor</td>\n",
       "      <td>Offensive</td>\n",
       "      <td>Not Offensive</td>\n",
       "      <td>Not Offensive</td>\n",
       "      <td>Offensive</td>\n",
       "      <td>Offensive</td>\n",
       "    </tr>\n",
       "    <tr>\n",
       "      <th>1</th>\n",
       "      <td>I heard your agent is struggling to find you q...</td>\n",
       "      <td>Occupation</td>\n",
       "      <td>Actor</td>\n",
       "      <td>Offensive</td>\n",
       "      <td>Offensive</td>\n",
       "      <td>Offensive</td>\n",
       "      <td>Offensive</td>\n",
       "      <td>Offensive</td>\n",
       "    </tr>\n",
       "    <tr>\n",
       "      <th>2</th>\n",
       "      <td>Your character lacked depth; it felt like a ca...</td>\n",
       "      <td>Occupation</td>\n",
       "      <td>Actor</td>\n",
       "      <td>Offensive</td>\n",
       "      <td>Not Offensive</td>\n",
       "      <td>Offensive</td>\n",
       "      <td>Offensive</td>\n",
       "      <td>Offensive</td>\n",
       "    </tr>\n",
       "    <tr>\n",
       "      <th>3</th>\n",
       "      <td>You were overshadowed by the set design; it wa...</td>\n",
       "      <td>Occupation</td>\n",
       "      <td>Actor</td>\n",
       "      <td>Offensive</td>\n",
       "      <td>Offensive</td>\n",
       "      <td>Offensive</td>\n",
       "      <td>Offensive</td>\n",
       "      <td>Not Offensive</td>\n",
       "    </tr>\n",
       "    <tr>\n",
       "      <th>4</th>\n",
       "      <td>You're not as talented as [another actor] in t...</td>\n",
       "      <td>Occupation</td>\n",
       "      <td>Actor</td>\n",
       "      <td>Offensive</td>\n",
       "      <td>Offensive</td>\n",
       "      <td>Offensive</td>\n",
       "      <td>Not Offensive</td>\n",
       "      <td>Offensive</td>\n",
       "    </tr>\n",
       "  </tbody>\n",
       "</table>\n",
       "</div>"
      ],
      "text/plain": [
       "                                                Text    Category Target Group  \\\n",
       "0  Your recent performances are lacking the spark...  Occupation        Actor   \n",
       "1  I heard your agent is struggling to find you q...  Occupation        Actor   \n",
       "2  Your character lacked depth; it felt like a ca...  Occupation        Actor   \n",
       "3  You were overshadowed by the set design; it wa...  Occupation        Actor   \n",
       "4  You're not as talented as [another actor] in t...  Occupation        Actor   \n",
       "\n",
       "  Final Annotation OpenAI_Annotation     Annotator1     Annotator2  \\\n",
       "0        Offensive     Not Offensive  Not Offensive      Offensive   \n",
       "1        Offensive         Offensive      Offensive      Offensive   \n",
       "2        Offensive     Not Offensive      Offensive      Offensive   \n",
       "3        Offensive         Offensive      Offensive      Offensive   \n",
       "4        Offensive         Offensive      Offensive  Not Offensive   \n",
       "\n",
       "      Annotator3  \n",
       "0      Offensive  \n",
       "1      Offensive  \n",
       "2      Offensive  \n",
       "3  Not Offensive  \n",
       "4      Offensive  "
      ]
     },
     "execution_count": 6,
     "metadata": {},
     "output_type": "execute_result"
    }
   ],
   "source": [
    "offlang = pd.read_csv(\"./OffensiveLang/OffensiveLang.csv\")\n",
    "offlang.head()"
   ]
  },
  {
   "cell_type": "code",
   "execution_count": 7,
   "metadata": {},
   "outputs": [],
   "source": [
    "offlang['true_label'] = offlang['Final Annotation'].apply(lambda x: 1 if x == 'Offensive' else 0)"
   ]
  },
  {
   "cell_type": "code",
   "execution_count": 9,
   "metadata": {},
   "outputs": [
    {
     "name": "stderr",
     "output_type": "stream",
     "text": [
      "Classifying batches: 100%|██████████| 259/259 [00:35<00:00,  7.36it/s]\n"
     ]
    }
   ],
   "source": [
    "offlang = classify_dataset(offlang, text_column=\"Text\", batch_size=32, model=model, tokenizer=tokenizer, device=device)"
   ]
  },
  {
   "cell_type": "code",
   "execution_count": 10,
   "metadata": {},
   "outputs": [
    {
     "data": {
      "text/html": [
       "<div>\n",
       "<style scoped>\n",
       "    .dataframe tbody tr th:only-of-type {\n",
       "        vertical-align: middle;\n",
       "    }\n",
       "\n",
       "    .dataframe tbody tr th {\n",
       "        vertical-align: top;\n",
       "    }\n",
       "\n",
       "    .dataframe thead th {\n",
       "        text-align: right;\n",
       "    }\n",
       "</style>\n",
       "<table border=\"1\" class=\"dataframe\">\n",
       "  <thead>\n",
       "    <tr style=\"text-align: right;\">\n",
       "      <th></th>\n",
       "      <th>Text</th>\n",
       "      <th>Category</th>\n",
       "      <th>Target Group</th>\n",
       "      <th>Final Annotation</th>\n",
       "      <th>OpenAI_Annotation</th>\n",
       "      <th>Annotator1</th>\n",
       "      <th>Annotator2</th>\n",
       "      <th>Annotator3</th>\n",
       "      <th>true_label</th>\n",
       "      <th>prediction</th>\n",
       "    </tr>\n",
       "  </thead>\n",
       "  <tbody>\n",
       "    <tr>\n",
       "      <th>0</th>\n",
       "      <td>Your recent performances are lacking the spark...</td>\n",
       "      <td>Occupation</td>\n",
       "      <td>Actor</td>\n",
       "      <td>Offensive</td>\n",
       "      <td>Not Offensive</td>\n",
       "      <td>Not Offensive</td>\n",
       "      <td>Offensive</td>\n",
       "      <td>Offensive</td>\n",
       "      <td>1</td>\n",
       "      <td>non-offensive</td>\n",
       "    </tr>\n",
       "    <tr>\n",
       "      <th>1</th>\n",
       "      <td>I heard your agent is struggling to find you q...</td>\n",
       "      <td>Occupation</td>\n",
       "      <td>Actor</td>\n",
       "      <td>Offensive</td>\n",
       "      <td>Offensive</td>\n",
       "      <td>Offensive</td>\n",
       "      <td>Offensive</td>\n",
       "      <td>Offensive</td>\n",
       "      <td>1</td>\n",
       "      <td>non-offensive</td>\n",
       "    </tr>\n",
       "    <tr>\n",
       "      <th>2</th>\n",
       "      <td>Your character lacked depth; it felt like a ca...</td>\n",
       "      <td>Occupation</td>\n",
       "      <td>Actor</td>\n",
       "      <td>Offensive</td>\n",
       "      <td>Not Offensive</td>\n",
       "      <td>Offensive</td>\n",
       "      <td>Offensive</td>\n",
       "      <td>Offensive</td>\n",
       "      <td>1</td>\n",
       "      <td>non-offensive</td>\n",
       "    </tr>\n",
       "    <tr>\n",
       "      <th>3</th>\n",
       "      <td>You were overshadowed by the set design; it wa...</td>\n",
       "      <td>Occupation</td>\n",
       "      <td>Actor</td>\n",
       "      <td>Offensive</td>\n",
       "      <td>Offensive</td>\n",
       "      <td>Offensive</td>\n",
       "      <td>Offensive</td>\n",
       "      <td>Not Offensive</td>\n",
       "      <td>1</td>\n",
       "      <td>non-offensive</td>\n",
       "    </tr>\n",
       "    <tr>\n",
       "      <th>4</th>\n",
       "      <td>You're not as talented as [another actor] in t...</td>\n",
       "      <td>Occupation</td>\n",
       "      <td>Actor</td>\n",
       "      <td>Offensive</td>\n",
       "      <td>Offensive</td>\n",
       "      <td>Offensive</td>\n",
       "      <td>Not Offensive</td>\n",
       "      <td>Offensive</td>\n",
       "      <td>1</td>\n",
       "      <td>non-offensive</td>\n",
       "    </tr>\n",
       "  </tbody>\n",
       "</table>\n",
       "</div>"
      ],
      "text/plain": [
       "                                                Text    Category Target Group  \\\n",
       "0  Your recent performances are lacking the spark...  Occupation        Actor   \n",
       "1  I heard your agent is struggling to find you q...  Occupation        Actor   \n",
       "2  Your character lacked depth; it felt like a ca...  Occupation        Actor   \n",
       "3  You were overshadowed by the set design; it wa...  Occupation        Actor   \n",
       "4  You're not as talented as [another actor] in t...  Occupation        Actor   \n",
       "\n",
       "  Final Annotation OpenAI_Annotation     Annotator1     Annotator2  \\\n",
       "0        Offensive     Not Offensive  Not Offensive      Offensive   \n",
       "1        Offensive         Offensive      Offensive      Offensive   \n",
       "2        Offensive     Not Offensive      Offensive      Offensive   \n",
       "3        Offensive         Offensive      Offensive      Offensive   \n",
       "4        Offensive         Offensive      Offensive  Not Offensive   \n",
       "\n",
       "      Annotator3  true_label     prediction  \n",
       "0      Offensive           1  non-offensive  \n",
       "1      Offensive           1  non-offensive  \n",
       "2      Offensive           1  non-offensive  \n",
       "3  Not Offensive           1  non-offensive  \n",
       "4      Offensive           1  non-offensive  "
      ]
     },
     "execution_count": 10,
     "metadata": {},
     "output_type": "execute_result"
    }
   ],
   "source": [
    "offlang.head()"
   ]
  },
  {
   "cell_type": "code",
   "execution_count": 11,
   "metadata": {},
   "outputs": [],
   "source": [
    "offlang['pred_label'] = offlang['prediction'].apply(lambda x: 1 if x == 'offensive' else 0)"
   ]
  },
  {
   "cell_type": "code",
   "execution_count": 13,
   "metadata": {},
   "outputs": [
    {
     "name": "stdout",
     "output_type": "stream",
     "text": [
      "\n",
      "📊 Classification Report:\n",
      "               precision    recall  f1-score   support\n",
      "\n",
      "Not Offensive       0.22      0.97      0.36      1748\n",
      "    Offensive       0.89      0.07      0.14      6522\n",
      "\n",
      "     accuracy                           0.26      8270\n",
      "    macro avg       0.56      0.52      0.25      8270\n",
      " weighted avg       0.75      0.26      0.18      8270\n",
      "\n",
      "\n",
      "✅ Accuracy: 0.2634\n",
      "✅ Precision: 0.8923\n",
      "✅ Recall: 0.0750\n",
      "✅ F1 Score: 0.1383\n"
     ]
    },
    {
     "data": {
      "image/png": "[encoded data removed]",
      "text/plain": [
       "<Figure size 600x500 with 2 Axes>"
      ]
     },
     "metadata": {},
     "output_type": "display_data"
    }
   ],
   "source": [
    "evaluate_model(y_true = offlang['true_label'],y_pred = offlang['pred_label'],class_labels=['Not Offensive','Offensive'])"
   ]
  },
  {
   "cell_type": "code",
   "execution_count": 14,
   "metadata": {},
   "outputs": [],
   "source": [
    "offlang.to_csv('offlang_koalaai.csv',index=False)"
   ]
  },
  {
   "cell_type": "markdown",
   "metadata": {},
   "source": [
    "### TDavidson"
   ]
  },
  {
   "cell_type": "code",
   "execution_count": 15,
   "metadata": {},
   "outputs": [
    {
     "data": {
      "application/vnd.jupyter.widget-view+json": {
       "model_id": "dfb552df780247aea3221fd61a147746",
       "version_major": 2,
       "version_minor": 0
      },
      "text/plain": [
       "README.md:   0%|          | 0.00/5.92k [00:00<?, ?B/s]"
      ]
     },
     "metadata": {},
     "output_type": "display_data"
    },
    {
     "name": "stderr",
     "output_type": "stream",
     "text": [
      "d:\\Anaconda\\Lib\\site-packages\\huggingface_hub\\file_download.py:140: UserWarning: `huggingface_hub` cache-system uses symlinks by default to efficiently store duplicated files but your machine does not support them in D:\\hf_cache\\hub\\datasets--tdavidson--hate_speech_offensive. Caching files will still work but in a degraded version that might require more space on your disk. This warning can be disabled by setting the `HF_HUB_DISABLE_SYMLINKS_WARNING` environment variable. For more details, see https://huggingface.co/docs/huggingface_hub/how-to-cache#limitations.\n",
      "To support symlinks on Windows, you either need to activate Developer Mode or to run Python as an administrator. In order to activate developer mode, see this article: https://docs.microsoft.com/en-us/windows/apps/get-started/enable-your-device-for-development\n",
      "  warnings.warn(message)\n"
     ]
    },
    {
     "data": {
      "application/vnd.jupyter.widget-view+json": {
       "model_id": "b170a24ecbe5486da8105c60f2c24d1c",
       "version_major": 2,
       "version_minor": 0
      },
      "text/plain": [
       "train-00000-of-00001.parquet:   0%|          | 0.00/1.63M [00:00<?, ?B/s]"
      ]
     },
     "metadata": {},
     "output_type": "display_data"
    },
    {
     "data": {
      "application/vnd.jupyter.widget-view+json": {
       "model_id": "0f947e9da05a49d4ac59a0567164541f",
       "version_major": 2,
       "version_minor": 0
      },
      "text/plain": [
       "Generating train split:   0%|          | 0/24783 [00:00<?, ? examples/s]"
      ]
     },
     "metadata": {},
     "output_type": "display_data"
    }
   ],
   "source": [
    "from datasets import load_dataset\n",
    "\n",
    "ds = load_dataset(\"tdavidson/hate_speech_offensive\")"
   ]
  },
  {
   "cell_type": "code",
   "execution_count": 16,
   "metadata": {},
   "outputs": [
    {
     "data": {
      "text/html": [
       "<div>\n",
       "<style scoped>\n",
       "    .dataframe tbody tr th:only-of-type {\n",
       "        vertical-align: middle;\n",
       "    }\n",
       "\n",
       "    .dataframe tbody tr th {\n",
       "        vertical-align: top;\n",
       "    }\n",
       "\n",
       "    .dataframe thead th {\n",
       "        text-align: right;\n",
       "    }\n",
       "</style>\n",
       "<table border=\"1\" class=\"dataframe\">\n",
       "  <thead>\n",
       "    <tr style=\"text-align: right;\">\n",
       "      <th></th>\n",
       "      <th>count</th>\n",
       "      <th>hate_speech_count</th>\n",
       "      <th>offensive_language_count</th>\n",
       "      <th>neither_count</th>\n",
       "      <th>class</th>\n",
       "      <th>tweet</th>\n",
       "    </tr>\n",
       "  </thead>\n",
       "  <tbody>\n",
       "    <tr>\n",
       "      <th>0</th>\n",
       "      <td>3</td>\n",
       "      <td>0</td>\n",
       "      <td>0</td>\n",
       "      <td>3</td>\n",
       "      <td>2</td>\n",
       "      <td>!!! RT @mayasolovely: As a woman you shouldn't...</td>\n",
       "    </tr>\n",
       "    <tr>\n",
       "      <th>1</th>\n",
       "      <td>3</td>\n",
       "      <td>0</td>\n",
       "      <td>3</td>\n",
       "      <td>0</td>\n",
       "      <td>1</td>\n",
       "      <td>!!!!! RT @mleew17: boy dats cold...tyga dwn ba...</td>\n",
       "    </tr>\n",
       "    <tr>\n",
       "      <th>2</th>\n",
       "      <td>3</td>\n",
       "      <td>0</td>\n",
       "      <td>3</td>\n",
       "      <td>0</td>\n",
       "      <td>1</td>\n",
       "      <td>!!!!!!! RT @UrKindOfBrand Dawg!!!! RT @80sbaby...</td>\n",
       "    </tr>\n",
       "    <tr>\n",
       "      <th>3</th>\n",
       "      <td>3</td>\n",
       "      <td>0</td>\n",
       "      <td>2</td>\n",
       "      <td>1</td>\n",
       "      <td>1</td>\n",
       "      <td>!!!!!!!!! RT @C_G_Anderson: @viva_based she lo...</td>\n",
       "    </tr>\n",
       "    <tr>\n",
       "      <th>4</th>\n",
       "      <td>6</td>\n",
       "      <td>0</td>\n",
       "      <td>6</td>\n",
       "      <td>0</td>\n",
       "      <td>1</td>\n",
       "      <td>!!!!!!!!!!!!! RT @ShenikaRoberts: The shit you...</td>\n",
       "    </tr>\n",
       "  </tbody>\n",
       "</table>\n",
       "</div>"
      ],
      "text/plain": [
       "   count  hate_speech_count  offensive_language_count  neither_count  class  \\\n",
       "0      3                  0                         0              3      2   \n",
       "1      3                  0                         3              0      1   \n",
       "2      3                  0                         3              0      1   \n",
       "3      3                  0                         2              1      1   \n",
       "4      6                  0                         6              0      1   \n",
       "\n",
       "                                               tweet  \n",
       "0  !!! RT @mayasolovely: As a woman you shouldn't...  \n",
       "1  !!!!! RT @mleew17: boy dats cold...tyga dwn ba...  \n",
       "2  !!!!!!! RT @UrKindOfBrand Dawg!!!! RT @80sbaby...  \n",
       "3  !!!!!!!!! RT @C_G_Anderson: @viva_based she lo...  \n",
       "4  !!!!!!!!!!!!! RT @ShenikaRoberts: The shit you...  "
      ]
     },
     "execution_count": 16,
     "metadata": {},
     "output_type": "execute_result"
    }
   ],
   "source": [
    "td = ds['train'].to_pandas()\n",
    "td.head()"
   ]
  },
  {
   "cell_type": "code",
   "execution_count": 17,
   "metadata": {},
   "outputs": [
    {
     "data": {
      "text/html": [
       "<div>\n",
       "<style scoped>\n",
       "    .dataframe tbody tr th:only-of-type {\n",
       "        vertical-align: middle;\n",
       "    }\n",
       "\n",
       "    .dataframe tbody tr th {\n",
       "        vertical-align: top;\n",
       "    }\n",
       "\n",
       "    .dataframe thead th {\n",
       "        text-align: right;\n",
       "    }\n",
       "</style>\n",
       "<table border=\"1\" class=\"dataframe\">\n",
       "  <thead>\n",
       "    <tr style=\"text-align: right;\">\n",
       "      <th></th>\n",
       "      <th>count</th>\n",
       "      <th>hate_speech_count</th>\n",
       "      <th>offensive_language_count</th>\n",
       "      <th>neither_count</th>\n",
       "      <th>class</th>\n",
       "      <th>tweet</th>\n",
       "      <th>true_label</th>\n",
       "    </tr>\n",
       "  </thead>\n",
       "  <tbody>\n",
       "    <tr>\n",
       "      <th>0</th>\n",
       "      <td>3</td>\n",
       "      <td>0</td>\n",
       "      <td>0</td>\n",
       "      <td>3</td>\n",
       "      <td>2</td>\n",
       "      <td>!!! RT @mayasolovely: As a woman you shouldn't...</td>\n",
       "      <td>0</td>\n",
       "    </tr>\n",
       "    <tr>\n",
       "      <th>1</th>\n",
       "      <td>3</td>\n",
       "      <td>0</td>\n",
       "      <td>3</td>\n",
       "      <td>0</td>\n",
       "      <td>1</td>\n",
       "      <td>!!!!! RT @mleew17: boy dats cold...tyga dwn ba...</td>\n",
       "      <td>1</td>\n",
       "    </tr>\n",
       "    <tr>\n",
       "      <th>2</th>\n",
       "      <td>3</td>\n",
       "      <td>0</td>\n",
       "      <td>3</td>\n",
       "      <td>0</td>\n",
       "      <td>1</td>\n",
       "      <td>!!!!!!! RT @UrKindOfBrand Dawg!!!! RT @80sbaby...</td>\n",
       "      <td>1</td>\n",
       "    </tr>\n",
       "    <tr>\n",
       "      <th>3</th>\n",
       "      <td>3</td>\n",
       "      <td>0</td>\n",
       "      <td>2</td>\n",
       "      <td>1</td>\n",
       "      <td>1</td>\n",
       "      <td>!!!!!!!!! RT @C_G_Anderson: @viva_based she lo...</td>\n",
       "      <td>1</td>\n",
       "    </tr>\n",
       "    <tr>\n",
       "      <th>4</th>\n",
       "      <td>6</td>\n",
       "      <td>0</td>\n",
       "      <td>6</td>\n",
       "      <td>0</td>\n",
       "      <td>1</td>\n",
       "      <td>!!!!!!!!!!!!! RT @ShenikaRoberts: The shit you...</td>\n",
       "      <td>1</td>\n",
       "    </tr>\n",
       "  </tbody>\n",
       "</table>\n",
       "</div>"
      ],
      "text/plain": [
       "   count  hate_speech_count  offensive_language_count  neither_count  class  \\\n",
       "0      3                  0                         0              3      2   \n",
       "1      3                  0                         3              0      1   \n",
       "2      3                  0                         3              0      1   \n",
       "3      3                  0                         2              1      1   \n",
       "4      6                  0                         6              0      1   \n",
       "\n",
       "                                               tweet  true_label  \n",
       "0  !!! RT @mayasolovely: As a woman you shouldn't...           0  \n",
       "1  !!!!! RT @mleew17: boy dats cold...tyga dwn ba...           1  \n",
       "2  !!!!!!! RT @UrKindOfBrand Dawg!!!! RT @80sbaby...           1  \n",
       "3  !!!!!!!!! RT @C_G_Anderson: @viva_based she lo...           1  \n",
       "4  !!!!!!!!!!!!! RT @ShenikaRoberts: The shit you...           1  "
      ]
     },
     "execution_count": 17,
     "metadata": {},
     "output_type": "execute_result"
    }
   ],
   "source": [
    "td['true_label'] = td['class'].apply(lambda x: 1 if x == 1 else 0)\n",
    "td.head()"
   ]
  },
  {
   "cell_type": "code",
   "execution_count": 18,
   "metadata": {},
   "outputs": [
    {
     "name": "stderr",
     "output_type": "stream",
     "text": [
      "Classifying batches: 100%|██████████| 775/775 [05:01<00:00,  2.57it/s]\n"
     ]
    }
   ],
   "source": [
    "td = classify_dataset(td, text_column=\"tweet\", batch_size=32, model=model, tokenizer=tokenizer, device=device)"
   ]
  },
  {
   "cell_type": "code",
   "execution_count": 19,
   "metadata": {},
   "outputs": [],
   "source": [
    "td['pred_label'] = td['prediction'].apply(lambda x: 1 if x == 'offensive' else 0)"
   ]
  },
  {
   "cell_type": "code",
   "execution_count": 20,
   "metadata": {},
   "outputs": [
    {
     "name": "stdout",
     "output_type": "stream",
     "text": [
      "\n",
      "📊 Classification Report:\n",
      "               precision    recall  f1-score   support\n",
      "\n",
      "Not Offensive       0.47      0.68      0.55      5593\n",
      "    Offensive       0.89      0.77      0.83     19190\n",
      "\n",
      "     accuracy                           0.75     24783\n",
      "    macro avg       0.68      0.73      0.69     24783\n",
      " weighted avg       0.80      0.75      0.77     24783\n",
      "\n",
      "\n",
      "✅ Accuracy: 0.7517\n",
      "✅ Precision: 0.8928\n",
      "✅ Recall: 0.7720\n",
      "✅ F1 Score: 0.8280\n"
     ]
    },
    {
     "data": {
      "image/png": "[encoded data removed]",
      "text/plain": [
       "<Figure size 600x500 with 2 Axes>"
      ]
     },
     "metadata": {},
     "output_type": "display_data"
    }
   ],
   "source": [
    "evaluate_model(y_true = td['true_label'],y_pred = td['pred_label'],class_labels=['Not Offensive','Offensive'])"
   ]
  },
  {
   "cell_type": "code",
   "execution_count": 21,
   "metadata": {},
   "outputs": [],
   "source": [
    "td.to_csv('tdavidson_koalaai.csv',index=False)"
   ]
  }
 ],
 "metadata": {
  "kernelspec": {
   "display_name": "base",
   "language": "python",
   "name": "python3"
  },
  "language_info": {
   "codemirror_mode": {
    "name": "ipython",
    "version": 3
   },
   "file_extension": ".py",
   "mimetype": "text/x-python",
   "name": "python",
   "nbconvert_exporter": "python",
   "pygments_lexer": "ipython3",
   "version": "3.12.7"
  }
 },
 "nbformat": 4,
 "nbformat_minor": 2
}
