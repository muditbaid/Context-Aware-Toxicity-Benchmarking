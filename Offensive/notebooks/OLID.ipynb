{
 "cells": [
  {
   "cell_type": "markdown",
   "metadata": {},
   "source": [
    "### OLID"
   ]
  },
  {
   "cell_type": "code",
   "execution_count": 1,
   "metadata": {},
   "outputs": [],
   "source": [
    "import numpy as np\n",
    "import pandas as pd\n",
    "import tqdm as tqdm\n",
    "import torch\n",
    "import sys\n",
    "import os\n",
    "import importlib\n",
    "\n",
    "sys.path.append(os.path.abspath(\"../\"))  # Add directory\n",
    "import eval_metrics  # Import module\n",
    "\n",
    "# Reload if modified\n",
    "importlib.reload(eval_metrics)\n",
    "from eval_metrics import evaluate_model, custom_threshold_condition"
   ]
  },
  {
   "cell_type": "code",
   "execution_count": 2,
   "metadata": {},
   "outputs": [],
   "source": [
    "from datasets import load_dataset\n",
    "\n",
    "ds = load_dataset(\"christophsonntag/OLID\")"
   ]
  },
  {
   "cell_type": "code",
   "execution_count": 3,
   "metadata": {},
   "outputs": [
    {
     "data": {
      "text/html": [
       "<div>\n",
       "<style scoped>\n",
       "    .dataframe tbody tr th:only-of-type {\n",
       "        vertical-align: middle;\n",
       "    }\n",
       "\n",
       "    .dataframe tbody tr th {\n",
       "        vertical-align: top;\n",
       "    }\n",
       "\n",
       "    .dataframe thead th {\n",
       "        text-align: right;\n",
       "    }\n",
       "</style>\n",
       "<table border=\"1\" class=\"dataframe\">\n",
       "  <thead>\n",
       "    <tr style=\"text-align: right;\">\n",
       "      <th></th>\n",
       "      <th>id</th>\n",
       "      <th>tweet</th>\n",
       "      <th>cleaned_tweet</th>\n",
       "      <th>subtask_a</th>\n",
       "      <th>subtask_b</th>\n",
       "      <th>subtask_c</th>\n",
       "    </tr>\n",
       "  </thead>\n",
       "  <tbody>\n",
       "    <tr>\n",
       "      <th>0</th>\n",
       "      <td>86426</td>\n",
       "      <td>@USER She should ask a few native Americans wh...</td>\n",
       "      <td>ask native americans take</td>\n",
       "      <td>OFF</td>\n",
       "      <td>UNT</td>\n",
       "      <td>None</td>\n",
       "    </tr>\n",
       "    <tr>\n",
       "      <th>1</th>\n",
       "      <td>90194</td>\n",
       "      <td>@USER @USER Go home you’re drunk!!! @USER #MAG...</td>\n",
       "      <td>go home drunk maga trump 2020</td>\n",
       "      <td>OFF</td>\n",
       "      <td>TIN</td>\n",
       "      <td>IND</td>\n",
       "    </tr>\n",
       "    <tr>\n",
       "      <th>2</th>\n",
       "      <td>16820</td>\n",
       "      <td>Amazon is investigating Chinese employees who ...</td>\n",
       "      <td>amazon investigating chinese employees selling...</td>\n",
       "      <td>NOT</td>\n",
       "      <td>None</td>\n",
       "      <td>None</td>\n",
       "    </tr>\n",
       "    <tr>\n",
       "      <th>3</th>\n",
       "      <td>62688</td>\n",
       "      <td>@USER Someone should'veTaken\" this piece of sh...</td>\n",
       "      <td>someone vetaken piece shit volcano</td>\n",
       "      <td>OFF</td>\n",
       "      <td>UNT</td>\n",
       "      <td>None</td>\n",
       "    </tr>\n",
       "    <tr>\n",
       "      <th>4</th>\n",
       "      <td>43605</td>\n",
       "      <td>@USER @USER Obama wanted liberals &amp;amp; illega...</td>\n",
       "      <td>obama wanted liberals illegals move red states</td>\n",
       "      <td>NOT</td>\n",
       "      <td>None</td>\n",
       "      <td>None</td>\n",
       "    </tr>\n",
       "  </tbody>\n",
       "</table>\n",
       "</div>"
      ],
      "text/plain": [
       "      id                                              tweet  \\\n",
       "0  86426  @USER She should ask a few native Americans wh...   \n",
       "1  90194  @USER @USER Go home you’re drunk!!! @USER #MAG...   \n",
       "2  16820  Amazon is investigating Chinese employees who ...   \n",
       "3  62688  @USER Someone should'veTaken\" this piece of sh...   \n",
       "4  43605  @USER @USER Obama wanted liberals &amp; illega...   \n",
       "\n",
       "                                       cleaned_tweet subtask_a subtask_b  \\\n",
       "0                          ask native americans take       OFF       UNT   \n",
       "1                      go home drunk maga trump 2020       OFF       TIN   \n",
       "2  amazon investigating chinese employees selling...       NOT      None   \n",
       "3                 someone vetaken piece shit volcano       OFF       UNT   \n",
       "4     obama wanted liberals illegals move red states       NOT      None   \n",
       "\n",
       "  subtask_c  \n",
       "0      None  \n",
       "1       IND  \n",
       "2      None  \n",
       "3      None  \n",
       "4      None  "
      ]
     },
     "execution_count": 3,
     "metadata": {},
     "output_type": "execute_result"
    }
   ],
   "source": [
    "o_train = ds['train'].to_pandas()\n",
    "o_test = ds['test'].to_pandas()\n",
    "olid = pd.concat([o_train, o_test])\n",
    "olid.head()"
   ]
  },
  {
   "cell_type": "code",
   "execution_count": 4,
   "metadata": {},
   "outputs": [
    {
     "data": {
      "text/plain": [
       "subtask_a\n",
       "NOT    9460\n",
       "OFF    4640\n",
       "Name: count, dtype: int64"
      ]
     },
     "execution_count": 4,
     "metadata": {},
     "output_type": "execute_result"
    }
   ],
   "source": [
    "## Check the number of offensive and non offensive tweets in the dataset\n",
    "olid['subtask_a'].value_counts()"
   ]
  },
  {
   "cell_type": "code",
   "execution_count": 4,
   "metadata": {},
   "outputs": [
    {
     "data": {
      "text/html": [
       "<div>\n",
       "<style scoped>\n",
       "    .dataframe tbody tr th:only-of-type {\n",
       "        vertical-align: middle;\n",
       "    }\n",
       "\n",
       "    .dataframe tbody tr th {\n",
       "        vertical-align: top;\n",
       "    }\n",
       "\n",
       "    .dataframe thead th {\n",
       "        text-align: right;\n",
       "    }\n",
       "</style>\n",
       "<table border=\"1\" class=\"dataframe\">\n",
       "  <thead>\n",
       "    <tr style=\"text-align: right;\">\n",
       "      <th></th>\n",
       "      <th>id</th>\n",
       "      <th>tweet</th>\n",
       "      <th>cleaned_tweet</th>\n",
       "      <th>subtask_a</th>\n",
       "      <th>subtask_b</th>\n",
       "      <th>subtask_c</th>\n",
       "      <th>true_label</th>\n",
       "    </tr>\n",
       "  </thead>\n",
       "  <tbody>\n",
       "    <tr>\n",
       "      <th>0</th>\n",
       "      <td>86426</td>\n",
       "      <td>@USER She should ask a few native Americans wh...</td>\n",
       "      <td>ask native americans take</td>\n",
       "      <td>OFF</td>\n",
       "      <td>UNT</td>\n",
       "      <td>None</td>\n",
       "      <td>1</td>\n",
       "    </tr>\n",
       "    <tr>\n",
       "      <th>1</th>\n",
       "      <td>90194</td>\n",
       "      <td>@USER @USER Go home you’re drunk!!! @USER #MAG...</td>\n",
       "      <td>go home drunk maga trump 2020</td>\n",
       "      <td>OFF</td>\n",
       "      <td>TIN</td>\n",
       "      <td>IND</td>\n",
       "      <td>1</td>\n",
       "    </tr>\n",
       "    <tr>\n",
       "      <th>2</th>\n",
       "      <td>16820</td>\n",
       "      <td>Amazon is investigating Chinese employees who ...</td>\n",
       "      <td>amazon investigating chinese employees selling...</td>\n",
       "      <td>NOT</td>\n",
       "      <td>None</td>\n",
       "      <td>None</td>\n",
       "      <td>0</td>\n",
       "    </tr>\n",
       "    <tr>\n",
       "      <th>3</th>\n",
       "      <td>62688</td>\n",
       "      <td>@USER Someone should'veTaken\" this piece of sh...</td>\n",
       "      <td>someone vetaken piece shit volcano</td>\n",
       "      <td>OFF</td>\n",
       "      <td>UNT</td>\n",
       "      <td>None</td>\n",
       "      <td>1</td>\n",
       "    </tr>\n",
       "    <tr>\n",
       "      <th>4</th>\n",
       "      <td>43605</td>\n",
       "      <td>@USER @USER Obama wanted liberals &amp;amp; illega...</td>\n",
       "      <td>obama wanted liberals illegals move red states</td>\n",
       "      <td>NOT</td>\n",
       "      <td>None</td>\n",
       "      <td>None</td>\n",
       "      <td>0</td>\n",
       "    </tr>\n",
       "  </tbody>\n",
       "</table>\n",
       "</div>"
      ],
      "text/plain": [
       "      id                                              tweet  \\\n",
       "0  86426  @USER She should ask a few native Americans wh...   \n",
       "1  90194  @USER @USER Go home you’re drunk!!! @USER #MAG...   \n",
       "2  16820  Amazon is investigating Chinese employees who ...   \n",
       "3  62688  @USER Someone should'veTaken\" this piece of sh...   \n",
       "4  43605  @USER @USER Obama wanted liberals &amp; illega...   \n",
       "\n",
       "                                       cleaned_tweet subtask_a subtask_b  \\\n",
       "0                          ask native americans take       OFF       UNT   \n",
       "1                      go home drunk maga trump 2020       OFF       TIN   \n",
       "2  amazon investigating chinese employees selling...       NOT      None   \n",
       "3                 someone vetaken piece shit volcano       OFF       UNT   \n",
       "4     obama wanted liberals illegals move red states       NOT      None   \n",
       "\n",
       "  subtask_c  true_label  \n",
       "0      None           1  \n",
       "1       IND           1  \n",
       "2      None           0  \n",
       "3      None           1  \n",
       "4      None           0  "
      ]
     },
     "execution_count": 4,
     "metadata": {},
     "output_type": "execute_result"
    }
   ],
   "source": [
    "olid['true_label'] = olid['subtask_a'].map({'NOT': 0, 'OFF': 1})\n",
    "olid.head()"
   ]
  },
  {
   "cell_type": "markdown",
   "metadata": {},
   "source": [
    "### Cardiffnlp/Twitter-Roberta-Base-Offensive"
   ]
  },
  {
   "cell_type": "code",
   "execution_count": 20,
   "metadata": {},
   "outputs": [
    {
     "data": {
      "application/vnd.jupyter.widget-view+json": {
       "model_id": "2dce32f499b54ba8a29032bba3c72bc4",
       "version_major": 2,
       "version_minor": 0
      },
      "text/plain": [
       "config.json:   0%|          | 0.00/725 [00:00<?, ?B/s]"
      ]
     },
     "metadata": {},
     "output_type": "display_data"
    },
    {
     "name": "stderr",
     "output_type": "stream",
     "text": [
      "d:\\Anaconda\\Lib\\site-packages\\huggingface_hub\\file_download.py:140: UserWarning: `huggingface_hub` cache-system uses symlinks by default to efficiently store duplicated files but your machine does not support them in D:\\hf_cache\\hub\\models--cardiffnlp--twitter-roberta-base-offensive. Caching files will still work but in a degraded version that might require more space on your disk. This warning can be disabled by setting the `HF_HUB_DISABLE_SYMLINKS_WARNING` environment variable. For more details, see https://huggingface.co/docs/huggingface_hub/how-to-cache#limitations.\n",
      "To support symlinks on Windows, you either need to activate Developer Mode or to run Python as an administrator. In order to activate developer mode, see this article: https://docs.microsoft.com/en-us/windows/apps/get-started/enable-your-device-for-development\n",
      "  warnings.warn(message)\n"
     ]
    },
    {
     "data": {
      "application/vnd.jupyter.widget-view+json": {
       "model_id": "2347c7fcf9084981a8a1bba5f11bbac0",
       "version_major": 2,
       "version_minor": 0
      },
      "text/plain": [
       "vocab.json:   0%|          | 0.00/899k [00:00<?, ?B/s]"
      ]
     },
     "metadata": {},
     "output_type": "display_data"
    },
    {
     "data": {
      "application/vnd.jupyter.widget-view+json": {
       "model_id": "be4de8e63f4747eab8f16329080bb0cc",
       "version_major": 2,
       "version_minor": 0
      },
      "text/plain": [
       "merges.txt:   0%|          | 0.00/456k [00:00<?, ?B/s]"
      ]
     },
     "metadata": {},
     "output_type": "display_data"
    },
    {
     "data": {
      "application/vnd.jupyter.widget-view+json": {
       "model_id": "52c5daee38df49f7b0a43bbaa5f5579c",
       "version_major": 2,
       "version_minor": 0
      },
      "text/plain": [
       "special_tokens_map.json:   0%|          | 0.00/150 [00:00<?, ?B/s]"
      ]
     },
     "metadata": {},
     "output_type": "display_data"
    },
    {
     "data": {
      "application/vnd.jupyter.widget-view+json": {
       "model_id": "72c8f6df9b2f4f12a2e018edc9bb93cd",
       "version_major": 2,
       "version_minor": 0
      },
      "text/plain": [
       "pytorch_model.bin:   0%|          | 0.00/499M [00:00<?, ?B/s]"
      ]
     },
     "metadata": {},
     "output_type": "display_data"
    }
   ],
   "source": [
    "from transformers import AutoTokenizer, AutoModelForSequenceClassification\n",
    "\n",
    "# Load the tokenizer and model\n",
    "tokenizer = AutoTokenizer.from_pretrained(\"cardiffnlp/twitter-roberta-base-offensive\")\n",
    "model = AutoModelForSequenceClassification.from_pretrained(\"cardiffnlp/twitter-roberta-base-offensive\")"
   ]
  },
  {
   "cell_type": "code",
   "execution_count": 27,
   "metadata": {},
   "outputs": [
    {
     "name": "stderr",
     "output_type": "stream",
     "text": [
      "100%|██████████| 441/441 [03:23<00:00,  2.17it/s]\n"
     ]
    },
    {
     "data": {
      "text/html": [
       "<div>\n",
       "<style scoped>\n",
       "    .dataframe tbody tr th:only-of-type {\n",
       "        vertical-align: middle;\n",
       "    }\n",
       "\n",
       "    .dataframe tbody tr th {\n",
       "        vertical-align: top;\n",
       "    }\n",
       "\n",
       "    .dataframe thead th {\n",
       "        text-align: right;\n",
       "    }\n",
       "</style>\n",
       "<table border=\"1\" class=\"dataframe\">\n",
       "  <thead>\n",
       "    <tr style=\"text-align: right;\">\n",
       "      <th></th>\n",
       "      <th>id</th>\n",
       "      <th>tweet</th>\n",
       "      <th>cleaned_tweet</th>\n",
       "      <th>subtask_a</th>\n",
       "      <th>subtask_b</th>\n",
       "      <th>subtask_c</th>\n",
       "      <th>pred</th>\n",
       "      <th>offensive_prob</th>\n",
       "      <th>pred_label</th>\n",
       "    </tr>\n",
       "  </thead>\n",
       "  <tbody>\n",
       "    <tr>\n",
       "      <th>0</th>\n",
       "      <td>86426</td>\n",
       "      <td>@USER She should ask a few native Americans wh...</td>\n",
       "      <td>ask native americans take</td>\n",
       "      <td>OFF</td>\n",
       "      <td>UNT</td>\n",
       "      <td>None</td>\n",
       "      <td>0</td>\n",
       "      <td>0.149674</td>\n",
       "      <td>Not Offensive</td>\n",
       "    </tr>\n",
       "    <tr>\n",
       "      <th>1</th>\n",
       "      <td>90194</td>\n",
       "      <td>@USER @USER Go home you’re drunk!!! @USER #MAG...</td>\n",
       "      <td>go home drunk maga trump 2020</td>\n",
       "      <td>OFF</td>\n",
       "      <td>TIN</td>\n",
       "      <td>IND</td>\n",
       "      <td>1</td>\n",
       "      <td>0.798747</td>\n",
       "      <td>Offensive</td>\n",
       "    </tr>\n",
       "    <tr>\n",
       "      <th>2</th>\n",
       "      <td>16820</td>\n",
       "      <td>Amazon is investigating Chinese employees who ...</td>\n",
       "      <td>amazon investigating chinese employees selling...</td>\n",
       "      <td>NOT</td>\n",
       "      <td>None</td>\n",
       "      <td>None</td>\n",
       "      <td>0</td>\n",
       "      <td>0.086544</td>\n",
       "      <td>Not Offensive</td>\n",
       "    </tr>\n",
       "    <tr>\n",
       "      <th>3</th>\n",
       "      <td>62688</td>\n",
       "      <td>@USER Someone should'veTaken\" this piece of sh...</td>\n",
       "      <td>someone vetaken piece shit volcano</td>\n",
       "      <td>OFF</td>\n",
       "      <td>UNT</td>\n",
       "      <td>None</td>\n",
       "      <td>1</td>\n",
       "      <td>0.875503</td>\n",
       "      <td>Offensive</td>\n",
       "    </tr>\n",
       "    <tr>\n",
       "      <th>4</th>\n",
       "      <td>43605</td>\n",
       "      <td>@USER @USER Obama wanted liberals &amp;amp; illega...</td>\n",
       "      <td>obama wanted liberals illegals move red states</td>\n",
       "      <td>NOT</td>\n",
       "      <td>None</td>\n",
       "      <td>None</td>\n",
       "      <td>0</td>\n",
       "      <td>0.369900</td>\n",
       "      <td>Not Offensive</td>\n",
       "    </tr>\n",
       "  </tbody>\n",
       "</table>\n",
       "</div>"
      ],
      "text/plain": [
       "      id                                              tweet  \\\n",
       "0  86426  @USER She should ask a few native Americans wh...   \n",
       "1  90194  @USER @USER Go home you’re drunk!!! @USER #MAG...   \n",
       "2  16820  Amazon is investigating Chinese employees who ...   \n",
       "3  62688  @USER Someone should'veTaken\" this piece of sh...   \n",
       "4  43605  @USER @USER Obama wanted liberals &amp; illega...   \n",
       "\n",
       "                                       cleaned_tweet subtask_a subtask_b  \\\n",
       "0                          ask native americans take       OFF       UNT   \n",
       "1                      go home drunk maga trump 2020       OFF       TIN   \n",
       "2  amazon investigating chinese employees selling...       NOT      None   \n",
       "3                 someone vetaken piece shit volcano       OFF       UNT   \n",
       "4     obama wanted liberals illegals move red states       NOT      None   \n",
       "\n",
       "  subtask_c  pred  offensive_prob     pred_label  \n",
       "0      None     0        0.149674  Not Offensive  \n",
       "1       IND     1        0.798747      Offensive  \n",
       "2      None     0        0.086544  Not Offensive  \n",
       "3      None     1        0.875503      Offensive  \n",
       "4      None     0        0.369900  Not Offensive  "
      ]
     },
     "execution_count": 27,
     "metadata": {},
     "output_type": "execute_result"
    }
   ],
   "source": [
    "import torch\n",
    "import pandas as pd\n",
    "from transformers import AutoTokenizer, AutoModelForSequenceClassification\n",
    "from scipy.special import softmax\n",
    "from tqdm import tqdm\n",
    "\n",
    "max_length = 512\n",
    "# Device (GPU or CPU)\n",
    "device = \"cuda\" if torch.cuda.is_available() else \"cpu\"\n",
    "model.to(device)\n",
    "model.eval()\n",
    "\n",
    "# Prediction function\n",
    "def predict_offensive(tweets, batch_size=32):\n",
    "    predictions, scores = [], []\n",
    "    for i in tqdm(range(0, len(tweets), batch_size)):\n",
    "        batch = tweets[i:i+batch_size].tolist()\n",
    "        encoded = tokenizer(batch, padding=True, truncation=True, return_tensors=\"pt\").to(device)\n",
    "\n",
    "        with torch.no_grad():\n",
    "            outputs = model(**encoded)\n",
    "            probs = softmax(outputs.logits.cpu().numpy(), axis=1)\n",
    "            preds = probs.argmax(axis=1)\n",
    "            predictions.extend(preds)\n",
    "            scores.extend(probs[:, 1])  # Offensive probability\n",
    "    return predictions, scores\n",
    "\n",
    "# Apply prediction on your olid DataFrame\n",
    "olid['pred'], olid['offensive_prob'] = predict_offensive(olid['tweet'])\n",
    "\n",
    "# Map predictions to labels\n",
    "labels = {0: 'Not Offensive', 1: 'Offensive'}\n",
    "olid['pred_label'] = olid['pred'].map(labels)\n",
    "\n",
    "# Check results\n",
    "olid.head()\n"
   ]
  },
  {
   "cell_type": "code",
   "execution_count": 33,
   "metadata": {},
   "outputs": [],
   "source": [
    "olid.to_csv('olid_cardiffnlp_roberta.csv', index=False)"
   ]
  },
  {
   "cell_type": "code",
   "execution_count": 32,
   "metadata": {},
   "outputs": [
    {
     "name": "stdout",
     "output_type": "stream",
     "text": [
      "\n",
      "📊 Classification Report:\n",
      "               precision    recall  f1-score   support\n",
      "\n",
      "Not Offensive       0.88      0.90      0.89      9460\n",
      "    Offensive       0.79      0.76      0.78      4640\n",
      "\n",
      "     accuracy                           0.86     14100\n",
      "    macro avg       0.84      0.83      0.83     14100\n",
      " weighted avg       0.85      0.86      0.86     14100\n",
      "\n",
      "\n",
      "✅ Accuracy: 0.8560\n",
      "✅ Precision: 0.7947\n",
      "✅ Recall: 0.7582\n",
      "✅ F1 Score: 0.7760\n"
     ]
    },
    {
     "data": {
      "image/png": "[encoded data removed]",
      "text/plain": [
       "<Figure size 600x500 with 2 Axes>"
      ]
     },
     "metadata": {},
     "output_type": "display_data"
    }
   ],
   "source": [
    "# Threshold=0.5\n",
    "evaluate_model(olid['true_label'].to_numpy(),y_pred=olid['pred'],class_labels=['Not Offensive','Offensive'],threshold=0.5)"
   ]
  },
  {
   "cell_type": "markdown",
   "metadata": {},
   "source": [
    "### Silvglad/DistilRoberta"
   ]
  },
  {
   "cell_type": "code",
   "execution_count": 36,
   "metadata": {},
   "outputs": [
    {
     "data": {
      "application/vnd.jupyter.widget-view+json": {
       "model_id": "4d568d4494ed481082eaabcbdbdf3101",
       "version_major": 2,
       "version_minor": 0
      },
      "text/plain": [
       "tokenizer_config.json:   0%|          | 0.00/25.0 [00:00<?, ?B/s]"
      ]
     },
     "metadata": {},
     "output_type": "display_data"
    },
    {
     "name": "stderr",
     "output_type": "stream",
     "text": [
      "d:\\Anaconda\\Lib\\site-packages\\huggingface_hub\\file_download.py:140: UserWarning: `huggingface_hub` cache-system uses symlinks by default to efficiently store duplicated files but your machine does not support them in D:\\hf_cache\\hub\\models--distilroberta-base. Caching files will still work but in a degraded version that might require more space on your disk. This warning can be disabled by setting the `HF_HUB_DISABLE_SYMLINKS_WARNING` environment variable. For more details, see https://huggingface.co/docs/huggingface_hub/how-to-cache#limitations.\n",
      "To support symlinks on Windows, you either need to activate Developer Mode or to run Python as an administrator. In order to activate developer mode, see this article: https://docs.microsoft.com/en-us/windows/apps/get-started/enable-your-device-for-development\n",
      "  warnings.warn(message)\n"
     ]
    },
    {
     "data": {
      "application/vnd.jupyter.widget-view+json": {
       "model_id": "c798878eff3140eb82471f83fb5b47da",
       "version_major": 2,
       "version_minor": 0
      },
      "text/plain": [
       "config.json:   0%|          | 0.00/480 [00:00<?, ?B/s]"
      ]
     },
     "metadata": {},
     "output_type": "display_data"
    },
    {
     "data": {
      "application/vnd.jupyter.widget-view+json": {
       "model_id": "cf9e5ff3f6cd4a178eaa5e5ee7fa03ec",
       "version_major": 2,
       "version_minor": 0
      },
      "text/plain": [
       "vocab.json:   0%|          | 0.00/899k [00:00<?, ?B/s]"
      ]
     },
     "metadata": {},
     "output_type": "display_data"
    },
    {
     "data": {
      "application/vnd.jupyter.widget-view+json": {
       "model_id": "5680bf8413dd40b1a966abf95bcd7796",
       "version_major": 2,
       "version_minor": 0
      },
      "text/plain": [
       "merges.txt:   0%|          | 0.00/456k [00:00<?, ?B/s]"
      ]
     },
     "metadata": {},
     "output_type": "display_data"
    },
    {
     "data": {
      "application/vnd.jupyter.widget-view+json": {
       "model_id": "59e50040712c4d54817fa2ef050b5c47",
       "version_major": 2,
       "version_minor": 0
      },
      "text/plain": [
       "tokenizer.json:   0%|          | 0.00/1.36M [00:00<?, ?B/s]"
      ]
     },
     "metadata": {},
     "output_type": "display_data"
    }
   ],
   "source": [
    "# Load model directly\n",
    "from transformers import AutoTokenizer, AutoModelForSequenceClassification\n",
    "\n",
    "tokenizer = AutoTokenizer.from_pretrained(\"distilroberta-base\")\n",
    "model = AutoModelForSequenceClassification.from_pretrained(\"silvglad/distilroberta-olid-lr5e5-wd001\")"
   ]
  },
  {
   "cell_type": "code",
   "execution_count": 37,
   "metadata": {},
   "outputs": [
    {
     "name": "stderr",
     "output_type": "stream",
     "text": [
      "100%|██████████| 441/441 [01:44<00:00,  4.23it/s]\n"
     ]
    },
    {
     "data": {
      "text/html": [
       "<div>\n",
       "<style scoped>\n",
       "    .dataframe tbody tr th:only-of-type {\n",
       "        vertical-align: middle;\n",
       "    }\n",
       "\n",
       "    .dataframe tbody tr th {\n",
       "        vertical-align: top;\n",
       "    }\n",
       "\n",
       "    .dataframe thead th {\n",
       "        text-align: right;\n",
       "    }\n",
       "</style>\n",
       "<table border=\"1\" class=\"dataframe\">\n",
       "  <thead>\n",
       "    <tr style=\"text-align: right;\">\n",
       "      <th></th>\n",
       "      <th>id</th>\n",
       "      <th>tweet</th>\n",
       "      <th>cleaned_tweet</th>\n",
       "      <th>subtask_a</th>\n",
       "      <th>subtask_b</th>\n",
       "      <th>subtask_c</th>\n",
       "      <th>pred</th>\n",
       "      <th>offensive_prob</th>\n",
       "      <th>pred_label</th>\n",
       "      <th>true_label</th>\n",
       "    </tr>\n",
       "  </thead>\n",
       "  <tbody>\n",
       "    <tr>\n",
       "      <th>0</th>\n",
       "      <td>86426</td>\n",
       "      <td>@USER She should ask a few native Americans wh...</td>\n",
       "      <td>ask native americans take</td>\n",
       "      <td>OFF</td>\n",
       "      <td>UNT</td>\n",
       "      <td>None</td>\n",
       "      <td>0</td>\n",
       "      <td>0.004189</td>\n",
       "      <td>Not Offensive</td>\n",
       "      <td>1</td>\n",
       "    </tr>\n",
       "    <tr>\n",
       "      <th>1</th>\n",
       "      <td>90194</td>\n",
       "      <td>@USER @USER Go home you’re drunk!!! @USER #MAG...</td>\n",
       "      <td>go home drunk maga trump 2020</td>\n",
       "      <td>OFF</td>\n",
       "      <td>TIN</td>\n",
       "      <td>IND</td>\n",
       "      <td>4</td>\n",
       "      <td>0.024994</td>\n",
       "      <td>Offensive</td>\n",
       "      <td>1</td>\n",
       "    </tr>\n",
       "    <tr>\n",
       "      <th>2</th>\n",
       "      <td>16820</td>\n",
       "      <td>Amazon is investigating Chinese employees who ...</td>\n",
       "      <td>amazon investigating chinese employees selling...</td>\n",
       "      <td>NOT</td>\n",
       "      <td>None</td>\n",
       "      <td>None</td>\n",
       "      <td>0</td>\n",
       "      <td>0.003921</td>\n",
       "      <td>Not Offensive</td>\n",
       "      <td>0</td>\n",
       "    </tr>\n",
       "    <tr>\n",
       "      <th>3</th>\n",
       "      <td>62688</td>\n",
       "      <td>@USER Someone should'veTaken\" this piece of sh...</td>\n",
       "      <td>someone vetaken piece shit volcano</td>\n",
       "      <td>OFF</td>\n",
       "      <td>UNT</td>\n",
       "      <td>None</td>\n",
       "      <td>4</td>\n",
       "      <td>0.186175</td>\n",
       "      <td>Offensive</td>\n",
       "      <td>1</td>\n",
       "    </tr>\n",
       "    <tr>\n",
       "      <th>4</th>\n",
       "      <td>43605</td>\n",
       "      <td>@USER @USER Obama wanted liberals &amp;amp; illega...</td>\n",
       "      <td>obama wanted liberals illegals move red states</td>\n",
       "      <td>NOT</td>\n",
       "      <td>None</td>\n",
       "      <td>None</td>\n",
       "      <td>0</td>\n",
       "      <td>0.019992</td>\n",
       "      <td>Not Offensive</td>\n",
       "      <td>0</td>\n",
       "    </tr>\n",
       "  </tbody>\n",
       "</table>\n",
       "</div>"
      ],
      "text/plain": [
       "      id                                              tweet  \\\n",
       "0  86426  @USER She should ask a few native Americans wh...   \n",
       "1  90194  @USER @USER Go home you’re drunk!!! @USER #MAG...   \n",
       "2  16820  Amazon is investigating Chinese employees who ...   \n",
       "3  62688  @USER Someone should'veTaken\" this piece of sh...   \n",
       "4  43605  @USER @USER Obama wanted liberals &amp; illega...   \n",
       "\n",
       "                                       cleaned_tweet subtask_a subtask_b  \\\n",
       "0                          ask native americans take       OFF       UNT   \n",
       "1                      go home drunk maga trump 2020       OFF       TIN   \n",
       "2  amazon investigating chinese employees selling...       NOT      None   \n",
       "3                 someone vetaken piece shit volcano       OFF       UNT   \n",
       "4     obama wanted liberals illegals move red states       NOT      None   \n",
       "\n",
       "  subtask_c  pred  offensive_prob     pred_label  true_label  \n",
       "0      None     0        0.004189  Not Offensive           1  \n",
       "1       IND     4        0.024994      Offensive           1  \n",
       "2      None     0        0.003921  Not Offensive           0  \n",
       "3      None     4        0.186175      Offensive           1  \n",
       "4      None     0        0.019992  Not Offensive           0  "
      ]
     },
     "execution_count": 37,
     "metadata": {},
     "output_type": "execute_result"
    }
   ],
   "source": [
    "from scipy.special import softmax\n",
    "from tqdm import tqdm\n",
    "\n",
    "model.to(device)\n",
    "model.eval()\n",
    "\n",
    "def predict_offensive(tweets, batch_size=32):\n",
    "    predictions, scores = [], []\n",
    "    for i in tqdm(range(0, len(tweets), batch_size)):\n",
    "        batch = tweets[i:i+batch_size].tolist()\n",
    "        encoded = tokenizer(batch, padding=True, truncation=True, return_tensors=\"pt\").to(device)\n",
    "\n",
    "        with torch.no_grad():\n",
    "            outputs = model(**encoded)\n",
    "            probs = softmax(outputs.logits.cpu().numpy(), axis=1)\n",
    "            preds = probs.argmax(axis=1)\n",
    "            predictions.extend(preds)\n",
    "            scores.extend(probs[:, 1])  # Offensive probability\n",
    "    return predictions, scores\n",
    "\n",
    "# Apply prediction on your olid DataFrame\n",
    "olid['pred'], olid['offensive_prob'] = predict_offensive(olid['tweet'])\n",
    "\n",
    "# Map predictions to labels\n",
    "labels = {0: 'Not Offensive', 1: 'Offensive',2: 'Offensive',3: 'Offensive',4:'Offensive'}\n",
    "olid['pred_label'] = olid['pred'].map(labels)\n",
    "\n",
    "# Check results\n",
    "olid.head()"
   ]
  },
  {
   "cell_type": "code",
   "execution_count": 38,
   "metadata": {},
   "outputs": [
    {
     "data": {
      "text/html": [
       "<div>\n",
       "<style scoped>\n",
       "    .dataframe tbody tr th:only-of-type {\n",
       "        vertical-align: middle;\n",
       "    }\n",
       "\n",
       "    .dataframe tbody tr th {\n",
       "        vertical-align: top;\n",
       "    }\n",
       "\n",
       "    .dataframe thead th {\n",
       "        text-align: right;\n",
       "    }\n",
       "</style>\n",
       "<table border=\"1\" class=\"dataframe\">\n",
       "  <thead>\n",
       "    <tr style=\"text-align: right;\">\n",
       "      <th></th>\n",
       "      <th>id</th>\n",
       "      <th>tweet</th>\n",
       "      <th>cleaned_tweet</th>\n",
       "      <th>subtask_a</th>\n",
       "      <th>subtask_b</th>\n",
       "      <th>subtask_c</th>\n",
       "      <th>pred</th>\n",
       "      <th>offensive_prob</th>\n",
       "      <th>pred_label</th>\n",
       "      <th>true_label</th>\n",
       "    </tr>\n",
       "  </thead>\n",
       "  <tbody>\n",
       "    <tr>\n",
       "      <th>0</th>\n",
       "      <td>86426</td>\n",
       "      <td>@USER She should ask a few native Americans wh...</td>\n",
       "      <td>ask native americans take</td>\n",
       "      <td>OFF</td>\n",
       "      <td>UNT</td>\n",
       "      <td>None</td>\n",
       "      <td>0</td>\n",
       "      <td>0.004189</td>\n",
       "      <td>Not Offensive</td>\n",
       "      <td>1</td>\n",
       "    </tr>\n",
       "    <tr>\n",
       "      <th>1</th>\n",
       "      <td>90194</td>\n",
       "      <td>@USER @USER Go home you’re drunk!!! @USER #MAG...</td>\n",
       "      <td>go home drunk maga trump 2020</td>\n",
       "      <td>OFF</td>\n",
       "      <td>TIN</td>\n",
       "      <td>IND</td>\n",
       "      <td>1</td>\n",
       "      <td>0.024994</td>\n",
       "      <td>Offensive</td>\n",
       "      <td>1</td>\n",
       "    </tr>\n",
       "    <tr>\n",
       "      <th>2</th>\n",
       "      <td>16820</td>\n",
       "      <td>Amazon is investigating Chinese employees who ...</td>\n",
       "      <td>amazon investigating chinese employees selling...</td>\n",
       "      <td>NOT</td>\n",
       "      <td>None</td>\n",
       "      <td>None</td>\n",
       "      <td>0</td>\n",
       "      <td>0.003921</td>\n",
       "      <td>Not Offensive</td>\n",
       "      <td>0</td>\n",
       "    </tr>\n",
       "    <tr>\n",
       "      <th>3</th>\n",
       "      <td>62688</td>\n",
       "      <td>@USER Someone should'veTaken\" this piece of sh...</td>\n",
       "      <td>someone vetaken piece shit volcano</td>\n",
       "      <td>OFF</td>\n",
       "      <td>UNT</td>\n",
       "      <td>None</td>\n",
       "      <td>1</td>\n",
       "      <td>0.186175</td>\n",
       "      <td>Offensive</td>\n",
       "      <td>1</td>\n",
       "    </tr>\n",
       "    <tr>\n",
       "      <th>4</th>\n",
       "      <td>43605</td>\n",
       "      <td>@USER @USER Obama wanted liberals &amp;amp; illega...</td>\n",
       "      <td>obama wanted liberals illegals move red states</td>\n",
       "      <td>NOT</td>\n",
       "      <td>None</td>\n",
       "      <td>None</td>\n",
       "      <td>0</td>\n",
       "      <td>0.019992</td>\n",
       "      <td>Not Offensive</td>\n",
       "      <td>0</td>\n",
       "    </tr>\n",
       "  </tbody>\n",
       "</table>\n",
       "</div>"
      ],
      "text/plain": [
       "      id                                              tweet  \\\n",
       "0  86426  @USER She should ask a few native Americans wh...   \n",
       "1  90194  @USER @USER Go home you’re drunk!!! @USER #MAG...   \n",
       "2  16820  Amazon is investigating Chinese employees who ...   \n",
       "3  62688  @USER Someone should'veTaken\" this piece of sh...   \n",
       "4  43605  @USER @USER Obama wanted liberals &amp; illega...   \n",
       "\n",
       "                                       cleaned_tweet subtask_a subtask_b  \\\n",
       "0                          ask native americans take       OFF       UNT   \n",
       "1                      go home drunk maga trump 2020       OFF       TIN   \n",
       "2  amazon investigating chinese employees selling...       NOT      None   \n",
       "3                 someone vetaken piece shit volcano       OFF       UNT   \n",
       "4     obama wanted liberals illegals move red states       NOT      None   \n",
       "\n",
       "  subtask_c  pred  offensive_prob     pred_label  true_label  \n",
       "0      None     0        0.004189  Not Offensive           1  \n",
       "1       IND     1        0.024994      Offensive           1  \n",
       "2      None     0        0.003921  Not Offensive           0  \n",
       "3      None     1        0.186175      Offensive           1  \n",
       "4      None     0        0.019992  Not Offensive           0  "
      ]
     },
     "execution_count": 38,
     "metadata": {},
     "output_type": "execute_result"
    }
   ],
   "source": [
    "olid['pred']= olid['pred_label'].map({\"Not Offensive\":0,\"Offensive\":1})\n",
    "olid.head()"
   ]
  },
  {
   "cell_type": "code",
   "execution_count": 41,
   "metadata": {},
   "outputs": [
    {
     "name": "stdout",
     "output_type": "stream",
     "text": [
      "Accuracy: 0.855177304964539\n",
      "F1-score: 0.7701485817199459\n"
     ]
    },
    {
     "data": {
      "image/png": "[encoded data removed]",
      "text/plain": [
       "<Figure size 800x600 with 2 Axes>"
      ]
     },
     "metadata": {},
     "output_type": "display_data"
    }
   ],
   "source": [
    "# prompt: calclulate acc and f1 and also plot a good looking confusion matrix. true label: tweeteval['label'], pred_label: tweeteval['pred']\n",
    "\n",
    "from sklearn.metrics import accuracy_score, f1_score\n",
    "import matplotlib.pyplot as plt\n",
    "import seaborn as sns\n",
    "from sklearn.metrics import confusion_matrix\n",
    "\n",
    "# Calculate accuracy and F1-score\n",
    "accuracy = accuracy_score(olid['true_label'], olid['pred'])\n",
    "f1 = f1_score(olid['true_label'], olid['pred'])\n",
    "\n",
    "print(f\"Accuracy: {accuracy}\")\n",
    "print(f\"F1-score: {f1}\")\n",
    "\n",
    "# Create confusion matrix\n",
    "cm = confusion_matrix(olid['true_label'], olid['pred'])\n",
    "\n",
    "# Plot confusion matrix\n",
    "plt.figure(figsize=(8, 6))\n",
    "sns.heatmap(cm, annot=True, fmt='d', cmap='Blues',\n",
    "            xticklabels=['Not Offensive', 'Offensive'],\n",
    "            yticklabels=['Not Offensive', 'Offensive'])\n",
    "plt.xlabel('Predicted Label')\n",
    "plt.ylabel('True Label')\n",
    "plt.title('Confusion Matrix')\n",
    "plt.show()\n"
   ]
  },
  {
   "cell_type": "code",
   "execution_count": null,
   "metadata": {},
   "outputs": [],
   "source": []
  },
  {
   "cell_type": "markdown",
   "metadata": {},
   "source": [
    "### Arash Rasouli Bert"
   ]
  },
  {
   "cell_type": "code",
   "execution_count": 14,
   "metadata": {},
   "outputs": [],
   "source": [
    "# Load model directly\n",
    "from transformers import AutoTokenizer, AutoModelForSequenceClassification\n",
    "\n",
    "tokenizer = AutoTokenizer.from_pretrained(\"google-bert/bert-base-uncased\")\n",
    "model = AutoModelForSequenceClassification.from_pretrained(\"arash-rasouli/BERT-offensive-tweet-classification\")"
   ]
  },
  {
   "cell_type": "code",
   "execution_count": 15,
   "metadata": {},
   "outputs": [
    {
     "name": "stderr",
     "output_type": "stream",
     "text": [
      "100%|██████████| 441/441 [22:41<00:00,  3.09s/it]\n"
     ]
    },
    {
     "data": {
      "text/html": [
       "<div>\n",
       "<style scoped>\n",
       "    .dataframe tbody tr th:only-of-type {\n",
       "        vertical-align: middle;\n",
       "    }\n",
       "\n",
       "    .dataframe tbody tr th {\n",
       "        vertical-align: top;\n",
       "    }\n",
       "\n",
       "    .dataframe thead th {\n",
       "        text-align: right;\n",
       "    }\n",
       "</style>\n",
       "<table border=\"1\" class=\"dataframe\">\n",
       "  <thead>\n",
       "    <tr style=\"text-align: right;\">\n",
       "      <th></th>\n",
       "      <th>id</th>\n",
       "      <th>tweet</th>\n",
       "      <th>cleaned_tweet</th>\n",
       "      <th>subtask_a</th>\n",
       "      <th>subtask_b</th>\n",
       "      <th>subtask_c</th>\n",
       "      <th>pred</th>\n",
       "      <th>offensive_prob</th>\n",
       "      <th>pred_label</th>\n",
       "    </tr>\n",
       "  </thead>\n",
       "  <tbody>\n",
       "    <tr>\n",
       "      <th>0</th>\n",
       "      <td>86426</td>\n",
       "      <td>@USER She should ask a few native Americans wh...</td>\n",
       "      <td>ask native americans take</td>\n",
       "      <td>OFF</td>\n",
       "      <td>UNT</td>\n",
       "      <td>None</td>\n",
       "      <td>0</td>\n",
       "      <td>0.020834</td>\n",
       "      <td>Not Offensive</td>\n",
       "    </tr>\n",
       "    <tr>\n",
       "      <th>1</th>\n",
       "      <td>90194</td>\n",
       "      <td>@USER @USER Go home you’re drunk!!! @USER #MAG...</td>\n",
       "      <td>go home drunk maga trump 2020</td>\n",
       "      <td>OFF</td>\n",
       "      <td>TIN</td>\n",
       "      <td>IND</td>\n",
       "      <td>1</td>\n",
       "      <td>0.749883</td>\n",
       "      <td>Offensive</td>\n",
       "    </tr>\n",
       "    <tr>\n",
       "      <th>2</th>\n",
       "      <td>16820</td>\n",
       "      <td>Amazon is investigating Chinese employees who ...</td>\n",
       "      <td>amazon investigating chinese employees selling...</td>\n",
       "      <td>NOT</td>\n",
       "      <td>None</td>\n",
       "      <td>None</td>\n",
       "      <td>0</td>\n",
       "      <td>0.018692</td>\n",
       "      <td>Not Offensive</td>\n",
       "    </tr>\n",
       "    <tr>\n",
       "      <th>3</th>\n",
       "      <td>62688</td>\n",
       "      <td>@USER Someone should'veTaken\" this piece of sh...</td>\n",
       "      <td>someone vetaken piece shit volcano</td>\n",
       "      <td>OFF</td>\n",
       "      <td>UNT</td>\n",
       "      <td>None</td>\n",
       "      <td>1</td>\n",
       "      <td>0.979588</td>\n",
       "      <td>Offensive</td>\n",
       "    </tr>\n",
       "    <tr>\n",
       "      <th>4</th>\n",
       "      <td>43605</td>\n",
       "      <td>@USER @USER Obama wanted liberals &amp;amp; illega...</td>\n",
       "      <td>obama wanted liberals illegals move red states</td>\n",
       "      <td>NOT</td>\n",
       "      <td>None</td>\n",
       "      <td>None</td>\n",
       "      <td>0</td>\n",
       "      <td>0.130298</td>\n",
       "      <td>Not Offensive</td>\n",
       "    </tr>\n",
       "  </tbody>\n",
       "</table>\n",
       "</div>"
      ],
      "text/plain": [
       "      id                                              tweet  \\\n",
       "0  86426  @USER She should ask a few native Americans wh...   \n",
       "1  90194  @USER @USER Go home you’re drunk!!! @USER #MAG...   \n",
       "2  16820  Amazon is investigating Chinese employees who ...   \n",
       "3  62688  @USER Someone should'veTaken\" this piece of sh...   \n",
       "4  43605  @USER @USER Obama wanted liberals &amp; illega...   \n",
       "\n",
       "                                       cleaned_tweet subtask_a subtask_b  \\\n",
       "0                          ask native americans take       OFF       UNT   \n",
       "1                      go home drunk maga trump 2020       OFF       TIN   \n",
       "2  amazon investigating chinese employees selling...       NOT      None   \n",
       "3                 someone vetaken piece shit volcano       OFF       UNT   \n",
       "4     obama wanted liberals illegals move red states       NOT      None   \n",
       "\n",
       "  subtask_c  pred  offensive_prob     pred_label  \n",
       "0      None     0        0.020834  Not Offensive  \n",
       "1       IND     1        0.749883      Offensive  \n",
       "2      None     0        0.018692  Not Offensive  \n",
       "3      None     1        0.979588      Offensive  \n",
       "4      None     0        0.130298  Not Offensive  "
      ]
     },
     "execution_count": 15,
     "metadata": {},
     "output_type": "execute_result"
    }
   ],
   "source": [
    "import torch\n",
    "import pandas as pd\n",
    "from scipy.special import softmax\n",
    "from tqdm import tqdm\n",
    "\n",
    "max_length = 512\n",
    "# Device (GPU or CPU)\n",
    "device =\"cpu\"\n",
    "model.to(device)\n",
    "model.eval()\n",
    "\n",
    "# Prediction function\n",
    "def predict_offensive(tweets, batch_size=32):\n",
    "    predictions, scores = [], []\n",
    "    for i in tqdm(range(0, len(tweets), batch_size)):\n",
    "        batch = tweets[i:i+batch_size].tolist()\n",
    "        encoded = tokenizer(batch, padding=True, truncation=True, return_tensors=\"pt\").to(device)\n",
    "\n",
    "        with torch.no_grad():\n",
    "            outputs = model(**encoded)\n",
    "            probs = softmax(outputs.logits.cpu().numpy(), axis=1)\n",
    "            preds = probs.argmax(axis=1)\n",
    "            predictions.extend(preds)\n",
    "            scores.extend(probs[:, 1])  # Offensive probability\n",
    "    return predictions, scores\n",
    "\n",
    "# Apply prediction on your olid DataFrame\n",
    "olid['pred'], olid['offensive_prob'] = predict_offensive(olid['tweet'])\n",
    "\n",
    "# Map predictions to labels\n",
    "labels = {0: 'Not Offensive', 1: 'Offensive'}\n",
    "olid['pred_label'] = olid['pred'].map(labels)\n",
    "\n",
    "# Check results\n",
    "olid.head()\n"
   ]
  },
  {
   "cell_type": "code",
   "execution_count": 18,
   "metadata": {},
   "outputs": [
    {
     "name": "stdout",
     "output_type": "stream",
     "text": [
      "\n",
      "📊 Classification Report:\n",
      "               precision    recall  f1-score   support\n",
      "\n",
      "Not Offensive       0.90      0.93      0.92      9460\n",
      "    Offensive       0.86      0.80      0.83      4640\n",
      "\n",
      "     accuracy                           0.89     14100\n",
      "    macro avg       0.88      0.87      0.87     14100\n",
      " weighted avg       0.89      0.89      0.89     14100\n",
      "\n",
      "\n",
      "✅ Accuracy: 0.8896\n",
      "✅ Precision: 0.8566\n",
      "✅ Recall: 0.7983\n",
      "✅ F1 Score: 0.8264\n"
     ]
    },
    {
     "data": {
      "image/png": "[encoded data removed]",
      "text/plain": [
       "<Figure size 600x500 with 2 Axes>"
      ]
     },
     "metadata": {},
     "output_type": "display_data"
    }
   ],
   "source": [
    "# Threshold=0.5\n",
    "evaluate_model(olid['true_label'].to_numpy(),y_pred=olid['pred'].to_numpy(),class_labels=['Not Offensive','Offensive'],threshold=0.5)"
   ]
  },
  {
   "cell_type": "code",
   "execution_count": 19,
   "metadata": {},
   "outputs": [],
   "source": [
    "olid.to_csv('tweeteval_arash_bert.csv',index=False)"
   ]
  },
  {
   "cell_type": "markdown",
   "metadata": {},
   "source": [
    "### Tasksource/Deberta"
   ]
  },
  {
   "cell_type": "code",
   "execution_count": 5,
   "metadata": {},
   "outputs": [
    {
     "name": "stdout",
     "output_type": "stream",
     "text": [
      "WARNING:tensorflow:From d:\\Anaconda\\Lib\\site-packages\\tf_keras\\src\\losses.py:2976: The name tf.losses.sparse_softmax_cross_entropy is deprecated. Please use tf.compat.v1.losses.sparse_softmax_cross_entropy instead.\n",
      "\n"
     ]
    },
    {
     "name": "stderr",
     "output_type": "stream",
     "text": [
      "Device set to use cuda\n",
      "Classifying tweets:   0%|          | 0/441 [00:00<?, ?it/s]Asking to truncate to max_length but no maximum length is provided and the model has no predefined maximum length. Default to no truncation.\n",
      "You seem to be using the pipelines sequentially on GPU. In order to maximize efficiency please use a dataset\n",
      "Classifying tweets: 100%|██████████| 441/441 [12:25<00:00,  1.69s/it]\n"
     ]
    }
   ],
   "source": [
    "import pandas as pd\n",
    "from transformers import pipeline\n",
    "from tqdm import tqdm\n",
    "\n",
    "def load_zero_shot_classifier(model_name=\"tasksource/deberta-small-long-nli\"):\n",
    "    \"\"\"\n",
    "    Loads a zero-shot classification pipeline with the specified model.\n",
    "    \"\"\"\n",
    "    # Specify the task for zero-shot classification\n",
    "    classifier = pipeline(\"zero-shot-classification\", model=model_name,device='cuda')\n",
    "    return classifier\n",
    "\n",
    "def classify_tweets(df, text_column=\"tweet\", candidate_labels=None, batch_size=16):\n",
    "    \"\"\"\n",
    "    Classifies tweets in a DataFrame using a zero-shot classification pipeline.\n",
    "    \n",
    "    Args:\n",
    "        df (pd.DataFrame): DataFrame containing tweets.\n",
    "        text_column (str): Name of the column containing tweet texts.\n",
    "        candidate_labels (list): List of candidate labels.\n",
    "        batch_size (int): Batch size for processing (pipeline processes one tweet at a time).\n",
    "        \n",
    "    Returns:\n",
    "        DataFrame with an added 'prediction' column.\n",
    "    \"\"\"\n",
    "    if candidate_labels is None:\n",
    "        # Default candidate labels; adjust as needed\n",
    "        candidate_labels = [\"Not Offensive\", \"Offensive\"]\n",
    "        \n",
    "    classifier = load_zero_shot_classifier()\n",
    "    predictions = []\n",
    "    tweets = df[text_column].tolist()\n",
    "    \n",
    "    for i in tqdm(range(0, len(tweets), batch_size), desc=\"Classifying tweets\"):\n",
    "        batch = tweets[i:i+batch_size]\n",
    "        # Process each tweet in the batch individually\n",
    "        for tweet in batch:\n",
    "            result = classifier(tweet, candidate_labels=candidate_labels)\n",
    "            # Take the label with the highest score\n",
    "            predictions.append(result[\"labels\"][0])\n",
    "    \n",
    "    df[\"prediction\"] = predictions\n",
    "    return df\n",
    "\n",
    "# Example usage:\n",
    "if __name__ == \"__main__\":\n",
    "    # Load your dataset (ensure your CSV has a column named \"tweet\")\n",
    "    candidate_labels = [\"Not Offensive\", \"Offensive\"]\n",
    "    classified_df = classify_tweets(olid, text_column=\"tweet\", candidate_labels=candidate_labels, batch_size=32)\n",
    "    classified_df.head()\n"
   ]
  },
  {
   "cell_type": "code",
   "execution_count": 9,
   "metadata": {},
   "outputs": [
    {
     "data": {
      "text/html": [
       "<div>\n",
       "<style scoped>\n",
       "    .dataframe tbody tr th:only-of-type {\n",
       "        vertical-align: middle;\n",
       "    }\n",
       "\n",
       "    .dataframe tbody tr th {\n",
       "        vertical-align: top;\n",
       "    }\n",
       "\n",
       "    .dataframe thead th {\n",
       "        text-align: right;\n",
       "    }\n",
       "</style>\n",
       "<table border=\"1\" class=\"dataframe\">\n",
       "  <thead>\n",
       "    <tr style=\"text-align: right;\">\n",
       "      <th></th>\n",
       "      <th>id</th>\n",
       "      <th>tweet</th>\n",
       "      <th>cleaned_tweet</th>\n",
       "      <th>subtask_a</th>\n",
       "      <th>subtask_b</th>\n",
       "      <th>subtask_c</th>\n",
       "      <th>true_label</th>\n",
       "      <th>prediction</th>\n",
       "      <th>pred_label</th>\n",
       "    </tr>\n",
       "  </thead>\n",
       "  <tbody>\n",
       "    <tr>\n",
       "      <th>0</th>\n",
       "      <td>86426</td>\n",
       "      <td>@USER She should ask a few native Americans wh...</td>\n",
       "      <td>ask native americans take</td>\n",
       "      <td>OFF</td>\n",
       "      <td>UNT</td>\n",
       "      <td>None</td>\n",
       "      <td>1</td>\n",
       "      <td>Not Offensive</td>\n",
       "      <td>0</td>\n",
       "    </tr>\n",
       "    <tr>\n",
       "      <th>1</th>\n",
       "      <td>90194</td>\n",
       "      <td>@USER @USER Go home you’re drunk!!! @USER #MAG...</td>\n",
       "      <td>go home drunk maga trump 2020</td>\n",
       "      <td>OFF</td>\n",
       "      <td>TIN</td>\n",
       "      <td>IND</td>\n",
       "      <td>1</td>\n",
       "      <td>Offensive</td>\n",
       "      <td>1</td>\n",
       "    </tr>\n",
       "    <tr>\n",
       "      <th>2</th>\n",
       "      <td>16820</td>\n",
       "      <td>Amazon is investigating Chinese employees who ...</td>\n",
       "      <td>amazon investigating chinese employees selling...</td>\n",
       "      <td>NOT</td>\n",
       "      <td>None</td>\n",
       "      <td>None</td>\n",
       "      <td>0</td>\n",
       "      <td>Not Offensive</td>\n",
       "      <td>0</td>\n",
       "    </tr>\n",
       "    <tr>\n",
       "      <th>3</th>\n",
       "      <td>62688</td>\n",
       "      <td>@USER Someone should'veTaken\" this piece of sh...</td>\n",
       "      <td>someone vetaken piece shit volcano</td>\n",
       "      <td>OFF</td>\n",
       "      <td>UNT</td>\n",
       "      <td>None</td>\n",
       "      <td>1</td>\n",
       "      <td>Offensive</td>\n",
       "      <td>1</td>\n",
       "    </tr>\n",
       "    <tr>\n",
       "      <th>4</th>\n",
       "      <td>43605</td>\n",
       "      <td>@USER @USER Obama wanted liberals &amp;amp; illega...</td>\n",
       "      <td>obama wanted liberals illegals move red states</td>\n",
       "      <td>NOT</td>\n",
       "      <td>None</td>\n",
       "      <td>None</td>\n",
       "      <td>0</td>\n",
       "      <td>Offensive</td>\n",
       "      <td>1</td>\n",
       "    </tr>\n",
       "  </tbody>\n",
       "</table>\n",
       "</div>"
      ],
      "text/plain": [
       "      id                                              tweet  \\\n",
       "0  86426  @USER She should ask a few native Americans wh...   \n",
       "1  90194  @USER @USER Go home you’re drunk!!! @USER #MAG...   \n",
       "2  16820  Amazon is investigating Chinese employees who ...   \n",
       "3  62688  @USER Someone should'veTaken\" this piece of sh...   \n",
       "4  43605  @USER @USER Obama wanted liberals &amp; illega...   \n",
       "\n",
       "                                       cleaned_tweet subtask_a subtask_b  \\\n",
       "0                          ask native americans take       OFF       UNT   \n",
       "1                      go home drunk maga trump 2020       OFF       TIN   \n",
       "2  amazon investigating chinese employees selling...       NOT      None   \n",
       "3                 someone vetaken piece shit volcano       OFF       UNT   \n",
       "4     obama wanted liberals illegals move red states       NOT      None   \n",
       "\n",
       "  subtask_c  true_label     prediction  pred_label  \n",
       "0      None           1  Not Offensive           0  \n",
       "1       IND           1      Offensive           1  \n",
       "2      None           0  Not Offensive           0  \n",
       "3      None           1      Offensive           1  \n",
       "4      None           0      Offensive           1  "
      ]
     },
     "execution_count": 9,
     "metadata": {},
     "output_type": "execute_result"
    }
   ],
   "source": [
    "classified_df['pred_label'] = classified_df['prediction'].map({'Not Offensive': 0, 'Offensive': 1})\n",
    "classified_df.head()"
   ]
  },
  {
   "cell_type": "code",
   "execution_count": 10,
   "metadata": {},
   "outputs": [],
   "source": [
    "classified_df.to_csv('tweeteval_tasksource_deberta.csv',index=False)"
   ]
  },
  {
   "cell_type": "code",
   "execution_count": 11,
   "metadata": {},
   "outputs": [
    {
     "name": "stdout",
     "output_type": "stream",
     "text": [
      "\n",
      "📊 Classification Report:\n",
      "               precision    recall  f1-score   support\n",
      "\n",
      "Not Offensive       0.88      0.73      0.80      9460\n",
      "    Offensive       0.59      0.79      0.68      4640\n",
      "\n",
      "     accuracy                           0.75     14100\n",
      "    macro avg       0.74      0.76      0.74     14100\n",
      " weighted avg       0.78      0.75      0.76     14100\n",
      "\n",
      "\n",
      "✅ Accuracy: 0.7530\n",
      "✅ Precision: 0.5937\n",
      "✅ Recall: 0.7907\n",
      "✅ F1 Score: 0.6782\n"
     ]
    },
    {
     "data": {
      "image/png": "[encoded data removed]",
      "text/plain": [
       "<Figure size 600x500 with 2 Axes>"
      ]
     },
     "metadata": {},
     "output_type": "display_data"
    }
   ],
   "source": [
    "evaluate_model(classified_df['true_label'].to_numpy(),y_pred=classified_df['pred_label'].to_numpy(),class_labels=['Not Offensive','Offensive'],threshold=0.5)"
   ]
  },
  {
   "cell_type": "code",
   "execution_count": null,
   "metadata": {},
   "outputs": [],
   "source": []
  }
 ],
 "metadata": {
  "kernelspec": {
   "display_name": "base",
   "language": "python",
   "name": "python3"
  },
  "language_info": {
   "codemirror_mode": {
    "name": "ipython",
    "version": 3
   },
   "file_extension": ".py",
   "mimetype": "text/x-python",
   "name": "python",
   "nbconvert_exporter": "python",
   "pygments_lexer": "ipython3",
   "version": "3.12.7"
  }
 },
 "nbformat": 4,
 "nbformat_minor": 2
}
