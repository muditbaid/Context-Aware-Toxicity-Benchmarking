{
 "cells": [
  {
   "cell_type": "code",
   "execution_count": 1,
   "id": "8050fa6a-2388-426b-ab97-be87086a849e",
   "metadata": {},
   "outputs": [
    {
     "name": "stderr",
     "output_type": "stream",
     "text": [
      "Cloning into 'Social-Media-Toxic-Comments-Classification'...\n",
      "Updating files: 100% (6/6)\n",
      "Updating files: 100% (6/6), done.\n"
     ]
    }
   ],
   "source": [
    "#  !git clone https://github.com/sid-shnkar/Social-Media-Toxic-Comments-Classification.git"
   ]
  },
  {
   "cell_type": "code",
   "execution_count": 54,
   "id": "36dca6b6-5a7e-4a14-b9c7-42292ce47e61",
   "metadata": {},
   "outputs": [],
   "source": [
    "from sklearn.ensemble import VotingClassifier\n",
    "from sklearn.metrics import accuracy_score, f1_score, recall_score, hamming_loss, confusion_matrix\n",
    "from sklearn.feature_extraction.text import TfidfVectorizer\n",
    "from sklearn.svm import LinearSVC\n",
    "from nltk.stem.wordnet import WordNetLemmatizer\n",
    "from sklearn.linear_model import LogisticRegression\n",
    "import xgboost as xgb\n",
    "import pandas as pd\n",
    "import numpy as np\n",
    "import re\n",
    "import string\n",
    "import warnings\n",
    "import joblib\n",
    "import os\n",
    "import pandas as pd\n",
    "import importlib\n",
    "import sys\n",
    "sys.path.append(os.path.abspath(\"../\"))  # Add directory\n",
    "import eval_metrics  # Import module\n",
    "import balance_df\n",
    "# Reload if modified\n",
    "importlib.reload(eval_metrics)\n",
    "from eval_metrics import evaluate_model, custom_threshold_condition\n",
    "from balance_df import balance_dataset"
   ]
  },
  {
   "cell_type": "code",
   "execution_count": 2,
   "id": "f575f77c-007a-4fa0-a0f8-1407eb9680c1",
   "metadata": {},
   "outputs": [],
   "source": [
    "svm_classifier = LinearSVC(C=1, class_weight=None, dual=True, fit_intercept=True,\n",
    "                    intercept_scaling=1, loss='squared_hinge', max_iter=1000,\n",
    "                    multi_class='ovr', penalty='l2', random_state=None, tol=0.0001,\n",
    "                    verbose=0)\n",
    "\n",
    "lr_classifier = LogisticRegression(C=1.0, class_weight=None, dual=False, fit_intercept=True,\n",
    "                                     intercept_scaling=1, max_iter=100, multi_class='auto',\n",
    "                                     n_jobs=None, penalty='l2', random_state=None, solver='lbfgs',\n",
    "                                     tol=0.0001, verbose=0, warm_start=False)\n",
    "xgb_classifier=xgb.XGBClassifier()"
   ]
  },
  {
   "cell_type": "code",
   "execution_count": 4,
   "id": "fe4e436e",
   "metadata": {},
   "outputs": [
    {
     "name": "stdout",
     "output_type": "stream",
     "text": [
      "/home/mb05005/mudit/Threat/Ensemble\n"
     ]
    }
   ],
   "source": [
    "%cd Ensemble"
   ]
  },
  {
   "cell_type": "code",
   "execution_count": 5,
   "id": "44156b4f-53b1-46ff-b6ec-fecab4ff287c",
   "metadata": {},
   "outputs": [],
   "source": [
    "# Load the saved ensemble model\n",
    "ensemble_clf = joblib.load('./LinearSVC_git/ensemble.pkl')"
   ]
  },
  {
   "cell_type": "code",
   "execution_count": 11,
   "id": "964d5658-3cd3-41bd-87ee-c5f335a27ad0",
   "metadata": {},
   "outputs": [],
   "source": [
    "def tokenize_text(text):\n",
    "    text=text.lower()\n",
    "    regular_expr=re.compile('[' + re.escape(string.punctuation) + '0-9\\\\r\\\\t\\\\n]')\n",
    "    without_punctuation=regular_expr.sub(\" \",text)\n",
    "    \n",
    "    tokenize_words=without_punctuation.split(' ')\n",
    "    tokenize_words=[word.encode('ascii','ignore').decode('ascii') for word in tokenize_words]\n",
    "    \n",
    "    lemmatizer=WordNetLemmatizer()\n",
    "    tokenize_words=[lemmatizer.lemmatize(word) for word in tokenize_words]\n",
    "    \n",
    "    tokenize_words=[word for word in tokenize_words if len(word) > 2]\n",
    "    \n",
    "    return tokenize_words"
   ]
  },
  {
   "cell_type": "code",
   "execution_count": 13,
   "id": "18148a5a",
   "metadata": {},
   "outputs": [],
   "source": [
    "# Load the saved TF-IDF vectorizer\n",
    "tfidf_vector = joblib.load('./LinearSVC_git/tfidf_vectorizer.pkl')"
   ]
  },
  {
   "cell_type": "code",
   "execution_count": 15,
   "id": "e1b90498",
   "metadata": {},
   "outputs": [
    {
     "name": "stdout",
     "output_type": "stream",
     "text": [
      "19119\n"
     ]
    }
   ],
   "source": [
    "print(len(tfidf_vector.vocabulary_))  # If this returns a number > 0, it's fitted"
   ]
  },
  {
   "cell_type": "code",
   "execution_count": 17,
   "id": "59618dbf",
   "metadata": {},
   "outputs": [],
   "source": [
    "def preprocess_and_transform(pd_dataframe, vectorizer_path='/home/mb05005/mudit/Threat/Ensemble/LinearSVC_git/tfidf_vectorizer.pkl'):\n",
    "    \"\"\"\n",
    "    Preprocess and transform text data using a pre-trained TfidfVectorizer.\n",
    "\n",
    "    Parameters:\n",
    "        dataset_path (str): Path to the dataset CSV file containing the text data.\n",
    "        vectorizer_path (str): Path to the saved TfidfVectorizer file.\n",
    "\n",
    "    Returns:\n",
    "        X_new (sparse matrix): Transformed text data as a TF-IDF feature matrix.\n",
    "        new_dataset (DataFrame): Original dataset for further reference.\n",
    "    \"\"\"\n",
    "    \n",
    "    # Extract the text column\n",
    "    new_text = pd_dataframe['comment_text']  # Ensure this column matches your dataset\n",
    "    \n",
    "    \n",
    "    # Transform the new text data using the vectorizer\n",
    "    X_new = tfidf_vector.transform(new_text)\n",
    "    \n",
    "    return X_new\n",
    "\n",
    "# Predict labels for the new dataset\n",
    "def predictions(model, X_new):\n",
    "    predictions = model.predict(X_new)\n",
    "    predict_df = pd.DataFrame(predictions,columns=['Prediction label'])\n",
    "    return predict_df"
   ]
  },
  {
   "cell_type": "markdown",
   "id": "3746651f",
   "metadata": {},
   "source": [
    "### Dataset 1: Toxic Comment Classification"
   ]
  },
  {
   "cell_type": "code",
   "execution_count": 24,
   "id": "7e81105d-f2cf-4396-86ae-0f5a9ec6fd32",
   "metadata": {},
   "outputs": [
    {
     "data": {
      "text/html": [
       "<div>\n",
       "<style scoped>\n",
       "    .dataframe tbody tr th:only-of-type {\n",
       "        vertical-align: middle;\n",
       "    }\n",
       "\n",
       "    .dataframe tbody tr th {\n",
       "        vertical-align: top;\n",
       "    }\n",
       "\n",
       "    .dataframe thead th {\n",
       "        text-align: right;\n",
       "    }\n",
       "</style>\n",
       "<table border=\"1\" class=\"dataframe\">\n",
       "  <thead>\n",
       "    <tr style=\"text-align: right;\">\n",
       "      <th></th>\n",
       "      <th>id</th>\n",
       "      <th>comment_text</th>\n",
       "      <th>true_label</th>\n",
       "    </tr>\n",
       "  </thead>\n",
       "  <tbody>\n",
       "    <tr>\n",
       "      <th>0</th>\n",
       "      <td>55858b89f99e9bda</td>\n",
       "      <td>Hope he dies \\n\\nNow this Atheist filth's wife...</td>\n",
       "      <td>1</td>\n",
       "    </tr>\n",
       "    <tr>\n",
       "      <th>1</th>\n",
       "      <td>425a1dbdf740e9b8</td>\n",
       "      <td>2006 (UTC)\\n\\n Removed Merge  17:15, 5 April</td>\n",
       "      <td>0</td>\n",
       "    </tr>\n",
       "    <tr>\n",
       "      <th>2</th>\n",
       "      <td>20c81b99f7adf557</td>\n",
       "      <td>John discuss it here \\n\\nSeems you don't like ...</td>\n",
       "      <td>0</td>\n",
       "    </tr>\n",
       "    <tr>\n",
       "      <th>3</th>\n",
       "      <td>af0dce6ce84974ec</td>\n",
       "      <td>\"\\nTo answer your question, no. There is no si...</td>\n",
       "      <td>0</td>\n",
       "    </tr>\n",
       "    <tr>\n",
       "      <th>4</th>\n",
       "      <td>a069e6d6d1a2348d</td>\n",
       "      <td>\"\\n But Arpad can cite any webpage he finds, o...</td>\n",
       "      <td>0</td>\n",
       "    </tr>\n",
       "  </tbody>\n",
       "</table>\n",
       "</div>"
      ],
      "text/plain": [
       "                 id                                       comment_text  \\\n",
       "0  55858b89f99e9bda  Hope he dies \\n\\nNow this Atheist filth's wife...   \n",
       "1  425a1dbdf740e9b8       2006 (UTC)\\n\\n Removed Merge  17:15, 5 April   \n",
       "2  20c81b99f7adf557  John discuss it here \\n\\nSeems you don't like ...   \n",
       "3  af0dce6ce84974ec  \"\\nTo answer your question, no. There is no si...   \n",
       "4  a069e6d6d1a2348d  \"\\n But Arpad can cite any webpage he finds, o...   \n",
       "\n",
       "   true_label  \n",
       "0           1  \n",
       "1           0  \n",
       "2           0  \n",
       "3           0  \n",
       "4           0  "
      ]
     },
     "execution_count": 24,
     "metadata": {},
     "output_type": "execute_result"
    }
   ],
   "source": [
    "toxiccomment = pd.read_csv('..//Datasets/toxiccomment/toxiccomment.csv')\n",
    "toxiccomment.head()"
   ]
  },
  {
   "cell_type": "code",
   "execution_count": 28,
   "id": "8b1f01e8",
   "metadata": {},
   "outputs": [],
   "source": [
    "\n",
    "# Transform the new text data using the vectorizer\n",
    "X_new = tfidf_vector.transform(toxiccomment['comment_text'])"
   ]
  },
  {
   "cell_type": "code",
   "execution_count": 30,
   "id": "4ff302bc-1f32-4fa1-87a3-6e05640d2817",
   "metadata": {},
   "outputs": [
    {
     "data": {
      "text/html": [
       "<div>\n",
       "<style scoped>\n",
       "    .dataframe tbody tr th:only-of-type {\n",
       "        vertical-align: middle;\n",
       "    }\n",
       "\n",
       "    .dataframe tbody tr th {\n",
       "        vertical-align: top;\n",
       "    }\n",
       "\n",
       "    .dataframe thead th {\n",
       "        text-align: right;\n",
       "    }\n",
       "</style>\n",
       "<table border=\"1\" class=\"dataframe\">\n",
       "  <thead>\n",
       "    <tr style=\"text-align: right;\">\n",
       "      <th></th>\n",
       "      <th>pred_label</th>\n",
       "    </tr>\n",
       "  </thead>\n",
       "  <tbody>\n",
       "    <tr>\n",
       "      <th>0</th>\n",
       "      <td>0</td>\n",
       "    </tr>\n",
       "    <tr>\n",
       "      <th>1</th>\n",
       "      <td>0</td>\n",
       "    </tr>\n",
       "    <tr>\n",
       "      <th>2</th>\n",
       "      <td>0</td>\n",
       "    </tr>\n",
       "    <tr>\n",
       "      <th>3</th>\n",
       "      <td>0</td>\n",
       "    </tr>\n",
       "    <tr>\n",
       "      <th>4</th>\n",
       "      <td>0</td>\n",
       "    </tr>\n",
       "  </tbody>\n",
       "</table>\n",
       "</div>"
      ],
      "text/plain": [
       "   pred_label\n",
       "0           0\n",
       "1           0\n",
       "2           0\n",
       "3           0\n",
       "4           0"
      ]
     },
     "execution_count": 30,
     "metadata": {},
     "output_type": "execute_result"
    }
   ],
   "source": [
    "# Predict labels for the new dataset\n",
    "predictions = ensemble_clf.predict(X_new)\n",
    "predict_df = pd.DataFrame(predictions,columns=['pred_label'])\n",
    "predict_df.head()"
   ]
  },
  {
   "cell_type": "code",
   "execution_count": 32,
   "id": "082ad735-a1b2-457f-bf42-9ce9c6f596dd",
   "metadata": {},
   "outputs": [
    {
     "data": {
      "text/plain": [
       "pred_label\n",
       "0    1319\n",
       "1      59\n",
       "Name: count, dtype: int64"
      ]
     },
     "execution_count": 32,
     "metadata": {},
     "output_type": "execute_result"
    }
   ],
   "source": [
    "predict_df['pred_label'].value_counts()"
   ]
  },
  {
   "cell_type": "code",
   "execution_count": 34,
   "id": "235e1fbd-3e0a-4e8d-9d09-3e6c8f9e7064",
   "metadata": {},
   "outputs": [
    {
     "data": {
      "text/html": [
       "<div>\n",
       "<style scoped>\n",
       "    .dataframe tbody tr th:only-of-type {\n",
       "        vertical-align: middle;\n",
       "    }\n",
       "\n",
       "    .dataframe tbody tr th {\n",
       "        vertical-align: top;\n",
       "    }\n",
       "\n",
       "    .dataframe thead th {\n",
       "        text-align: right;\n",
       "    }\n",
       "</style>\n",
       "<table border=\"1\" class=\"dataframe\">\n",
       "  <thead>\n",
       "    <tr style=\"text-align: right;\">\n",
       "      <th></th>\n",
       "      <th>id</th>\n",
       "      <th>comment_text</th>\n",
       "      <th>true_label</th>\n",
       "      <th>pred_label</th>\n",
       "    </tr>\n",
       "  </thead>\n",
       "  <tbody>\n",
       "    <tr>\n",
       "      <th>0</th>\n",
       "      <td>55858b89f99e9bda</td>\n",
       "      <td>Hope he dies \\n\\nNow this Atheist filth's wife...</td>\n",
       "      <td>1</td>\n",
       "      <td>0</td>\n",
       "    </tr>\n",
       "    <tr>\n",
       "      <th>1</th>\n",
       "      <td>425a1dbdf740e9b8</td>\n",
       "      <td>2006 (UTC)\\n\\n Removed Merge  17:15, 5 April</td>\n",
       "      <td>0</td>\n",
       "      <td>0</td>\n",
       "    </tr>\n",
       "    <tr>\n",
       "      <th>2</th>\n",
       "      <td>20c81b99f7adf557</td>\n",
       "      <td>John discuss it here \\n\\nSeems you don't like ...</td>\n",
       "      <td>0</td>\n",
       "      <td>0</td>\n",
       "    </tr>\n",
       "    <tr>\n",
       "      <th>3</th>\n",
       "      <td>af0dce6ce84974ec</td>\n",
       "      <td>\"\\nTo answer your question, no. There is no si...</td>\n",
       "      <td>0</td>\n",
       "      <td>0</td>\n",
       "    </tr>\n",
       "    <tr>\n",
       "      <th>4</th>\n",
       "      <td>a069e6d6d1a2348d</td>\n",
       "      <td>\"\\n But Arpad can cite any webpage he finds, o...</td>\n",
       "      <td>0</td>\n",
       "      <td>0</td>\n",
       "    </tr>\n",
       "  </tbody>\n",
       "</table>\n",
       "</div>"
      ],
      "text/plain": [
       "                 id                                       comment_text  \\\n",
       "0  55858b89f99e9bda  Hope he dies \\n\\nNow this Atheist filth's wife...   \n",
       "1  425a1dbdf740e9b8       2006 (UTC)\\n\\n Removed Merge  17:15, 5 April   \n",
       "2  20c81b99f7adf557  John discuss it here \\n\\nSeems you don't like ...   \n",
       "3  af0dce6ce84974ec  \"\\nTo answer your question, no. There is no si...   \n",
       "4  a069e6d6d1a2348d  \"\\n But Arpad can cite any webpage he finds, o...   \n",
       "\n",
       "   true_label  pred_label  \n",
       "0           1           0  \n",
       "1           0           0  \n",
       "2           0           0  \n",
       "3           0           0  \n",
       "4           0           0  "
      ]
     },
     "execution_count": 34,
     "metadata": {},
     "output_type": "execute_result"
    }
   ],
   "source": [
    "toxiccomment['pred_label'] = predict_df['pred_label'].tolist()\n",
    "toxiccomment.head()"
   ]
  },
  {
   "cell_type": "code",
   "execution_count": 36,
   "id": "a895e820-f558-4ea6-b707-426dd42b9deb",
   "metadata": {},
   "outputs": [],
   "source": [
    "toxiccomment.to_csv('ensemble_toxiccomment.csv',index=False)"
   ]
  },
  {
   "cell_type": "code",
   "execution_count": 38,
   "id": "df1bde24-29a5-4066-a911-3b84016d36a0",
   "metadata": {},
   "outputs": [
    {
     "name": "stdout",
     "output_type": "stream",
     "text": [
      "Accuracy:  0.5399129172714079\n",
      "F1-Score (threat): 0.41833468265973534\n",
      "Recall (threat): 0.5399129172714079\n",
      "Hamming Loss (threat): 0.46008708272859217\n"
     ]
    }
   ],
   "source": [
    "from sklearn.metrics import f1_score, recall_score, hamming_loss\n",
    "\n",
    "# Assuming 'new_labels' contains the true labels for the 'threat' column\n",
    "new_labels = toxiccomment['true_label']  # Replace with the actual column name for true labels\n",
    "predicted_labels = predict_df['pred_label']  # Replace with the actual column name for predictions\n",
    "\n",
    "# Calculate Accuracy, F1-Score and Recall for 'threat'\n",
    "f1 = f1_score(new_labels, predicted_labels, average=\"weighted\")\n",
    "recall = recall_score(new_labels, predicted_labels, average=\"weighted\")\n",
    "acc = accuracy_score(new_labels, predicted_labels)\n",
    "# Calculate Hamming Loss for 'threat'\n",
    "hamming_loss_score = hamming_loss(new_labels, predicted_labels)\n",
    "\n",
    "# Print Results\n",
    "print(\"Accuracy: \",acc)\n",
    "print(\"F1-Score (threat):\", f1)\n",
    "print(\"Recall (threat):\", recall)\n",
    "print(\"Hamming Loss (threat):\", hamming_loss_score)\n"
   ]
  },
  {
   "cell_type": "markdown",
   "id": "fc18f9fa",
   "metadata": {},
   "source": [
    "### Dataset 2: Jigsaw Unintended Bias"
   ]
  },
  {
   "cell_type": "code",
   "execution_count": 40,
   "id": "8c85fb5b",
   "metadata": {},
   "outputs": [
    {
     "data": {
      "text/html": [
       "<div>\n",
       "<style scoped>\n",
       "    .dataframe tbody tr th:only-of-type {\n",
       "        vertical-align: middle;\n",
       "    }\n",
       "\n",
       "    .dataframe tbody tr th {\n",
       "        vertical-align: top;\n",
       "    }\n",
       "\n",
       "    .dataframe thead th {\n",
       "        text-align: right;\n",
       "    }\n",
       "</style>\n",
       "<table border=\"1\" class=\"dataframe\">\n",
       "  <thead>\n",
       "    <tr style=\"text-align: right;\">\n",
       "      <th></th>\n",
       "      <th>id</th>\n",
       "      <th>comment_text</th>\n",
       "      <th>toxicity</th>\n",
       "      <th>severe_toxicity</th>\n",
       "      <th>obscene</th>\n",
       "      <th>sexual_explicit</th>\n",
       "      <th>identity_attack</th>\n",
       "      <th>insult</th>\n",
       "      <th>Threat_Jigsaw</th>\n",
       "      <th>toxicity_annotator_count</th>\n",
       "      <th>true_label</th>\n",
       "    </tr>\n",
       "  </thead>\n",
       "  <tbody>\n",
       "    <tr>\n",
       "      <th>0</th>\n",
       "      <td>304799</td>\n",
       "      <td>Is your concern satisfied by the fact that the...</td>\n",
       "      <td>0.000000</td>\n",
       "      <td>0.0</td>\n",
       "      <td>0.000000</td>\n",
       "      <td>0.0</td>\n",
       "      <td>0.000000</td>\n",
       "      <td>0.000000</td>\n",
       "      <td>0.000000</td>\n",
       "      <td>4</td>\n",
       "      <td>0</td>\n",
       "    </tr>\n",
       "    <tr>\n",
       "      <th>1</th>\n",
       "      <td>5293619</td>\n",
       "      <td>Comey's firing is a separate issue from the ma...</td>\n",
       "      <td>0.000000</td>\n",
       "      <td>0.0</td>\n",
       "      <td>0.000000</td>\n",
       "      <td>0.0</td>\n",
       "      <td>0.000000</td>\n",
       "      <td>0.000000</td>\n",
       "      <td>0.000000</td>\n",
       "      <td>4</td>\n",
       "      <td>0</td>\n",
       "    </tr>\n",
       "    <tr>\n",
       "      <th>2</th>\n",
       "      <td>5009206</td>\n",
       "      <td>klastri&gt;  besides the legal points.  She shoul...</td>\n",
       "      <td>0.500000</td>\n",
       "      <td>0.1</td>\n",
       "      <td>0.000000</td>\n",
       "      <td>0.0</td>\n",
       "      <td>0.000000</td>\n",
       "      <td>0.100000</td>\n",
       "      <td>0.500000</td>\n",
       "      <td>10</td>\n",
       "      <td>1</td>\n",
       "    </tr>\n",
       "    <tr>\n",
       "      <th>3</th>\n",
       "      <td>6122758</td>\n",
       "      <td>Trump has been the only one to threaten to wip...</td>\n",
       "      <td>0.536232</td>\n",
       "      <td>0.0</td>\n",
       "      <td>0.086957</td>\n",
       "      <td>0.0</td>\n",
       "      <td>0.057971</td>\n",
       "      <td>0.536232</td>\n",
       "      <td>0.043478</td>\n",
       "      <td>69</td>\n",
       "      <td>0</td>\n",
       "    </tr>\n",
       "    <tr>\n",
       "      <th>4</th>\n",
       "      <td>6018742</td>\n",
       "      <td>Just listen to yourself.\\n\"the swamp\" (twice!)...</td>\n",
       "      <td>0.000000</td>\n",
       "      <td>0.0</td>\n",
       "      <td>0.000000</td>\n",
       "      <td>0.0</td>\n",
       "      <td>0.000000</td>\n",
       "      <td>0.000000</td>\n",
       "      <td>0.000000</td>\n",
       "      <td>4</td>\n",
       "      <td>0</td>\n",
       "    </tr>\n",
       "  </tbody>\n",
       "</table>\n",
       "</div>"
      ],
      "text/plain": [
       "        id                                       comment_text  toxicity  \\\n",
       "0   304799  Is your concern satisfied by the fact that the...  0.000000   \n",
       "1  5293619  Comey's firing is a separate issue from the ma...  0.000000   \n",
       "2  5009206  klastri>  besides the legal points.  She shoul...  0.500000   \n",
       "3  6122758  Trump has been the only one to threaten to wip...  0.536232   \n",
       "4  6018742  Just listen to yourself.\\n\"the swamp\" (twice!)...  0.000000   \n",
       "\n",
       "   severe_toxicity   obscene  sexual_explicit  identity_attack    insult  \\\n",
       "0              0.0  0.000000              0.0         0.000000  0.000000   \n",
       "1              0.0  0.000000              0.0         0.000000  0.000000   \n",
       "2              0.1  0.000000              0.0         0.000000  0.100000   \n",
       "3              0.0  0.086957              0.0         0.057971  0.536232   \n",
       "4              0.0  0.000000              0.0         0.000000  0.000000   \n",
       "\n",
       "   Threat_Jigsaw  toxicity_annotator_count  true_label  \n",
       "0       0.000000                         4           0  \n",
       "1       0.000000                         4           0  \n",
       "2       0.500000                        10           1  \n",
       "3       0.043478                        69           0  \n",
       "4       0.000000                         4           0  "
      ]
     },
     "execution_count": 40,
     "metadata": {},
     "output_type": "execute_result"
    }
   ],
   "source": [
    "jigsaw = pd.read_csv(\"..//Datasets/jigsaw/jigsaw.csv\")\n",
    "jigsaw.head()"
   ]
  },
  {
   "cell_type": "code",
   "execution_count": 45,
   "id": "a0f6e2df",
   "metadata": {
    "scrolled": true
   },
   "outputs": [
    {
     "data": {
      "image/png": "[encoded data removed]",
      "text/plain": [
       "<Figure size 800x500 with 1 Axes>"
      ]
     },
     "metadata": {},
     "output_type": "display_data"
    }
   ],
   "source": [
    "import matplotlib.pyplot as plt\n",
    "import seaborn as sns\n",
    "# Plot the distribution for the 'threat' label\n",
    "plt.figure(figsize=(8, 5))\n",
    "sns.kdeplot(jigsaw['threat'], fill=True)\n",
    "plt.title('KDE Plot of Threat Label', fontsize=14)\n",
    "plt.xlabel('Threat Score', fontsize=12)\n",
    "plt.show()"
   ]
  },
  {
   "cell_type": "code",
   "execution_count": 42,
   "id": "b582eb68",
   "metadata": {},
   "outputs": [],
   "source": [
    "X_new = tfidf_vector.transform(jigsaw['comment_text'])"
   ]
  },
  {
   "cell_type": "code",
   "execution_count": 44,
   "id": "0c65c4b1",
   "metadata": {},
   "outputs": [],
   "source": [
    "predictions = ensemble_clf.predict(X_new)\n",
    "jigsaw['pred_label'] = predictions"
   ]
  },
  {
   "cell_type": "code",
   "execution_count": 50,
   "id": "5160efe4",
   "metadata": {
    "scrolled": true
   },
   "outputs": [
    {
     "name": "stdout",
     "output_type": "stream",
     "text": [
      "Evaluation Metrics for Threat:\n",
      "  Accuracy: 0.6032\n",
      "  F1-Score: 0.4573\n",
      "  Recall: 0.6032\n",
      "  Hamming Loss: 0.3968\n"
     ]
    },
    {
     "data": {
      "text/plain": [
       "{'Accuracy': 0.6032128514056225,\n",
       " 'F1-Score': 0.4572799345876053,\n",
       " 'Recall': 0.6032128514056225,\n",
       " 'Hamming Loss': 0.3967871485943775}"
      ]
     },
     "execution_count": 50,
     "metadata": {},
     "output_type": "execute_result"
    }
   ],
   "source": [
    "evaluate_model(jigsaw['true_label'],jigsaw['pred_label'])"
   ]
  },
  {
   "cell_type": "code",
   "execution_count": 56,
   "id": "ad0b6449-b6d5-4da0-8467-4d026d511516",
   "metadata": {
    "scrolled": true
   },
   "outputs": [
    {
     "name": "stdout",
     "output_type": "stream",
     "text": [
      "\n",
      "📊 Classification Report:\n",
      "              precision    recall  f1-score   support\n",
      "\n",
      "  Non-Threat       0.60      1.00      0.75       747\n",
      "      Threat       1.00      0.01      0.02       498\n",
      "\n",
      "    accuracy                           0.60      1245\n",
      "   macro avg       0.80      0.50      0.38      1245\n",
      "weighted avg       0.76      0.60      0.46      1245\n",
      "\n",
      "\n",
      "✅ Accuracy: 0.6032\n",
      "✅ Precision: 1.0000\n",
      "✅ Recall: 0.0080\n",
      "✅ F1 Score: 0.0159\n"
     ]
    },
    {
     "data": {
      "image/png": "[encoded data removed]",
      "text/plain": [
       "<Figure size 600x500 with 2 Axes>"
      ]
     },
     "metadata": {},
     "output_type": "display_data"
    }
   ],
   "source": [
    "evaluate_model(y_true=jigsaw['true_label'], y_pred=jigsaw['pred_label'], class_labels=[\"Not Threat\", \"Threat\"])"
   ]
  },
  {
   "cell_type": "markdown",
   "id": "2c3be298",
   "metadata": {
    "jp-MarkdownHeadingCollapsed": true
   },
   "source": [
    "### Dataset 3: Combined Pronaity Toxicity"
   ]
  },
  {
   "cell_type": "code",
   "execution_count": 64,
   "id": "abf73f51-b243-4f5e-9847-e863cc9952a3",
   "metadata": {},
   "outputs": [
    {
     "data": {
      "text/html": [
       "<div>\n",
       "<style scoped>\n",
       "    .dataframe tbody tr th:only-of-type {\n",
       "        vertical-align: middle;\n",
       "    }\n",
       "\n",
       "    .dataframe tbody tr th {\n",
       "        vertical-align: top;\n",
       "    }\n",
       "\n",
       "    .dataframe thead th {\n",
       "        text-align: right;\n",
       "    }\n",
       "</style>\n",
       "<table border=\"1\" class=\"dataframe\">\n",
       "  <thead>\n",
       "    <tr style=\"text-align: right;\">\n",
       "      <th></th>\n",
       "      <th>text</th>\n",
       "      <th>labels</th>\n",
       "      <th>encoded_labels</th>\n",
       "      <th>true_label</th>\n",
       "    </tr>\n",
       "  </thead>\n",
       "  <tbody>\n",
       "    <tr>\n",
       "      <th>0</th>\n",
       "      <td>Agree.  The number of morons that shoot animal...</td>\n",
       "      <td>['toxic' 'threat' 'insult']</td>\n",
       "      <td>[1, 0, 1, 0, 1, 0, 0, 0, 0]</td>\n",
       "      <td>1</td>\n",
       "    </tr>\n",
       "    <tr>\n",
       "      <th>1</th>\n",
       "      <td>\"As long as we get to shoot them at some point...</td>\n",
       "      <td>['toxic' 'threat']</td>\n",
       "      <td>[1, 0, 0, 0, 1, 0, 0, 0, 0]</td>\n",
       "      <td>1</td>\n",
       "    </tr>\n",
       "    <tr>\n",
       "      <th>2</th>\n",
       "      <td>mad know take never felt angry mad never get g...</td>\n",
       "      <td>['selfharm']</td>\n",
       "      <td>[0, 0, 0, 0, 0, 0, 0, 1, 0]</td>\n",
       "      <td>0</td>\n",
       "    </tr>\n",
       "    <tr>\n",
       "      <th>3</th>\n",
       "      <td>The RINOS in charge of the Congress would neve...</td>\n",
       "      <td>[]</td>\n",
       "      <td>[0, 0, 0, 0, 0, 0, 0, 0, 0]</td>\n",
       "      <td>0</td>\n",
       "    </tr>\n",
       "    <tr>\n",
       "      <th>4</th>\n",
       "      <td>Which of Trump's appointments do you believe w...</td>\n",
       "      <td>[]</td>\n",
       "      <td>[0, 0, 0, 0, 0, 0, 0, 0, 0]</td>\n",
       "      <td>0</td>\n",
       "    </tr>\n",
       "  </tbody>\n",
       "</table>\n",
       "</div>"
      ],
      "text/plain": [
       "                                                text  \\\n",
       "0  Agree.  The number of morons that shoot animal...   \n",
       "1  \"As long as we get to shoot them at some point...   \n",
       "2  mad know take never felt angry mad never get g...   \n",
       "3  The RINOS in charge of the Congress would neve...   \n",
       "4  Which of Trump's appointments do you believe w...   \n",
       "\n",
       "                        labels               encoded_labels  true_label  \n",
       "0  ['toxic' 'threat' 'insult']  [1, 0, 1, 0, 1, 0, 0, 0, 0]           1  \n",
       "1           ['toxic' 'threat']  [1, 0, 0, 0, 1, 0, 0, 0, 0]           1  \n",
       "2                 ['selfharm']  [0, 0, 0, 0, 0, 0, 0, 1, 0]           0  \n",
       "3                           []  [0, 0, 0, 0, 0, 0, 0, 0, 0]           0  \n",
       "4                           []  [0, 0, 0, 0, 0, 0, 0, 0, 0]           0  "
      ]
     },
     "execution_count": 64,
     "metadata": {},
     "output_type": "execute_result"
    }
   ],
   "source": [
    "combined = pd.read_csv(\"..//Datasets/Combined_toxicity_profanity/combined_en.csv\")\n",
    "combined.head()"
   ]
  },
  {
   "cell_type": "code",
   "execution_count": 66,
   "id": "480c673b-4724-43b4-8e6c-d3c33ff86968",
   "metadata": {},
   "outputs": [],
   "source": [
    "X_new = tfidf_vector.transform(combined['text'])\n",
    "predictions = ensemble_clf.predict(X_new)\n",
    "jigsaw['pred_label'] = predictions"
   ]
  },
  {
   "cell_type": "code",
   "execution_count": 68,
   "id": "407811b2-6cc1-4dd9-9846-c513e8de2810",
   "metadata": {},
   "outputs": [],
   "source": [
    "def transform_and_predict(text,vectorizer=tfidf_vector,model=ensemble_clf):\n",
    "    X_new = vectorizer.transform(text)\n",
    "    predictions = model.predict(X_new)\n",
    "    return predictions"
   ]
  },
  {
   "cell_type": "code",
   "execution_count": 70,
   "id": "739c7474-76e1-49df-89a4-0c9fbb1125c6",
   "metadata": {},
   "outputs": [],
   "source": [
    "combined['pred_label']=transform_and_predict(combined['text'])"
   ]
  },
  {
   "cell_type": "code",
   "execution_count": 72,
   "id": "efc306e1-2ea7-4cd3-ba7e-d0aa550b7072",
   "metadata": {},
   "outputs": [
    {
     "data": {
      "text/html": [
       "<div>\n",
       "<style scoped>\n",
       "    .dataframe tbody tr th:only-of-type {\n",
       "        vertical-align: middle;\n",
       "    }\n",
       "\n",
       "    .dataframe tbody tr th {\n",
       "        vertical-align: top;\n",
       "    }\n",
       "\n",
       "    .dataframe thead th {\n",
       "        text-align: right;\n",
       "    }\n",
       "</style>\n",
       "<table border=\"1\" class=\"dataframe\">\n",
       "  <thead>\n",
       "    <tr style=\"text-align: right;\">\n",
       "      <th></th>\n",
       "      <th>text</th>\n",
       "      <th>labels</th>\n",
       "      <th>encoded_labels</th>\n",
       "      <th>true_label</th>\n",
       "      <th>pred_label</th>\n",
       "    </tr>\n",
       "  </thead>\n",
       "  <tbody>\n",
       "    <tr>\n",
       "      <th>0</th>\n",
       "      <td>Agree.  The number of morons that shoot animal...</td>\n",
       "      <td>['toxic' 'threat' 'insult']</td>\n",
       "      <td>[1, 0, 1, 0, 1, 0, 0, 0, 0]</td>\n",
       "      <td>1</td>\n",
       "      <td>0</td>\n",
       "    </tr>\n",
       "    <tr>\n",
       "      <th>1</th>\n",
       "      <td>\"As long as we get to shoot them at some point...</td>\n",
       "      <td>['toxic' 'threat']</td>\n",
       "      <td>[1, 0, 0, 0, 1, 0, 0, 0, 0]</td>\n",
       "      <td>1</td>\n",
       "      <td>0</td>\n",
       "    </tr>\n",
       "    <tr>\n",
       "      <th>2</th>\n",
       "      <td>mad know take never felt angry mad never get g...</td>\n",
       "      <td>['selfharm']</td>\n",
       "      <td>[0, 0, 0, 0, 0, 0, 0, 1, 0]</td>\n",
       "      <td>0</td>\n",
       "      <td>0</td>\n",
       "    </tr>\n",
       "    <tr>\n",
       "      <th>3</th>\n",
       "      <td>The RINOS in charge of the Congress would neve...</td>\n",
       "      <td>[]</td>\n",
       "      <td>[0, 0, 0, 0, 0, 0, 0, 0, 0]</td>\n",
       "      <td>0</td>\n",
       "      <td>0</td>\n",
       "    </tr>\n",
       "    <tr>\n",
       "      <th>4</th>\n",
       "      <td>Which of Trump's appointments do you believe w...</td>\n",
       "      <td>[]</td>\n",
       "      <td>[0, 0, 0, 0, 0, 0, 0, 0, 0]</td>\n",
       "      <td>0</td>\n",
       "      <td>0</td>\n",
       "    </tr>\n",
       "  </tbody>\n",
       "</table>\n",
       "</div>"
      ],
      "text/plain": [
       "                                                text  \\\n",
       "0  Agree.  The number of morons that shoot animal...   \n",
       "1  \"As long as we get to shoot them at some point...   \n",
       "2  mad know take never felt angry mad never get g...   \n",
       "3  The RINOS in charge of the Congress would neve...   \n",
       "4  Which of Trump's appointments do you believe w...   \n",
       "\n",
       "                        labels               encoded_labels  true_label  \\\n",
       "0  ['toxic' 'threat' 'insult']  [1, 0, 1, 0, 1, 0, 0, 0, 0]           1   \n",
       "1           ['toxic' 'threat']  [1, 0, 0, 0, 1, 0, 0, 0, 0]           1   \n",
       "2                 ['selfharm']  [0, 0, 0, 0, 0, 0, 0, 1, 0]           0   \n",
       "3                           []  [0, 0, 0, 0, 0, 0, 0, 0, 0]           0   \n",
       "4                           []  [0, 0, 0, 0, 0, 0, 0, 0, 0]           0   \n",
       "\n",
       "   pred_label  \n",
       "0           0  \n",
       "1           0  \n",
       "2           0  \n",
       "3           0  \n",
       "4           0  "
      ]
     },
     "execution_count": 72,
     "metadata": {},
     "output_type": "execute_result"
    }
   ],
   "source": [
    "combined.head()"
   ]
  },
  {
   "cell_type": "code",
   "execution_count": 74,
   "id": "c9977399-2fee-4658-a9f3-d72caa938ad8",
   "metadata": {
    "scrolled": true
   },
   "outputs": [
    {
     "name": "stdout",
     "output_type": "stream",
     "text": [
      "\n",
      "📊 Classification Report:\n",
      "              precision    recall  f1-score   support\n",
      "\n",
      "  Non-Threat       0.60      1.00      0.75       516\n",
      "      Threat       1.00      0.01      0.03       344\n",
      "\n",
      "    accuracy                           0.61       860\n",
      "   macro avg       0.80      0.51      0.39       860\n",
      "weighted avg       0.76      0.61      0.46       860\n",
      "\n",
      "\n",
      "✅ Accuracy: 0.6058\n",
      "✅ Precision: 1.0000\n",
      "✅ Recall: 0.0145\n",
      "✅ F1 Score: 0.0287\n"
     ]
    },
    {
     "data": {
      "image/png": "[encoded data removed]",
      "text/plain": [
       "<Figure size 600x500 with 2 Axes>"
      ]
     },
     "metadata": {},
     "output_type": "display_data"
    }
   ],
   "source": [
    "evaluate_model(y_true=combined['true_label'],y_pred=combined['pred_label'],class_labels=['Not Threat','Threat'])"
   ]
  },
  {
   "cell_type": "markdown",
   "id": "1407f284-73f1-4b6d-910e-de7524464b7d",
   "metadata": {},
   "source": [
    "### Suspicious Tweets"
   ]
  },
  {
   "cell_type": "code",
   "execution_count": 81,
   "id": "a55b8ca2-8f77-4aca-9218-96df79ccd61a",
   "metadata": {},
   "outputs": [
    {
     "data": {
      "text/html": [
       "<div>\n",
       "<style scoped>\n",
       "    .dataframe tbody tr th:only-of-type {\n",
       "        vertical-align: middle;\n",
       "    }\n",
       "\n",
       "    .dataframe tbody tr th {\n",
       "        vertical-align: top;\n",
       "    }\n",
       "\n",
       "    .dataframe thead th {\n",
       "        text-align: right;\n",
       "    }\n",
       "</style>\n",
       "<table border=\"1\" class=\"dataframe\">\n",
       "  <thead>\n",
       "    <tr style=\"text-align: right;\">\n",
       "      <th></th>\n",
       "      <th>message</th>\n",
       "      <th>label</th>\n",
       "    </tr>\n",
       "  </thead>\n",
       "  <tbody>\n",
       "    <tr>\n",
       "      <th>0</th>\n",
       "      <td>@MsLynnGallo Never mind - You missed the joke ...</td>\n",
       "      <td>0</td>\n",
       "    </tr>\n",
       "    <tr>\n",
       "      <th>1</th>\n",
       "      <td>turns out there had been #earthquake warnings ...</td>\n",
       "      <td>1</td>\n",
       "    </tr>\n",
       "    <tr>\n",
       "      <th>2</th>\n",
       "      <td>@susanhutchinson The other thing is the accent...</td>\n",
       "      <td>0</td>\n",
       "    </tr>\n",
       "    <tr>\n",
       "      <th>3</th>\n",
       "      <td>@LolKate18 You like Ladyhawke? You are so cool</td>\n",
       "      <td>0</td>\n",
       "    </tr>\n",
       "    <tr>\n",
       "      <th>4</th>\n",
       "      <td>#asot400 we want to see some pics of the locat...</td>\n",
       "      <td>0</td>\n",
       "    </tr>\n",
       "  </tbody>\n",
       "</table>\n",
       "</div>"
      ],
      "text/plain": [
       "                                             message  label\n",
       "0  @MsLynnGallo Never mind - You missed the joke ...      0\n",
       "1  turns out there had been #earthquake warnings ...      1\n",
       "2  @susanhutchinson The other thing is the accent...      0\n",
       "3    @LolKate18 You like Ladyhawke? You are so cool       0\n",
       "4  #asot400 we want to see some pics of the locat...      0"
      ]
     },
     "execution_count": 81,
     "metadata": {},
     "output_type": "execute_result"
    }
   ],
   "source": [
    "sus = pd.read_csv('..//Datasets/kaggle_suspicious/suspicious_tweets.csv')\n",
    "sus.head()"
   ]
  },
  {
   "cell_type": "code",
   "execution_count": 83,
   "id": "cbbded1d-f77f-4fc9-8c17-682a440c910e",
   "metadata": {},
   "outputs": [],
   "source": [
    "sus['pred_label']=transform_and_predict(sus['message'])"
   ]
  },
  {
   "cell_type": "code",
   "execution_count": 85,
   "id": "77bf8800-f835-41df-a33a-e9ecaeda990a",
   "metadata": {
    "scrolled": true
   },
   "outputs": [
    {
     "name": "stdout",
     "output_type": "stream",
     "text": [
      "\n",
      "📊 Classification Report:\n",
      "              precision    recall  f1-score   support\n",
      "\n",
      "  Non-Threat       0.60      1.00      0.75      9217\n",
      "      Threat       1.00      0.00      0.00      6145\n",
      "\n",
      "    accuracy                           0.60     15362\n",
      "   macro avg       0.80      0.50      0.38     15362\n",
      "weighted avg       0.76      0.60      0.45     15362\n",
      "\n",
      "\n",
      "✅ Accuracy: 0.6001\n",
      "✅ Precision: 1.0000\n",
      "✅ Recall: 0.0002\n",
      "✅ F1 Score: 0.0003\n"
     ]
    },
    {
     "data": {
      "image/png": "[encoded data removed]",
      "text/plain": [
       "<Figure size 600x500 with 2 Axes>"
      ]
     },
     "metadata": {},
     "output_type": "display_data"
    }
   ],
   "source": [
    "evaluate_model(y_true=sus['label'], y_pred=sus['pred_label'], class_labels=[\"Not Threat\", \"Threat\"])"
   ]
  },
  {
   "cell_type": "code",
   "execution_count": null,
   "id": "7c7b8607-bf1d-408f-b12c-9834deda9d09",
   "metadata": {},
   "outputs": [],
   "source": []
  }
 ],
 "metadata": {
  "kernelspec": {
   "display_name": "Python 3 (ipykernel)",
   "language": "python",
   "name": "python3"
  },
  "language_info": {
   "codemirror_mode": {
    "name": "ipython",
    "version": 3
   },
   "file_extension": ".py",
   "mimetype": "text/x-python",
   "name": "python",
   "nbconvert_exporter": "python",
   "pygments_lexer": "ipython3",
   "version": "3.12.7"
  }
 },
 "nbformat": 4,
 "nbformat_minor": 5
}
