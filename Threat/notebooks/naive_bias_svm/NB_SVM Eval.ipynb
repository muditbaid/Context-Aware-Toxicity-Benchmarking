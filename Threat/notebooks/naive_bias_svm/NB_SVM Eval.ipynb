{
 "cells": [
  {
   "cell_type": "code",
   "execution_count": 1,
   "id": "89df5dba-b6ef-44b2-8e90-eace7bb1e5a0",
   "metadata": {},
   "outputs": [],
   "source": [
    "import os\n",
    "import pandas as pd\n",
    "import importlib\n",
    "import sys\n",
    "sys.path.append(os.path.abspath(\"../\"))  # Add directory\n",
    "import eval_metrics  # Import module\n",
    "import balance_df\n",
    "# Reload if modified\n",
    "importlib.reload(eval_metrics)\n",
    "from eval_metrics import evaluate_model, custom_threshold_condition\n",
    "from balance_df import balance_dataset"
   ]
  },
  {
   "cell_type": "markdown",
   "id": "c8510df5-91c3-44d7-bb87-71abee96fc1e",
   "metadata": {},
   "source": [
    "### NB_SVM Toxic Comment"
   ]
  },
  {
   "cell_type": "code",
   "execution_count": 6,
   "id": "bc1aa7f5-386f-4890-8e9d-1193cf9ff49b",
   "metadata": {},
   "outputs": [
    {
     "data": {
      "text/html": [
       "<div>\n",
       "<style scoped>\n",
       "    .dataframe tbody tr th:only-of-type {\n",
       "        vertical-align: middle;\n",
       "    }\n",
       "\n",
       "    .dataframe tbody tr th {\n",
       "        vertical-align: top;\n",
       "    }\n",
       "\n",
       "    .dataframe thead th {\n",
       "        text-align: right;\n",
       "    }\n",
       "</style>\n",
       "<table border=\"1\" class=\"dataframe\">\n",
       "  <thead>\n",
       "    <tr style=\"text-align: right;\">\n",
       "      <th></th>\n",
       "      <th>id</th>\n",
       "      <th>comment_text</th>\n",
       "      <th>true_label</th>\n",
       "      <th>threat_probability</th>\n",
       "      <th>pred_label</th>\n",
       "    </tr>\n",
       "  </thead>\n",
       "  <tbody>\n",
       "    <tr>\n",
       "      <th>0</th>\n",
       "      <td>55858b89f99e9bda</td>\n",
       "      <td>Hope he dies \\n\\nNow this Atheist filth's wife...</td>\n",
       "      <td>1</td>\n",
       "      <td>0.444857</td>\n",
       "      <td>0</td>\n",
       "    </tr>\n",
       "    <tr>\n",
       "      <th>1</th>\n",
       "      <td>425a1dbdf740e9b8</td>\n",
       "      <td>2006 (UTC)\\n\\n Removed Merge  17:15, 5 April</td>\n",
       "      <td>0</td>\n",
       "      <td>0.000088</td>\n",
       "      <td>0</td>\n",
       "    </tr>\n",
       "    <tr>\n",
       "      <th>2</th>\n",
       "      <td>20c81b99f7adf557</td>\n",
       "      <td>John discuss it here \\n\\nSeems you don't like ...</td>\n",
       "      <td>0</td>\n",
       "      <td>0.000116</td>\n",
       "      <td>0</td>\n",
       "    </tr>\n",
       "    <tr>\n",
       "      <th>3</th>\n",
       "      <td>af0dce6ce84974ec</td>\n",
       "      <td>\"\\nTo answer your question, no. There is no si...</td>\n",
       "      <td>0</td>\n",
       "      <td>0.000086</td>\n",
       "      <td>0</td>\n",
       "    </tr>\n",
       "    <tr>\n",
       "      <th>4</th>\n",
       "      <td>a069e6d6d1a2348d</td>\n",
       "      <td>\"\\n But Arpad can cite any webpage he finds, o...</td>\n",
       "      <td>0</td>\n",
       "      <td>0.000068</td>\n",
       "      <td>0</td>\n",
       "    </tr>\n",
       "  </tbody>\n",
       "</table>\n",
       "</div>"
      ],
      "text/plain": [
       "                 id                                       comment_text  \\\n",
       "0  55858b89f99e9bda  Hope he dies \\n\\nNow this Atheist filth's wife...   \n",
       "1  425a1dbdf740e9b8       2006 (UTC)\\n\\n Removed Merge  17:15, 5 April   \n",
       "2  20c81b99f7adf557  John discuss it here \\n\\nSeems you don't like ...   \n",
       "3  af0dce6ce84974ec  \"\\nTo answer your question, no. There is no si...   \n",
       "4  a069e6d6d1a2348d  \"\\n But Arpad can cite any webpage he finds, o...   \n",
       "\n",
       "   true_label  threat_probability  pred_label  \n",
       "0           1            0.444857           0  \n",
       "1           0            0.000088           0  \n",
       "2           0            0.000116           0  \n",
       "3           0            0.000086           0  \n",
       "4           0            0.000068           0  "
      ]
     },
     "execution_count": 6,
     "metadata": {},
     "output_type": "execute_result"
    }
   ],
   "source": [
    "nt = pd.read_csv(\"nbsvm_toxiccomment.csv\")\n",
    "nt.head()"
   ]
  },
  {
   "cell_type": "code",
   "execution_count": 8,
   "id": "cf299934-890b-48e4-b881-9863961675b3",
   "metadata": {
    "scrolled": true
   },
   "outputs": [
    {
     "name": "stdout",
     "output_type": "stream",
     "text": [
      "\n",
      "📊 Classification Report:\n",
      "              precision    recall  f1-score   support\n",
      "\n",
      "  Non-Threat       0.83      1.00      0.91       689\n",
      "      Threat       1.00      0.79      0.88       689\n",
      "\n",
      "    accuracy                           0.90      1378\n",
      "   macro avg       0.91      0.90      0.89      1378\n",
      "weighted avg       0.91      0.90      0.89      1378\n",
      "\n",
      "\n",
      "✅ Accuracy: 0.8955\n",
      "✅ Precision: 1.0000\n",
      "✅ Recall: 0.7910\n",
      "✅ F1 Score: 0.8833\n"
     ]
    },
    {
     "data": {
      "image/png": "[encoded data removed]",
      "text/plain": [
       "<Figure size 600x500 with 2 Axes>"
      ]
     },
     "metadata": {},
     "output_type": "display_data"
    }
   ],
   "source": [
    "evaluate_model(y_true=nt['true_label'], y_pred=nt['pred_label'], class_labels=[\"Not Threat\", \"Threat\"])"
   ]
  },
  {
   "cell_type": "markdown",
   "id": "23ce02ff-7094-4a64-a918-54d929270c2e",
   "metadata": {},
   "source": [
    "### NBSVM Jigsaw"
   ]
  },
  {
   "cell_type": "code",
   "execution_count": 11,
   "id": "a83de56e-476e-4dcc-a676-a8ad4ee7a97d",
   "metadata": {},
   "outputs": [
    {
     "data": {
      "text/html": [
       "<div>\n",
       "<style scoped>\n",
       "    .dataframe tbody tr th:only-of-type {\n",
       "        vertical-align: middle;\n",
       "    }\n",
       "\n",
       "    .dataframe tbody tr th {\n",
       "        vertical-align: top;\n",
       "    }\n",
       "\n",
       "    .dataframe thead th {\n",
       "        text-align: right;\n",
       "    }\n",
       "</style>\n",
       "<table border=\"1\" class=\"dataframe\">\n",
       "  <thead>\n",
       "    <tr style=\"text-align: right;\">\n",
       "      <th></th>\n",
       "      <th>id</th>\n",
       "      <th>comment_text</th>\n",
       "      <th>toxicity</th>\n",
       "      <th>severe_toxicity</th>\n",
       "      <th>obscene</th>\n",
       "      <th>sexual_explicit</th>\n",
       "      <th>identity_attack</th>\n",
       "      <th>insult</th>\n",
       "      <th>Threat_Jigsaw</th>\n",
       "      <th>toxicity_annotator_count</th>\n",
       "      <th>true_label</th>\n",
       "      <th>threat_probability</th>\n",
       "      <th>pred_label</th>\n",
       "    </tr>\n",
       "  </thead>\n",
       "  <tbody>\n",
       "    <tr>\n",
       "      <th>0</th>\n",
       "      <td>304799</td>\n",
       "      <td>Is your concern satisfied by the fact that the...</td>\n",
       "      <td>0.000000</td>\n",
       "      <td>0.0</td>\n",
       "      <td>0.000000</td>\n",
       "      <td>0.0</td>\n",
       "      <td>0.000000</td>\n",
       "      <td>0.000000</td>\n",
       "      <td>0.000000</td>\n",
       "      <td>4</td>\n",
       "      <td>0</td>\n",
       "      <td>0.000111</td>\n",
       "      <td>0</td>\n",
       "    </tr>\n",
       "    <tr>\n",
       "      <th>1</th>\n",
       "      <td>5293619</td>\n",
       "      <td>Comey's firing is a separate issue from the ma...</td>\n",
       "      <td>0.000000</td>\n",
       "      <td>0.0</td>\n",
       "      <td>0.000000</td>\n",
       "      <td>0.0</td>\n",
       "      <td>0.000000</td>\n",
       "      <td>0.000000</td>\n",
       "      <td>0.000000</td>\n",
       "      <td>4</td>\n",
       "      <td>0</td>\n",
       "      <td>0.000156</td>\n",
       "      <td>0</td>\n",
       "    </tr>\n",
       "    <tr>\n",
       "      <th>2</th>\n",
       "      <td>5009206</td>\n",
       "      <td>klastri&gt;  besides the legal points.  She shoul...</td>\n",
       "      <td>0.500000</td>\n",
       "      <td>0.1</td>\n",
       "      <td>0.000000</td>\n",
       "      <td>0.0</td>\n",
       "      <td>0.000000</td>\n",
       "      <td>0.100000</td>\n",
       "      <td>0.500000</td>\n",
       "      <td>10</td>\n",
       "      <td>1</td>\n",
       "      <td>0.001190</td>\n",
       "      <td>0</td>\n",
       "    </tr>\n",
       "    <tr>\n",
       "      <th>3</th>\n",
       "      <td>6122758</td>\n",
       "      <td>Trump has been the only one to threaten to wip...</td>\n",
       "      <td>0.536232</td>\n",
       "      <td>0.0</td>\n",
       "      <td>0.086957</td>\n",
       "      <td>0.0</td>\n",
       "      <td>0.057971</td>\n",
       "      <td>0.536232</td>\n",
       "      <td>0.043478</td>\n",
       "      <td>69</td>\n",
       "      <td>0</td>\n",
       "      <td>0.000459</td>\n",
       "      <td>0</td>\n",
       "    </tr>\n",
       "    <tr>\n",
       "      <th>4</th>\n",
       "      <td>6018742</td>\n",
       "      <td>Just listen to yourself.\\n\"the swamp\" (twice!)...</td>\n",
       "      <td>0.000000</td>\n",
       "      <td>0.0</td>\n",
       "      <td>0.000000</td>\n",
       "      <td>0.0</td>\n",
       "      <td>0.000000</td>\n",
       "      <td>0.000000</td>\n",
       "      <td>0.000000</td>\n",
       "      <td>4</td>\n",
       "      <td>0</td>\n",
       "      <td>0.000120</td>\n",
       "      <td>0</td>\n",
       "    </tr>\n",
       "  </tbody>\n",
       "</table>\n",
       "</div>"
      ],
      "text/plain": [
       "        id                                       comment_text  toxicity  \\\n",
       "0   304799  Is your concern satisfied by the fact that the...  0.000000   \n",
       "1  5293619  Comey's firing is a separate issue from the ma...  0.000000   \n",
       "2  5009206  klastri>  besides the legal points.  She shoul...  0.500000   \n",
       "3  6122758  Trump has been the only one to threaten to wip...  0.536232   \n",
       "4  6018742  Just listen to yourself.\\n\"the swamp\" (twice!)...  0.000000   \n",
       "\n",
       "   severe_toxicity   obscene  sexual_explicit  identity_attack    insult  \\\n",
       "0              0.0  0.000000              0.0         0.000000  0.000000   \n",
       "1              0.0  0.000000              0.0         0.000000  0.000000   \n",
       "2              0.1  0.000000              0.0         0.000000  0.100000   \n",
       "3              0.0  0.086957              0.0         0.057971  0.536232   \n",
       "4              0.0  0.000000              0.0         0.000000  0.000000   \n",
       "\n",
       "   Threat_Jigsaw  toxicity_annotator_count  true_label  threat_probability  \\\n",
       "0       0.000000                         4           0            0.000111   \n",
       "1       0.000000                         4           0            0.000156   \n",
       "2       0.500000                        10           1            0.001190   \n",
       "3       0.043478                        69           0            0.000459   \n",
       "4       0.000000                         4           0            0.000120   \n",
       "\n",
       "   pred_label  \n",
       "0           0  \n",
       "1           0  \n",
       "2           0  \n",
       "3           0  \n",
       "4           0  "
      ]
     },
     "execution_count": 11,
     "metadata": {},
     "output_type": "execute_result"
    }
   ],
   "source": [
    "nj = pd.read_csv(\"nbsvm_jigsaw.csv\")\n",
    "nj.head()"
   ]
  },
  {
   "cell_type": "code",
   "execution_count": 13,
   "id": "e1f59040-8084-4450-b027-1af5964c8c55",
   "metadata": {
    "scrolled": true
   },
   "outputs": [
    {
     "name": "stdout",
     "output_type": "stream",
     "text": [
      "\n",
      "📊 Classification Report:\n",
      "              precision    recall  f1-score   support\n",
      "\n",
      "  Non-Threat       0.60      1.00      0.75       747\n",
      "      Threat       1.00      0.01      0.02       498\n",
      "\n",
      "    accuracy                           0.60      1245\n",
      "   macro avg       0.80      0.51      0.39      1245\n",
      "weighted avg       0.76      0.60      0.46      1245\n",
      "\n",
      "\n",
      "✅ Accuracy: 0.6040\n",
      "✅ Precision: 1.0000\n",
      "✅ Recall: 0.0100\n",
      "✅ F1 Score: 0.0199\n"
     ]
    },
    {
     "data": {
      "image/png": "[encoded data removed]",
      "text/plain": [
       "<Figure size 600x500 with 2 Axes>"
      ]
     },
     "metadata": {},
     "output_type": "display_data"
    }
   ],
   "source": [
    "evaluate_model(y_true=nj['true_label'], y_pred=nj['pred_label'], class_labels=[\"Not Threat\", \"Threat\"])"
   ]
  },
  {
   "cell_type": "markdown",
   "id": "1a41c602-5736-4ce7-96aa-8c41212f6f18",
   "metadata": {},
   "source": [
    "### Combined Profanity Toxicity"
   ]
  },
  {
   "cell_type": "code",
   "execution_count": 16,
   "id": "ba44672a-6f70-4ea7-ac05-48110ba81799",
   "metadata": {},
   "outputs": [
    {
     "data": {
      "text/html": [
       "<div>\n",
       "<style scoped>\n",
       "    .dataframe tbody tr th:only-of-type {\n",
       "        vertical-align: middle;\n",
       "    }\n",
       "\n",
       "    .dataframe tbody tr th {\n",
       "        vertical-align: top;\n",
       "    }\n",
       "\n",
       "    .dataframe thead th {\n",
       "        text-align: right;\n",
       "    }\n",
       "</style>\n",
       "<table border=\"1\" class=\"dataframe\">\n",
       "  <thead>\n",
       "    <tr style=\"text-align: right;\">\n",
       "      <th></th>\n",
       "      <th>text</th>\n",
       "      <th>labels</th>\n",
       "      <th>encoded_labels</th>\n",
       "      <th>true_label</th>\n",
       "      <th>threat_probability</th>\n",
       "      <th>pred_label</th>\n",
       "    </tr>\n",
       "  </thead>\n",
       "  <tbody>\n",
       "    <tr>\n",
       "      <th>0</th>\n",
       "      <td>Agree.  The number of morons that shoot animal...</td>\n",
       "      <td>['toxic' 'threat' 'insult']</td>\n",
       "      <td>[1, 0, 1, 0, 1, 0, 0, 0, 0]</td>\n",
       "      <td>1</td>\n",
       "      <td>0.037256</td>\n",
       "      <td>0</td>\n",
       "    </tr>\n",
       "    <tr>\n",
       "      <th>1</th>\n",
       "      <td>\"As long as we get to shoot them at some point...</td>\n",
       "      <td>['toxic' 'threat']</td>\n",
       "      <td>[1, 0, 0, 0, 1, 0, 0, 0, 0]</td>\n",
       "      <td>1</td>\n",
       "      <td>0.000394</td>\n",
       "      <td>0</td>\n",
       "    </tr>\n",
       "    <tr>\n",
       "      <th>2</th>\n",
       "      <td>mad know take never felt angry mad never get g...</td>\n",
       "      <td>['selfharm']</td>\n",
       "      <td>[0, 0, 0, 0, 0, 0, 0, 1, 0]</td>\n",
       "      <td>0</td>\n",
       "      <td>0.011681</td>\n",
       "      <td>0</td>\n",
       "    </tr>\n",
       "    <tr>\n",
       "      <th>3</th>\n",
       "      <td>The RINOS in charge of the Congress would neve...</td>\n",
       "      <td>[]</td>\n",
       "      <td>[0, 0, 0, 0, 0, 0, 0, 0, 0]</td>\n",
       "      <td>0</td>\n",
       "      <td>0.000097</td>\n",
       "      <td>0</td>\n",
       "    </tr>\n",
       "    <tr>\n",
       "      <th>4</th>\n",
       "      <td>Which of Trump's appointments do you believe w...</td>\n",
       "      <td>[]</td>\n",
       "      <td>[0, 0, 0, 0, 0, 0, 0, 0, 0]</td>\n",
       "      <td>0</td>\n",
       "      <td>0.000133</td>\n",
       "      <td>0</td>\n",
       "    </tr>\n",
       "  </tbody>\n",
       "</table>\n",
       "</div>"
      ],
      "text/plain": [
       "                                                text  \\\n",
       "0  Agree.  The number of morons that shoot animal...   \n",
       "1  \"As long as we get to shoot them at some point...   \n",
       "2  mad know take never felt angry mad never get g...   \n",
       "3  The RINOS in charge of the Congress would neve...   \n",
       "4  Which of Trump's appointments do you believe w...   \n",
       "\n",
       "                        labels               encoded_labels  true_label  \\\n",
       "0  ['toxic' 'threat' 'insult']  [1, 0, 1, 0, 1, 0, 0, 0, 0]           1   \n",
       "1           ['toxic' 'threat']  [1, 0, 0, 0, 1, 0, 0, 0, 0]           1   \n",
       "2                 ['selfharm']  [0, 0, 0, 0, 0, 0, 0, 1, 0]           0   \n",
       "3                           []  [0, 0, 0, 0, 0, 0, 0, 0, 0]           0   \n",
       "4                           []  [0, 0, 0, 0, 0, 0, 0, 0, 0]           0   \n",
       "\n",
       "   threat_probability  pred_label  \n",
       "0            0.037256           0  \n",
       "1            0.000394           0  \n",
       "2            0.011681           0  \n",
       "3            0.000097           0  \n",
       "4            0.000133           0  "
      ]
     },
     "execution_count": 16,
     "metadata": {},
     "output_type": "execute_result"
    }
   ],
   "source": [
    "nc = pd.read_csv(\"nbsvm_combined.csv\")\n",
    "nc.head()"
   ]
  },
  {
   "cell_type": "code",
   "execution_count": 18,
   "id": "9f434365-2eee-4375-9b1b-5c7947315f95",
   "metadata": {
    "scrolled": true
   },
   "outputs": [
    {
     "name": "stdout",
     "output_type": "stream",
     "text": [
      "\n",
      "📊 Classification Report:\n",
      "              precision    recall  f1-score   support\n",
      "\n",
      "  Non-Threat       0.63      1.00      0.77       516\n",
      "      Threat       1.00      0.12      0.22       344\n",
      "\n",
      "    accuracy                           0.65       860\n",
      "   macro avg       0.82      0.56      0.50       860\n",
      "weighted avg       0.78      0.65      0.55       860\n",
      "\n",
      "\n",
      "✅ Accuracy: 0.6500\n",
      "✅ Precision: 1.0000\n",
      "✅ Recall: 0.1250\n",
      "✅ F1 Score: 0.2222\n"
     ]
    },
    {
     "data": {
      "image/png": "[encoded data removed]",
      "text/plain": [
       "<Figure size 600x500 with 2 Axes>"
      ]
     },
     "metadata": {},
     "output_type": "display_data"
    }
   ],
   "source": [
    "evaluate_model(y_true=nc['true_label'], y_pred=nc['pred_label'], class_labels=[\"Not Threat\", \"Threat\"])"
   ]
  },
  {
   "cell_type": "markdown",
   "id": "e62e0cb1-bfac-4477-afc5-e4d5aa86e995",
   "metadata": {},
   "source": [
    "### Suspicious Tweets"
   ]
  },
  {
   "cell_type": "code",
   "execution_count": 22,
   "id": "155f1e9c-787d-41bd-8773-a32435cfe4b2",
   "metadata": {},
   "outputs": [
    {
     "data": {
      "text/html": [
       "<div>\n",
       "<style scoped>\n",
       "    .dataframe tbody tr th:only-of-type {\n",
       "        vertical-align: middle;\n",
       "    }\n",
       "\n",
       "    .dataframe tbody tr th {\n",
       "        vertical-align: top;\n",
       "    }\n",
       "\n",
       "    .dataframe thead th {\n",
       "        text-align: right;\n",
       "    }\n",
       "</style>\n",
       "<table border=\"1\" class=\"dataframe\">\n",
       "  <thead>\n",
       "    <tr style=\"text-align: right;\">\n",
       "      <th></th>\n",
       "      <th>message</th>\n",
       "      <th>label</th>\n",
       "      <th>threat_probability</th>\n",
       "      <th>pred_label</th>\n",
       "    </tr>\n",
       "  </thead>\n",
       "  <tbody>\n",
       "    <tr>\n",
       "      <th>0</th>\n",
       "      <td>@MsLynnGallo Never mind - You missed the joke ...</td>\n",
       "      <td>0</td>\n",
       "      <td>0.000028</td>\n",
       "      <td>0</td>\n",
       "    </tr>\n",
       "    <tr>\n",
       "      <th>1</th>\n",
       "      <td>turns out there had been #earthquake warnings ...</td>\n",
       "      <td>1</td>\n",
       "      <td>0.000249</td>\n",
       "      <td>0</td>\n",
       "    </tr>\n",
       "    <tr>\n",
       "      <th>2</th>\n",
       "      <td>@susanhutchinson The other thing is the accent...</td>\n",
       "      <td>0</td>\n",
       "      <td>0.000456</td>\n",
       "      <td>0</td>\n",
       "    </tr>\n",
       "    <tr>\n",
       "      <th>3</th>\n",
       "      <td>@LolKate18 You like Ladyhawke? You are so cool</td>\n",
       "      <td>0</td>\n",
       "      <td>0.000161</td>\n",
       "      <td>0</td>\n",
       "    </tr>\n",
       "    <tr>\n",
       "      <th>4</th>\n",
       "      <td>#asot400 we want to see some pics of the locat...</td>\n",
       "      <td>0</td>\n",
       "      <td>0.000132</td>\n",
       "      <td>0</td>\n",
       "    </tr>\n",
       "  </tbody>\n",
       "</table>\n",
       "</div>"
      ],
      "text/plain": [
       "                                             message  label  \\\n",
       "0  @MsLynnGallo Never mind - You missed the joke ...      0   \n",
       "1  turns out there had been #earthquake warnings ...      1   \n",
       "2  @susanhutchinson The other thing is the accent...      0   \n",
       "3    @LolKate18 You like Ladyhawke? You are so cool       0   \n",
       "4  #asot400 we want to see some pics of the locat...      0   \n",
       "\n",
       "   threat_probability  pred_label  \n",
       "0            0.000028           0  \n",
       "1            0.000249           0  \n",
       "2            0.000456           0  \n",
       "3            0.000161           0  \n",
       "4            0.000132           0  "
      ]
     },
     "execution_count": 22,
     "metadata": {},
     "output_type": "execute_result"
    }
   ],
   "source": [
    "sus = pd.read_csv(\"nbsvm_sus.csv\")\n",
    "sus.head()"
   ]
  },
  {
   "cell_type": "code",
   "execution_count": 24,
   "id": "2c4b5067-d851-4368-80b1-25779ca8ce48",
   "metadata": {
    "scrolled": true
   },
   "outputs": [
    {
     "name": "stdout",
     "output_type": "stream",
     "text": [
      "\n",
      "📊 Classification Report:\n",
      "              precision    recall  f1-score   support\n",
      "\n",
      "  Non-Threat       0.60      1.00      0.75      9217\n",
      "      Threat       0.00      0.00      0.00      6145\n",
      "\n",
      "    accuracy                           0.60     15362\n",
      "   macro avg       0.30      0.50      0.37     15362\n",
      "weighted avg       0.36      0.60      0.45     15362\n",
      "\n",
      "\n",
      "✅ Accuracy: 0.5999\n",
      "✅ Precision: 0.0000\n",
      "✅ Recall: 0.0000\n",
      "✅ F1 Score: 0.0000\n"
     ]
    },
    {
     "data": {
      "image/png": "[encoded data removed]",
      "text/plain": [
       "<Figure size 600x500 with 2 Axes>"
      ]
     },
     "metadata": {},
     "output_type": "display_data"
    }
   ],
   "source": [
    "evaluate_model(y_true=sus['label'], y_pred=sus['pred_label'], class_labels=[\"Not Threat\", \"Threat\"])"
   ]
  },
  {
   "cell_type": "markdown",
   "id": "b27bee38-fa41-4397-b23c-684c80d9e7bd",
   "metadata": {},
   "source": [
    "### Lifethreat"
   ]
  },
  {
   "cell_type": "code",
   "execution_count": 31,
   "id": "db8243f1-6a47-427c-9cd9-c0e358c2d6a3",
   "metadata": {},
   "outputs": [
    {
     "data": {
      "text/html": [
       "<div>\n",
       "<style scoped>\n",
       "    .dataframe tbody tr th:only-of-type {\n",
       "        vertical-align: middle;\n",
       "    }\n",
       "\n",
       "    .dataframe tbody tr th {\n",
       "        vertical-align: top;\n",
       "    }\n",
       "\n",
       "    .dataframe thead th {\n",
       "        text-align: right;\n",
       "    }\n",
       "</style>\n",
       "<table border=\"1\" class=\"dataframe\">\n",
       "  <thead>\n",
       "    <tr style=\"text-align: right;\">\n",
       "      <th></th>\n",
       "      <th>ID</th>\n",
       "      <th>Comments</th>\n",
       "      <th>threat_probability</th>\n",
       "      <th>pred_label</th>\n",
       "    </tr>\n",
       "  </thead>\n",
       "  <tbody>\n",
       "    <tr>\n",
       "      <th>0</th>\n",
       "      <td>1.0</td>\n",
       "      <td>White people attacking police and no one was s...</td>\n",
       "      <td>0.000139</td>\n",
       "      <td>0</td>\n",
       "    </tr>\n",
       "    <tr>\n",
       "      <th>1</th>\n",
       "      <td>2.0</td>\n",
       "      <td>yall needed 20 officers for one guy why yall a...</td>\n",
       "      <td>0.001647</td>\n",
       "      <td>0</td>\n",
       "    </tr>\n",
       "    <tr>\n",
       "      <th>2</th>\n",
       "      <td>3.0</td>\n",
       "      <td>I think that cop wanted him attack metro loves...</td>\n",
       "      <td>0.000137</td>\n",
       "      <td>0</td>\n",
       "    </tr>\n",
       "    <tr>\n",
       "      <th>3</th>\n",
       "      <td>4.0</td>\n",
       "      <td>This is just like the judge attack. Got offend...</td>\n",
       "      <td>0.000123</td>\n",
       "      <td>0</td>\n",
       "    </tr>\n",
       "    <tr>\n",
       "      <th>4</th>\n",
       "      <td>5.0</td>\n",
       "      <td>Then he got his face slammed into the wall.</td>\n",
       "      <td>0.000198</td>\n",
       "      <td>0</td>\n",
       "    </tr>\n",
       "  </tbody>\n",
       "</table>\n",
       "</div>"
      ],
      "text/plain": [
       "    ID                                           Comments  threat_probability  \\\n",
       "0  1.0  White people attacking police and no one was s...            0.000139   \n",
       "1  2.0  yall needed 20 officers for one guy why yall a...            0.001647   \n",
       "2  3.0  I think that cop wanted him attack metro loves...            0.000137   \n",
       "3  4.0  This is just like the judge attack. Got offend...            0.000123   \n",
       "4  5.0        Then he got his face slammed into the wall.            0.000198   \n",
       "\n",
       "   pred_label  \n",
       "0           0  \n",
       "1           0  \n",
       "2           0  \n",
       "3           0  \n",
       "4           0  "
      ]
     },
     "execution_count": 31,
     "metadata": {},
     "output_type": "execute_result"
    }
   ],
   "source": [
    "nl = pd.read_csv(\"nbsvm_lifethreat.csv\")\n",
    "nl.head()"
   ]
  },
  {
   "cell_type": "code",
   "execution_count": 45,
   "id": "8764fcef-edea-4295-8015-4a00c1e11c3e",
   "metadata": {},
   "outputs": [
    {
     "data": {
      "text/html": [
       "<div>\n",
       "<style scoped>\n",
       "    .dataframe tbody tr th:only-of-type {\n",
       "        vertical-align: middle;\n",
       "    }\n",
       "\n",
       "    .dataframe tbody tr th {\n",
       "        vertical-align: top;\n",
       "    }\n",
       "\n",
       "    .dataframe thead th {\n",
       "        text-align: right;\n",
       "    }\n",
       "</style>\n",
       "<table border=\"1\" class=\"dataframe\">\n",
       "  <thead>\n",
       "    <tr style=\"text-align: right;\">\n",
       "      <th></th>\n",
       "      <th>ID</th>\n",
       "      <th>Comments</th>\n",
       "      <th>threat_probability</th>\n",
       "      <th>pred_label</th>\n",
       "      <th>true_label</th>\n",
       "    </tr>\n",
       "  </thead>\n",
       "  <tbody>\n",
       "    <tr>\n",
       "      <th>0</th>\n",
       "      <td>1.0</td>\n",
       "      <td>White people attacking police and no one was s...</td>\n",
       "      <td>0.000139</td>\n",
       "      <td>0</td>\n",
       "      <td>1</td>\n",
       "    </tr>\n",
       "    <tr>\n",
       "      <th>1</th>\n",
       "      <td>2.0</td>\n",
       "      <td>yall needed 20 officers for one guy why yall a...</td>\n",
       "      <td>0.001647</td>\n",
       "      <td>0</td>\n",
       "      <td>1</td>\n",
       "    </tr>\n",
       "    <tr>\n",
       "      <th>2</th>\n",
       "      <td>3.0</td>\n",
       "      <td>I think that cop wanted him attack metro loves...</td>\n",
       "      <td>0.000137</td>\n",
       "      <td>0</td>\n",
       "      <td>1</td>\n",
       "    </tr>\n",
       "    <tr>\n",
       "      <th>3</th>\n",
       "      <td>4.0</td>\n",
       "      <td>This is just like the judge attack. Got offend...</td>\n",
       "      <td>0.000123</td>\n",
       "      <td>0</td>\n",
       "      <td>1</td>\n",
       "    </tr>\n",
       "    <tr>\n",
       "      <th>4</th>\n",
       "      <td>5.0</td>\n",
       "      <td>Then he got his face slammed into the wall.</td>\n",
       "      <td>0.000198</td>\n",
       "      <td>0</td>\n",
       "      <td>1</td>\n",
       "    </tr>\n",
       "  </tbody>\n",
       "</table>\n",
       "</div>"
      ],
      "text/plain": [
       "    ID                                           Comments  threat_probability  \\\n",
       "0  1.0  White people attacking police and no one was s...            0.000139   \n",
       "1  2.0  yall needed 20 officers for one guy why yall a...            0.001647   \n",
       "2  3.0  I think that cop wanted him attack metro loves...            0.000137   \n",
       "3  4.0  This is just like the judge attack. Got offend...            0.000123   \n",
       "4  5.0        Then he got his face slammed into the wall.            0.000198   \n",
       "\n",
       "   pred_label  true_label  \n",
       "0           0           1  \n",
       "1           0           1  \n",
       "2           0           1  \n",
       "3           0           1  \n",
       "4           0           1  "
      ]
     },
     "execution_count": 45,
     "metadata": {},
     "output_type": "execute_result"
    }
   ],
   "source": [
    "import numpy as np\n",
    "nl['true_label']=np.ones(len(nl)).astype(int)\n",
    "nl.head()"
   ]
  },
  {
   "cell_type": "code",
   "execution_count": 53,
   "id": "3abd11b6-7f1c-4b12-825f-b07f3b1f293e",
   "metadata": {
    "scrolled": true
   },
   "outputs": [
    {
     "name": "stdout",
     "output_type": "stream",
     "text": [
      "\n",
      "📊 Classification Report:\n",
      "              precision    recall  f1-score   support\n",
      "\n",
      "  Non-Threat       0.00      0.00      0.00         0\n",
      "      Threat       1.00      0.00      0.00      1071\n",
      "\n",
      "    accuracy                           0.00      1071\n",
      "   macro avg       0.50      0.00      0.00      1071\n",
      "weighted avg       1.00      0.00      0.00      1071\n",
      "\n",
      "\n",
      "✅ Accuracy: 0.0009\n",
      "✅ Precision: 1.0000\n",
      "✅ Recall: 0.0009\n",
      "✅ F1 Score: 0.0019\n"
     ]
    },
    {
     "name": "stderr",
     "output_type": "stream",
     "text": [
      "D:\\Anaconda\\Lib\\site-packages\\sklearn\\metrics\\_classification.py:1531: UndefinedMetricWarning: Recall is ill-defined and being set to 0.0 in labels with no true samples. Use `zero_division` parameter to control this behavior.\n",
      "  _warn_prf(average, modifier, f\"{metric.capitalize()} is\", len(result))\n",
      "D:\\Anaconda\\Lib\\site-packages\\sklearn\\metrics\\_classification.py:1531: UndefinedMetricWarning: Recall is ill-defined and being set to 0.0 in labels with no true samples. Use `zero_division` parameter to control this behavior.\n",
      "  _warn_prf(average, modifier, f\"{metric.capitalize()} is\", len(result))\n",
      "D:\\Anaconda\\Lib\\site-packages\\sklearn\\metrics\\_classification.py:1531: UndefinedMetricWarning: Recall is ill-defined and being set to 0.0 in labels with no true samples. Use `zero_division` parameter to control this behavior.\n",
      "  _warn_prf(average, modifier, f\"{metric.capitalize()} is\", len(result))\n"
     ]
    },
    {
     "data": {
      "image/png": "[encoded data removed]",
      "text/plain": [
       "<Figure size 600x500 with 2 Axes>"
      ]
     },
     "metadata": {},
     "output_type": "display_data"
    }
   ],
   "source": [
    "evaluate_model(y_true=nl['true_label'], y_pred=nl['pred_label'], class_labels=[\"Not Threat\", \"Threat\"])"
   ]
  },
  {
   "cell_type": "code",
   "execution_count": null,
   "id": "b7a65a95-fadb-48fd-be09-64eed876a432",
   "metadata": {},
   "outputs": [],
   "source": []
  }
 ],
 "metadata": {
  "kernelspec": {
   "display_name": "Python 3 (ipykernel)",
   "language": "python",
   "name": "python3"
  },
  "language_info": {
   "codemirror_mode": {
    "name": "ipython",
    "version": 3
   },
   "file_extension": ".py",
   "mimetype": "text/x-python",
   "name": "python",
   "nbconvert_exporter": "python",
   "pygments_lexer": "ipython3",
   "version": "3.12.7"
  }
 },
 "nbformat": 4,
 "nbformat_minor": 5
}
