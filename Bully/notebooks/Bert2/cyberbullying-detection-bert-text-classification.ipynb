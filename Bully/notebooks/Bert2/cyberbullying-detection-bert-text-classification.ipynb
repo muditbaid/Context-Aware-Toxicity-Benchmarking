{
 "cells": [
  {
   "cell_type": "markdown",
   "id": "b118d4e4",
   "metadata": {
    "id": "zz4kbWgQQCpC",
    "papermill": {
     "duration": 0.010929,
     "end_time": "2024-01-18T18:54:24.208075",
     "exception": false,
     "start_time": "2024-01-18T18:54:24.197146",
     "status": "completed"
    },
    "tags": []
   },
   "source": [
    "# Text Classification with BERT\n",
    "\n",
    "Transformers have profoundly impacted Natural Language Processing (NLP) tasks by introducing a groundbreaking architecture that excels in comprehensively capturing contextual information. Their unique self-attention mechanisms enable a holistic analysis of input sequences, overcoming the constraints of conventional sequential models. This transformative breakthrough has resulted in notable progress in machine translation, sentiment analysis, and language comprehension. Exemplified by models like BERT and GPT, the Transformer architecture stands as a fundamental cornerstone in NLP, fostering innovation and pushing the frontiers of language understanding across a spectrum of applications and industries.\n",
    "\n",
    "BERT, or Bidirectional Encoder Representations from Transformers, has emerged as a pivotal milestone in Natural Language Processing (NLP). Introduced by Google, BERT revolutionizes language understanding by considering context from both preceding and succeeding words in a sentence. This bidirectional approach enables BERT to grasp intricate nuances and dependencies, leading to superior performance in various NLP tasks. Its pre-training on vast amounts of text data equips it with a deep understanding of language structures, making BERT a transformative force in enhancing accuracy and contextual relevance across diverse applications."
   ]
  },
  {
   "cell_type": "markdown",
   "id": "94e611c6",
   "metadata": {
    "papermill": {
     "duration": 0.01018,
     "end_time": "2024-01-18T18:54:24.229123",
     "exception": false,
     "start_time": "2024-01-18T18:54:24.218943",
     "status": "completed"
    },
    "tags": []
   },
   "source": [
    "<div class=\"alert alert-info\">\n",
    "    <h4>In this Project</h4>\n",
    "    <ul>\n",
    "        <li>Classification of Tweets into 6 different forms of Cyberbullying</li>\n",
    "        <li>Using BERT base model and fine tuning it to our dataset</li>\n",
    "    </ul>\n",
    "</div>"
   ]
  },
  {
   "cell_type": "markdown",
   "id": "aa3dae5b",
   "metadata": {
    "id": "DLavIYUnQnBF",
    "papermill": {
     "duration": 0.010934,
     "end_time": "2024-01-18T18:54:24.250704",
     "exception": false,
     "start_time": "2024-01-18T18:54:24.239770",
     "status": "completed"
    },
    "tags": []
   },
   "source": [
    "## Setting Up"
   ]
  },
  {
   "cell_type": "code",
   "execution_count": 1,
   "id": "2e780e55",
   "metadata": {
    "execution": {
     "iopub.execute_input": "2024-01-18T18:54:24.274609Z",
     "iopub.status.busy": "2024-01-18T18:54:24.274136Z",
     "iopub.status.idle": "2024-01-18T18:54:32.605516Z",
     "shell.execute_reply": "2024-01-18T18:54:32.604617Z"
    },
    "id": "hO2GgZoEQp7E",
    "papermill": {
     "duration": 8.346634,
     "end_time": "2024-01-18T18:54:32.608148",
     "exception": false,
     "start_time": "2024-01-18T18:54:24.261514",
     "status": "completed"
    },
    "tags": []
   },
   "outputs": [
    {
     "name": "stderr",
     "output_type": "stream",
     "text": [
      "/home/mb05005/anaconda3/lib/python3.11/site-packages/transformers/utils/generic.py:260: FutureWarning: `torch.utils._pytree._register_pytree_node` is deprecated. Please use `torch.utils._pytree.register_pytree_node` instead.\n",
      "  torch.utils._pytree._register_pytree_node(\n"
     ]
    }
   ],
   "source": [
    "import os\n",
    "import random\n",
    "import torch\n",
    "from torch import nn\n",
    "from torch.utils.data import DataLoader, Dataset\n",
    "from torch.optim import AdamW\n",
    "from transformers import BertTokenizer, BertModel, get_linear_schedule_with_warmup\n",
    "from sklearn.model_selection import train_test_split\n",
    "from sklearn.preprocessing import LabelEncoder\n",
    "from sklearn.metrics import accuracy_score, classification_report, confusion_matrix\n",
    "from typing import Union, List\n",
    "import pandas as pd\n",
    "import matplotlib.pyplot as plt\n",
    "import seaborn as sns\n",
    "\n",
    "import warnings\n",
    "warnings.filterwarnings('ignore')\n",
    "\n",
    "plt.rcParams['figure.figsize'] = (8,5)\n",
    "plt.rcParams['font.size'] = 14"
   ]
  },
  {
   "cell_type": "code",
   "execution_count": 2,
   "id": "ad65e981",
   "metadata": {
    "execution": {
     "iopub.execute_input": "2024-01-18T18:54:32.631348Z",
     "iopub.status.busy": "2024-01-18T18:54:32.630823Z",
     "iopub.status.idle": "2024-01-18T18:54:32.636568Z",
     "shell.execute_reply": "2024-01-18T18:54:32.635600Z"
    },
    "id": "il97xLZgRfYY",
    "papermill": {
     "duration": 0.019707,
     "end_time": "2024-01-18T18:54:32.638750",
     "exception": false,
     "start_time": "2024-01-18T18:54:32.619043",
     "status": "completed"
    },
    "tags": []
   },
   "outputs": [],
   "source": [
    "def load_data(dataFile:str) -> Union[List, List]:\n",
    "    df = pd.read_csv(dataFile)\n",
    "    texts = df['tweet_text'].tolist()\n",
    "    labels = df['cyberbullying_type'].tolist()\n",
    "    return texts, labels"
   ]
  },
  {
   "cell_type": "code",
   "execution_count": 3,
   "id": "a9bfd643",
   "metadata": {
    "execution": {
     "iopub.execute_input": "2024-01-18T18:54:32.660873Z",
     "iopub.status.busy": "2024-01-18T18:54:32.660525Z",
     "iopub.status.idle": "2024-01-18T18:54:32.902881Z",
     "shell.execute_reply": "2024-01-18T18:54:32.901818Z"
    },
    "id": "G8iASXjDSr5u",
    "papermill": {
     "duration": 0.256638,
     "end_time": "2024-01-18T18:54:32.905621",
     "exception": false,
     "start_time": "2024-01-18T18:54:32.648983",
     "status": "completed"
    },
    "tags": []
   },
   "outputs": [],
   "source": [
    "dataFile = 'cyberbullying_tweets.csv'\n",
    "texts, labels = load_data(dataFile)"
   ]
  },
  {
   "cell_type": "code",
   "execution_count": 4,
   "id": "d66a4f51",
   "metadata": {
    "execution": {
     "iopub.execute_input": "2024-01-18T18:54:32.931934Z",
     "iopub.status.busy": "2024-01-18T18:54:32.930941Z",
     "iopub.status.idle": "2024-01-18T18:54:32.941244Z",
     "shell.execute_reply": "2024-01-18T18:54:32.940137Z"
    },
    "id": "GDvrC12US2gH",
    "outputId": "bef344b5-97b7-4911-ba96-448507982a35",
    "papermill": {
     "duration": 0.025388,
     "end_time": "2024-01-18T18:54:32.943718",
     "exception": false,
     "start_time": "2024-01-18T18:54:32.918330",
     "status": "completed"
    },
    "tags": []
   },
   "outputs": [
    {
     "data": {
      "text/plain": [
       "(47692, 47692)"
      ]
     },
     "execution_count": 4,
     "metadata": {},
     "output_type": "execute_result"
    }
   ],
   "source": [
    "len(texts), len(labels)"
   ]
  },
  {
   "cell_type": "code",
   "execution_count": 5,
   "id": "81837559",
   "metadata": {
    "execution": {
     "iopub.execute_input": "2024-01-18T18:54:32.968754Z",
     "iopub.status.busy": "2024-01-18T18:54:32.967911Z",
     "iopub.status.idle": "2024-01-18T18:54:33.052555Z",
     "shell.execute_reply": "2024-01-18T18:54:33.051438Z"
    },
    "id": "LurlHwSXTZ4r",
    "papermill": {
     "duration": 0.099678,
     "end_time": "2024-01-18T18:54:33.055063",
     "exception": false,
     "start_time": "2024-01-18T18:54:32.955385",
     "status": "completed"
    },
    "tags": []
   },
   "outputs": [],
   "source": [
    "labEncoder = LabelEncoder()\n",
    "labEncoder.fit(labels)\n",
    "labelsEncoded = labEncoder.transform(labels)"
   ]
  },
  {
   "cell_type": "markdown",
   "id": "13a7c3cc",
   "metadata": {
    "papermill": {
     "duration": 0.010938,
     "end_time": "2024-01-18T18:54:33.077324",
     "exception": false,
     "start_time": "2024-01-18T18:54:33.066386",
     "status": "completed"
    },
    "tags": []
   },
   "source": [
    "## Exploratory Data Analysis"
   ]
  },
  {
   "cell_type": "code",
   "execution_count": 6,
   "id": "d125e80d",
   "metadata": {
    "execution": {
     "iopub.execute_input": "2024-01-18T18:54:33.100248Z",
     "iopub.status.busy": "2024-01-18T18:54:33.099902Z",
     "iopub.status.idle": "2024-01-18T18:54:33.121126Z",
     "shell.execute_reply": "2024-01-18T18:54:33.120130Z"
    },
    "papermill": {
     "duration": 0.035488,
     "end_time": "2024-01-18T18:54:33.123664",
     "exception": false,
     "start_time": "2024-01-18T18:54:33.088176",
     "status": "completed"
    },
    "tags": []
   },
   "outputs": [
    {
     "data": {
      "text/html": [
       "<div>\n",
       "<style scoped>\n",
       "    .dataframe tbody tr th:only-of-type {\n",
       "        vertical-align: middle;\n",
       "    }\n",
       "\n",
       "    .dataframe tbody tr th {\n",
       "        vertical-align: top;\n",
       "    }\n",
       "\n",
       "    .dataframe thead th {\n",
       "        text-align: right;\n",
       "    }\n",
       "</style>\n",
       "<table border=\"1\" class=\"dataframe\">\n",
       "  <thead>\n",
       "    <tr style=\"text-align: right;\">\n",
       "      <th></th>\n",
       "      <th>text</th>\n",
       "      <th>labels</th>\n",
       "    </tr>\n",
       "  </thead>\n",
       "  <tbody>\n",
       "    <tr>\n",
       "      <th>0</th>\n",
       "      <td>In other words #katandandre, your food was cra...</td>\n",
       "      <td>not_cyberbullying</td>\n",
       "    </tr>\n",
       "    <tr>\n",
       "      <th>1</th>\n",
       "      <td>Why is #aussietv so white? #MKR #theblock #ImA...</td>\n",
       "      <td>not_cyberbullying</td>\n",
       "    </tr>\n",
       "    <tr>\n",
       "      <th>2</th>\n",
       "      <td>@XochitlSuckkks a classy whore? Or more red ve...</td>\n",
       "      <td>not_cyberbullying</td>\n",
       "    </tr>\n",
       "    <tr>\n",
       "      <th>3</th>\n",
       "      <td>@Jason_Gio meh. :P  thanks for the heads up, b...</td>\n",
       "      <td>not_cyberbullying</td>\n",
       "    </tr>\n",
       "    <tr>\n",
       "      <th>4</th>\n",
       "      <td>@RudhoeEnglish This is an ISIS account pretend...</td>\n",
       "      <td>not_cyberbullying</td>\n",
       "    </tr>\n",
       "  </tbody>\n",
       "</table>\n",
       "</div>"
      ],
      "text/plain": [
       "                                                text             labels\n",
       "0  In other words #katandandre, your food was cra...  not_cyberbullying\n",
       "1  Why is #aussietv so white? #MKR #theblock #ImA...  not_cyberbullying\n",
       "2  @XochitlSuckkks a classy whore? Or more red ve...  not_cyberbullying\n",
       "3  @Jason_Gio meh. :P  thanks for the heads up, b...  not_cyberbullying\n",
       "4  @RudhoeEnglish This is an ISIS account pretend...  not_cyberbullying"
      ]
     },
     "execution_count": 6,
     "metadata": {},
     "output_type": "execute_result"
    }
   ],
   "source": [
    "df = pd.DataFrame({'text':texts, 'labels':labels})\n",
    "df.head()"
   ]
  },
  {
   "cell_type": "markdown",
   "id": "fec22683",
   "metadata": {
    "papermill": {
     "duration": 0.010731,
     "end_time": "2024-01-18T18:54:33.146208",
     "exception": false,
     "start_time": "2024-01-18T18:54:33.135477",
     "status": "completed"
    },
    "tags": []
   },
   "source": [
    "### Check Missing Values"
   ]
  },
  {
   "cell_type": "code",
   "execution_count": 7,
   "id": "229009cb",
   "metadata": {
    "execution": {
     "iopub.execute_input": "2024-01-18T18:54:33.169505Z",
     "iopub.status.busy": "2024-01-18T18:54:33.168583Z",
     "iopub.status.idle": "2024-01-18T18:54:33.187406Z",
     "shell.execute_reply": "2024-01-18T18:54:33.186491Z"
    },
    "papermill": {
     "duration": 0.032523,
     "end_time": "2024-01-18T18:54:33.189483",
     "exception": false,
     "start_time": "2024-01-18T18:54:33.156960",
     "status": "completed"
    },
    "tags": []
   },
   "outputs": [
    {
     "data": {
      "text/plain": [
       "False"
      ]
     },
     "execution_count": 7,
     "metadata": {},
     "output_type": "execute_result"
    }
   ],
   "source": [
    "any(df.isna().sum())"
   ]
  },
  {
   "cell_type": "code",
   "execution_count": 8,
   "id": "46125f6c",
   "metadata": {
    "execution": {
     "iopub.execute_input": "2024-01-18T18:54:33.214026Z",
     "iopub.status.busy": "2024-01-18T18:54:33.213675Z",
     "iopub.status.idle": "2024-01-18T18:54:33.246902Z",
     "shell.execute_reply": "2024-01-18T18:54:33.245770Z"
    },
    "papermill": {
     "duration": 0.048659,
     "end_time": "2024-01-18T18:54:33.249626",
     "exception": false,
     "start_time": "2024-01-18T18:54:33.200967",
     "status": "completed"
    },
    "tags": []
   },
   "outputs": [
    {
     "name": "stdout",
     "output_type": "stream",
     "text": [
      "<class 'pandas.core.frame.DataFrame'>\n",
      "RangeIndex: 47692 entries, 0 to 47691\n",
      "Data columns (total 2 columns):\n",
      " #   Column  Non-Null Count  Dtype \n",
      "---  ------  --------------  ----- \n",
      " 0   text    47692 non-null  object\n",
      " 1   labels  47692 non-null  object\n",
      "dtypes: object(2)\n",
      "memory usage: 745.3+ KB\n"
     ]
    }
   ],
   "source": [
    "df.info()"
   ]
  },
  {
   "cell_type": "code",
   "execution_count": 9,
   "id": "cce1ad86",
   "metadata": {
    "execution": {
     "iopub.execute_input": "2024-01-18T18:54:33.274244Z",
     "iopub.status.busy": "2024-01-18T18:54:33.273898Z",
     "iopub.status.idle": "2024-01-18T18:54:33.691676Z",
     "shell.execute_reply": "2024-01-18T18:54:33.690638Z"
    },
    "papermill": {
     "duration": 0.432431,
     "end_time": "2024-01-18T18:54:33.693976",
     "exception": false,
     "start_time": "2024-01-18T18:54:33.261545",
     "status": "completed"
    },
    "tags": []
   },
   "outputs": [
    {
     "data": {
      "image/png": "[encoded data removed]",
      "text/plain": [
       "<Figure size 1200x700 with 1 Axes>"
      ]
     },
     "metadata": {},
     "output_type": "display_data"
    }
   ],
   "source": [
    "plt.figure(figsize=(12, 7))\n",
    "sns.countplot(data=df, x='labels')\n",
    "plt.title(\"Label Distribution\")\n",
    "plt.show()"
   ]
  },
  {
   "cell_type": "markdown",
   "id": "7fa7889c",
   "metadata": {
    "papermill": {
     "duration": 0.012247,
     "end_time": "2024-01-18T18:54:33.718718",
     "exception": false,
     "start_time": "2024-01-18T18:54:33.706471",
     "status": "completed"
    },
    "tags": []
   },
   "source": [
    "### Tweet Length"
   ]
  },
  {
   "cell_type": "code",
   "execution_count": 10,
   "id": "128e5a80",
   "metadata": {
    "execution": {
     "iopub.execute_input": "2024-01-18T18:54:33.745962Z",
     "iopub.status.busy": "2024-01-18T18:54:33.745008Z",
     "iopub.status.idle": "2024-01-18T18:54:33.787226Z",
     "shell.execute_reply": "2024-01-18T18:54:33.786388Z"
    },
    "papermill": {
     "duration": 0.057851,
     "end_time": "2024-01-18T18:54:33.789283",
     "exception": false,
     "start_time": "2024-01-18T18:54:33.731432",
     "status": "completed"
    },
    "tags": []
   },
   "outputs": [],
   "source": [
    "df['length'] = df['text'].str.len()"
   ]
  },
  {
   "cell_type": "code",
   "execution_count": 11,
   "id": "6f47b676",
   "metadata": {
    "execution": {
     "iopub.execute_input": "2024-01-18T18:54:33.814489Z",
     "iopub.status.busy": "2024-01-18T18:54:33.814106Z",
     "iopub.status.idle": "2024-01-18T18:54:34.001859Z",
     "shell.execute_reply": "2024-01-18T18:54:34.000788Z"
    },
    "papermill": {
     "duration": 0.202747,
     "end_time": "2024-01-18T18:54:34.004103",
     "exception": false,
     "start_time": "2024-01-18T18:54:33.801356",
     "status": "completed"
    },
    "tags": []
   },
   "outputs": [
    {
     "data": {
      "image/png": "[encoded data removed]",
      "text/plain": [
       "<Figure size 800x500 with 1 Axes>"
      ]
     },
     "metadata": {},
     "output_type": "display_data"
    }
   ],
   "source": [
    "sns.boxplot(data=df, y='length')\n",
    "plt.title(\"Length of Tweets\")\n",
    "plt.show()"
   ]
  },
  {
   "cell_type": "markdown",
   "id": "0bcbdabf",
   "metadata": {
    "papermill": {
     "duration": 0.011746,
     "end_time": "2024-01-18T18:54:34.028151",
     "exception": false,
     "start_time": "2024-01-18T18:54:34.016405",
     "status": "completed"
    },
    "tags": []
   },
   "source": [
    "### Word Count"
   ]
  },
  {
   "cell_type": "code",
   "execution_count": 12,
   "id": "1ace50eb",
   "metadata": {
    "execution": {
     "iopub.execute_input": "2024-01-18T18:54:34.053655Z",
     "iopub.status.busy": "2024-01-18T18:54:34.053281Z",
     "iopub.status.idle": "2024-01-18T18:54:34.177528Z",
     "shell.execute_reply": "2024-01-18T18:54:34.176506Z"
    },
    "papermill": {
     "duration": 0.139724,
     "end_time": "2024-01-18T18:54:34.180026",
     "exception": false,
     "start_time": "2024-01-18T18:54:34.040302",
     "status": "completed"
    },
    "tags": []
   },
   "outputs": [],
   "source": [
    "def word_count(x):\n",
    "    return len(x.split())\n",
    "\n",
    "df['word_count'] = df['text'].apply(word_count)"
   ]
  },
  {
   "cell_type": "code",
   "execution_count": 13,
   "id": "4a55d5c5",
   "metadata": {
    "execution": {
     "iopub.execute_input": "2024-01-18T18:54:34.256385Z",
     "iopub.status.busy": "2024-01-18T18:54:34.255614Z",
     "iopub.status.idle": "2024-01-18T18:54:34.457736Z",
     "shell.execute_reply": "2024-01-18T18:54:34.456701Z"
    },
    "papermill": {
     "duration": 0.217932,
     "end_time": "2024-01-18T18:54:34.460134",
     "exception": false,
     "start_time": "2024-01-18T18:54:34.242202",
     "status": "completed"
    },
    "tags": []
   },
   "outputs": [
    {
     "data": {
      "image/png": "[encoded data removed]",
      "text/plain": [
       "<Figure size 800x500 with 1 Axes>"
      ]
     },
     "metadata": {},
     "output_type": "display_data"
    }
   ],
   "source": [
    "sns.boxplot(data=df, y='word_count')\n",
    "plt.title(\"Word Count in Tweets\")\n",
    "plt.show()"
   ]
  },
  {
   "cell_type": "markdown",
   "id": "1267dc73",
   "metadata": {
    "id": "qFx0QluBt_IX",
    "papermill": {
     "duration": 0.013644,
     "end_time": "2024-01-18T18:54:34.487324",
     "exception": false,
     "start_time": "2024-01-18T18:54:34.473680",
     "status": "completed"
    },
    "tags": []
   },
   "source": [
    "## Dataset Building"
   ]
  },
  {
   "cell_type": "code",
   "execution_count": 14,
   "id": "4ed65c08",
   "metadata": {
    "execution": {
     "iopub.execute_input": "2024-01-18T18:54:34.516231Z",
     "iopub.status.busy": "2024-01-18T18:54:34.515810Z",
     "iopub.status.idle": "2024-01-18T18:54:34.524127Z",
     "shell.execute_reply": "2024-01-18T18:54:34.523096Z"
    },
    "id": "sUUhuRyvThhd",
    "papermill": {
     "duration": 0.025316,
     "end_time": "2024-01-18T18:54:34.526269",
     "exception": false,
     "start_time": "2024-01-18T18:54:34.500953",
     "status": "completed"
    },
    "tags": []
   },
   "outputs": [],
   "source": [
    "class TextClassificationDataset(Dataset):\n",
    "\n",
    "    def __init__(self, texts, labels, tokenizer, max_length):\n",
    "        self.texts = texts\n",
    "        self.labels = labels\n",
    "        self.tokenizer = tokenizer\n",
    "        self.max_length = max_length\n",
    "\n",
    "    def __len__(self):\n",
    "        return len(self.texts)\n",
    "\n",
    "    def __getitem__(self, idx):\n",
    "        text = self.texts[idx]\n",
    "        label = self.labels[idx]\n",
    "        encoding = self.tokenizer(text, return_tensors='pt', max_length=self.max_length, padding='max_length', truncation=True)\n",
    "        return {\n",
    "            'input_ids': encoding['input_ids'].flatten(),\n",
    "            'attention_mask': encoding['attention_mask'].flatten(),\n",
    "            'label': torch.tensor(label)\n",
    "        }"
   ]
  },
  {
   "cell_type": "markdown",
   "id": "132d9c94",
   "metadata": {
    "id": "5UO3WU89uD8N",
    "papermill": {
     "duration": 0.013343,
     "end_time": "2024-01-18T18:54:34.553273",
     "exception": false,
     "start_time": "2024-01-18T18:54:34.539930",
     "status": "completed"
    },
    "tags": []
   },
   "source": [
    "## Model Building"
   ]
  },
  {
   "cell_type": "markdown",
   "id": "7c0c8199",
   "metadata": {
    "papermill": {
     "duration": 0.013393,
     "end_time": "2024-01-18T18:54:34.580198",
     "exception": false,
     "start_time": "2024-01-18T18:54:34.566805",
     "status": "completed"
    },
    "tags": []
   },
   "source": [
    "<img src=\"https://miro.medium.com/v2/resize:fit:640/format:webp/0*ViwaI3Vvbnd-CJSQ.png\" />\n",
    "\n",
    "<h4><strong>Architecture of BERT</strong></h4>\n",
    "<p>\n",
    "BERT makes use of Transformer, an attention mechanism that learns contextual relations between words (or sub-words) in a text. In its vanilla form, Transformer includes two separate mechanisms — an encoder that reads the text input and a decoder that produces a prediction for the task. Since BERT’s goal is to generate a language model, only the encoder mechanism is necessary.\n",
    "\n",
    "As opposed to directional models, which read the text input sequentially (left-to-right or right-to-left), the Transformer encoder reads the entire sequence of words at once. Therefore it is considered bidirectional, though it would be more accurate to say that it’s non-directional. This characteristic allows the model to learn the context of a word based on all of its surroundings (left and right of the word).\n",
    "</p>"
   ]
  },
  {
   "cell_type": "code",
   "execution_count": 15,
   "id": "f1456190",
   "metadata": {
    "execution": {
     "iopub.execute_input": "2024-01-18T18:54:34.609796Z",
     "iopub.status.busy": "2024-01-18T18:54:34.608824Z",
     "iopub.status.idle": "2024-01-18T18:54:34.616299Z",
     "shell.execute_reply": "2024-01-18T18:54:34.615311Z"
    },
    "id": "rp87r06wVm3c",
    "papermill": {
     "duration": 0.024827,
     "end_time": "2024-01-18T18:54:34.618611",
     "exception": false,
     "start_time": "2024-01-18T18:54:34.593784",
     "status": "completed"
    },
    "tags": []
   },
   "outputs": [],
   "source": [
    "class BERTClassifier(nn.Module):\n",
    "    def __init__(self, bert_model_name, num_classes):\n",
    "        super(BERTClassifier, self).__init__()\n",
    "        self.bert = BertModel.from_pretrained(bert_model_name)\n",
    "        self.dropout = nn.Dropout(0.1)\n",
    "        self.fc = nn.Linear(self.bert.config.hidden_size, num_classes)\n",
    "\n",
    "    def forward(self, input_ids, attention_mask):\n",
    "        outputs = self.bert(input_ids, attention_mask=attention_mask)\n",
    "        pooled_output = outputs.pooler_output\n",
    "        x = self.dropout(pooled_output)\n",
    "        logits = self.fc(x)\n",
    "        return logits"
   ]
  },
  {
   "cell_type": "markdown",
   "id": "72023964",
   "metadata": {
    "id": "kWhT0NvtwL27",
    "papermill": {
     "duration": 0.013556,
     "end_time": "2024-01-18T18:54:34.646419",
     "exception": false,
     "start_time": "2024-01-18T18:54:34.632863",
     "status": "completed"
    },
    "tags": []
   },
   "source": [
    "## Utility Functions"
   ]
  },
  {
   "cell_type": "code",
   "execution_count": 16,
   "id": "014cb161",
   "metadata": {
    "execution": {
     "iopub.execute_input": "2024-01-18T18:54:34.675790Z",
     "iopub.status.busy": "2024-01-18T18:54:34.674823Z",
     "iopub.status.idle": "2024-01-18T18:54:34.681884Z",
     "shell.execute_reply": "2024-01-18T18:54:34.680879Z"
    },
    "id": "qfTJIljAWvpF",
    "papermill": {
     "duration": 0.024169,
     "end_time": "2024-01-18T18:54:34.684184",
     "exception": false,
     "start_time": "2024-01-18T18:54:34.660015",
     "status": "completed"
    },
    "tags": []
   },
   "outputs": [],
   "source": [
    "def train(model, data_loader, optimizer, scheduler, device):\n",
    "    model.train()\n",
    "    for batch in data_loader:\n",
    "        optimizer.zero_grad()\n",
    "        input_ids = batch['input_ids'].to(device)\n",
    "        attention_mask = batch['attention_mask'].to(device)\n",
    "        labels = batch['label'].to(device)\n",
    "        outputs = model(input_ids=input_ids, attention_mask=attention_mask)\n",
    "        loss = nn.CrossEntropyLoss()(outputs, labels)\n",
    "        loss.backward()\n",
    "        optimizer.step()\n",
    "        scheduler.step()"
   ]
  },
  {
   "cell_type": "code",
   "execution_count": 17,
   "id": "a7932cbd",
   "metadata": {
    "execution": {
     "iopub.execute_input": "2024-01-18T18:54:34.713269Z",
     "iopub.status.busy": "2024-01-18T18:54:34.712830Z",
     "iopub.status.idle": "2024-01-18T18:54:34.721462Z",
     "shell.execute_reply": "2024-01-18T18:54:34.720239Z"
    },
    "id": "hMEweN4TXa0o",
    "papermill": {
     "duration": 0.025741,
     "end_time": "2024-01-18T18:54:34.723727",
     "exception": false,
     "start_time": "2024-01-18T18:54:34.697986",
     "status": "completed"
    },
    "tags": []
   },
   "outputs": [],
   "source": [
    "def evaluate(model, data_loader, device):\n",
    "    model.eval()\n",
    "    predictions = list()\n",
    "    actual = list()\n",
    "    with torch.no_grad():\n",
    "        for batch in data_loader:\n",
    "            input_ids = batch['input_ids'].to(device)\n",
    "            attention_mask = batch['attention_mask'].to(device)\n",
    "            labels = batch['label'].to(device)\n",
    "            outputs = model(input_ids=input_ids, attention_mask=attention_mask)\n",
    "            _, preds = torch.max(outputs, dim=1)\n",
    "            predictions.extend(preds.cpu().tolist())\n",
    "            actual.extend(labels.cpu().tolist())\n",
    "    return accuracy_score(y_true=actual, y_pred=predictions), classification_report(y_true=actual, y_pred=predictions)"
   ]
  },
  {
   "cell_type": "code",
   "execution_count": 18,
   "id": "0710fd7e",
   "metadata": {
    "execution": {
     "iopub.execute_input": "2024-01-18T18:54:34.753166Z",
     "iopub.status.busy": "2024-01-18T18:54:34.752777Z",
     "iopub.status.idle": "2024-01-18T18:54:34.760062Z",
     "shell.execute_reply": "2024-01-18T18:54:34.758886Z"
    },
    "id": "KUN8k88wYv6d",
    "papermill": {
     "duration": 0.024482,
     "end_time": "2024-01-18T18:54:34.762371",
     "exception": false,
     "start_time": "2024-01-18T18:54:34.737889",
     "status": "completed"
    },
    "tags": []
   },
   "outputs": [],
   "source": [
    "def predict_class(text, model, tokenizer, device, classes, max_length=128):\n",
    "    model.eval()\n",
    "    encoding = tokenizer(text, return_tensors='pt', max_length=max_length, padding='max_length', truncation=True)\n",
    "    input_ids = encoding['input_ids'].to(device)\n",
    "    attention_mask = encoding['attention_mask'].to(device)\n",
    "\n",
    "    with torch.no_grad():\n",
    "        outputs = model(input_ids=input_ids, attention_mask=attention_mask)\n",
    "        _, preds = torch.max(outputs, dim=1)\n",
    "\n",
    "    return classes[preds.item()]"
   ]
  },
  {
   "cell_type": "markdown",
   "id": "dc9e7a7b",
   "metadata": {
    "id": "C8U7Wrj3ZoWr",
    "papermill": {
     "duration": 0.013515,
     "end_time": "2024-01-18T18:54:34.789680",
     "exception": false,
     "start_time": "2024-01-18T18:54:34.776165",
     "status": "completed"
    },
    "tags": []
   },
   "source": [
    "## Define Model Parameters"
   ]
  },
  {
   "cell_type": "code",
   "execution_count": 19,
   "id": "7959c244",
   "metadata": {
    "execution": {
     "iopub.execute_input": "2024-01-18T18:54:34.818485Z",
     "iopub.status.busy": "2024-01-18T18:54:34.818138Z",
     "iopub.status.idle": "2024-01-18T18:54:34.823040Z",
     "shell.execute_reply": "2024-01-18T18:54:34.822104Z"
    },
    "id": "IB00P1jPZqZU",
    "papermill": {
     "duration": 0.021555,
     "end_time": "2024-01-18T18:54:34.825103",
     "exception": false,
     "start_time": "2024-01-18T18:54:34.803548",
     "status": "completed"
    },
    "tags": []
   },
   "outputs": [],
   "source": [
    "bert_model_name = 'bert-base-uncased'\n",
    "num_classes = 6\n",
    "max_length = 128\n",
    "batch_size = 32\n",
    "num_epochs = 5\n",
    "learning_rate = 2e-5"
   ]
  },
  {
   "cell_type": "markdown",
   "id": "34f5e25d",
   "metadata": {
    "id": "oMT4o-ijaGyj",
    "papermill": {
     "duration": 0.012994,
     "end_time": "2024-01-18T18:54:34.850666",
     "exception": false,
     "start_time": "2024-01-18T18:54:34.837672",
     "status": "completed"
    },
    "tags": []
   },
   "source": [
    "## Splitting Dataset"
   ]
  },
  {
   "cell_type": "code",
   "execution_count": 20,
   "id": "6648ad10",
   "metadata": {
    "execution": {
     "iopub.execute_input": "2024-01-18T18:54:34.879620Z",
     "iopub.status.busy": "2024-01-18T18:54:34.878690Z",
     "iopub.status.idle": "2024-01-18T18:54:34.902902Z",
     "shell.execute_reply": "2024-01-18T18:54:34.901903Z"
    },
    "id": "dR66M3CmaJnk",
    "outputId": "2c936591-a376-4c4e-e472-5680e1d63313",
    "papermill": {
     "duration": 0.041548,
     "end_time": "2024-01-18T18:54:34.905134",
     "exception": false,
     "start_time": "2024-01-18T18:54:34.863586",
     "status": "completed"
    },
    "tags": []
   },
   "outputs": [
    {
     "data": {
      "text/plain": [
       "(38153, 9539, 38153, 9539)"
      ]
     },
     "execution_count": 20,
     "metadata": {},
     "output_type": "execute_result"
    }
   ],
   "source": [
    "train_texts, val_texts, train_labels, val_labels = train_test_split(texts, labelsEncoded, test_size=0.2, random_state=42)\n",
    "len(train_texts), len(val_texts), len(train_labels), len(val_labels)"
   ]
  },
  {
   "cell_type": "code",
   "execution_count": 21,
   "id": "b628c752",
   "metadata": {
    "execution": {
     "iopub.execute_input": "2024-01-18T18:54:34.934623Z",
     "iopub.status.busy": "2024-01-18T18:54:34.933920Z",
     "iopub.status.idle": "2024-01-18T18:54:35.779875Z",
     "shell.execute_reply": "2024-01-18T18:54:35.778788Z"
    },
    "id": "MQnwu8WiaqeI",
    "papermill": {
     "duration": 0.863377,
     "end_time": "2024-01-18T18:54:35.782351",
     "exception": false,
     "start_time": "2024-01-18T18:54:34.918974",
     "status": "completed"
    },
    "tags": []
   },
   "outputs": [
    {
     "data": {
      "application/vnd.jupyter.widget-view+json": {
       "model_id": "b42b6e895878457591416919fd690889",
       "version_major": 2,
       "version_minor": 0
      },
      "text/plain": [
       "Downloading vocab.txt:   0%|          | 0.00/232k [00:00<?, ?B/s]"
      ]
     },
     "metadata": {},
     "output_type": "display_data"
    },
    {
     "data": {
      "application/vnd.jupyter.widget-view+json": {
       "model_id": "a36209156c754e108dbfb157694a6d73",
       "version_major": 2,
       "version_minor": 0
      },
      "text/plain": [
       "Downloading tokenizer_config.json:   0%|          | 0.00/48.0 [00:00<?, ?B/s]"
      ]
     },
     "metadata": {},
     "output_type": "display_data"
    },
    {
     "data": {
      "application/vnd.jupyter.widget-view+json": {
       "model_id": "2adff5f9c68c4a9eaa673b287b09575f",
       "version_major": 2,
       "version_minor": 0
      },
      "text/plain": [
       "Downloading config.json:   0%|          | 0.00/570 [00:00<?, ?B/s]"
      ]
     },
     "metadata": {},
     "output_type": "display_data"
    }
   ],
   "source": [
    "tokenizer = BertTokenizer.from_pretrained(bert_model_name)\n",
    "\n",
    "train_dataset = TextClassificationDataset(train_texts, train_labels, tokenizer=tokenizer, max_length=max_length)\n",
    "val_dataset = TextClassificationDataset(val_texts, val_labels, tokenizer=tokenizer, max_length=max_length)\n",
    "\n",
    "train_dataloader = DataLoader(train_dataset, batch_size=batch_size, shuffle=True)\n",
    "val_dataloader = DataLoader(val_dataset, batch_size=batch_size)"
   ]
  },
  {
   "cell_type": "markdown",
   "id": "ef9da647",
   "metadata": {
    "id": "gwtY0IPQdZRi",
    "papermill": {
     "duration": 0.013106,
     "end_time": "2024-01-18T18:54:35.809397",
     "exception": false,
     "start_time": "2024-01-18T18:54:35.796291",
     "status": "completed"
    },
    "tags": []
   },
   "source": [
    "## Setting up the Model"
   ]
  },
  {
   "cell_type": "code",
   "execution_count": 22,
   "id": "46042695",
   "metadata": {
    "execution": {
     "iopub.execute_input": "2024-01-18T18:54:35.838609Z",
     "iopub.status.busy": "2024-01-18T18:54:35.838230Z",
     "iopub.status.idle": "2024-01-18T18:54:39.070274Z",
     "shell.execute_reply": "2024-01-18T18:54:39.069199Z"
    },
    "id": "nVHUM9p1bSRH",
    "papermill": {
     "duration": 3.249757,
     "end_time": "2024-01-18T18:54:39.072871",
     "exception": false,
     "start_time": "2024-01-18T18:54:35.823114",
     "status": "completed"
    },
    "tags": []
   },
   "outputs": [
    {
     "data": {
      "application/vnd.jupyter.widget-view+json": {
       "model_id": "d62f9777f094498cb2045a93aebae276",
       "version_major": 2,
       "version_minor": 0
      },
      "text/plain": [
       "Downloading model.safetensors:   0%|          | 0.00/440M [00:00<?, ?B/s]"
      ]
     },
     "metadata": {},
     "output_type": "display_data"
    }
   ],
   "source": [
    "device = torch.device(\"cuda\" if torch.cuda.is_available() else \"cpu\")\n",
    "model = BERTClassifier(bert_model_name, num_classes).to(device)"
   ]
  },
  {
   "cell_type": "code",
   "execution_count": 23,
   "id": "961e5a0d",
   "metadata": {
    "execution": {
     "iopub.execute_input": "2024-01-18T18:54:39.103338Z",
     "iopub.status.busy": "2024-01-18T18:54:39.102956Z",
     "iopub.status.idle": "2024-01-18T18:54:39.109519Z",
     "shell.execute_reply": "2024-01-18T18:54:39.108567Z"
    },
    "id": "DDLGHL02cLyg",
    "outputId": "3d6a3eea-05d5-442f-a684-21ee052d7e50",
    "papermill": {
     "duration": 0.023813,
     "end_time": "2024-01-18T18:54:39.111668",
     "exception": false,
     "start_time": "2024-01-18T18:54:39.087855",
     "status": "completed"
    },
    "tags": []
   },
   "outputs": [],
   "source": [
    "optimizer = AdamW(model.parameters(), lr=learning_rate)\n",
    "total_steps = len(train_dataloader) * num_epochs\n",
    "scheduler = get_linear_schedule_with_warmup(optimizer, num_warmup_steps=0, num_training_steps=total_steps)"
   ]
  },
  {
   "cell_type": "markdown",
   "id": "a069d4f2",
   "metadata": {
    "id": "pPceRq7BuJq_",
    "papermill": {
     "duration": 0.01397,
     "end_time": "2024-01-18T18:54:39.140618",
     "exception": false,
     "start_time": "2024-01-18T18:54:39.126648",
     "status": "completed"
    },
    "tags": []
   },
   "source": [
    "## Model Training"
   ]
  },
  {
   "cell_type": "code",
   "execution_count": 24,
   "id": "a6e93e3b",
   "metadata": {
    "execution": {
     "iopub.execute_input": "2024-01-18T18:54:39.169993Z",
     "iopub.status.busy": "2024-01-18T18:54:39.169299Z",
     "iopub.status.idle": "2024-01-18T19:37:08.945782Z",
     "shell.execute_reply": "2024-01-18T19:37:08.944656Z"
    },
    "id": "ct7j09aMcLqz",
    "outputId": "8f89287d-11b8-4f6a-95b2-e1db7598d18e",
    "papermill": {
     "duration": 2549.808625,
     "end_time": "2024-01-18T19:37:08.963221",
     "exception": false,
     "start_time": "2024-01-18T18:54:39.154596",
     "status": "completed"
    },
    "tags": []
   },
   "outputs": [
    {
     "name": "stdout",
     "output_type": "stream",
     "text": [
      "Epoch 1/5\n",
      "Validation Accuracy: 0.8537\n",
      "              precision    recall  f1-score   support\n",
      "\n",
      "           0       0.97      0.98      0.98      1603\n",
      "           1       0.98      0.97      0.98      1603\n",
      "           2       0.90      0.87      0.88      1531\n",
      "           3       0.64      0.64      0.64      1624\n",
      "           4       0.69      0.70      0.69      1612\n",
      "           5       0.94      0.98      0.96      1566\n",
      "\n",
      "    accuracy                           0.85      9539\n",
      "   macro avg       0.86      0.85      0.85      9539\n",
      "weighted avg       0.85      0.85      0.85      9539\n",
      "\n",
      "Epoch 2/5\n",
      "Validation Accuracy: 0.8642\n",
      "              precision    recall  f1-score   support\n",
      "\n",
      "           0       0.98      0.98      0.98      1603\n",
      "           1       0.99      0.98      0.98      1603\n",
      "           2       0.86      0.91      0.88      1531\n",
      "           3       0.76      0.53      0.63      1624\n",
      "           4       0.68      0.81      0.74      1612\n",
      "           5       0.91      0.98      0.95      1566\n",
      "\n",
      "    accuracy                           0.86      9539\n",
      "   macro avg       0.87      0.87      0.86      9539\n",
      "weighted avg       0.86      0.86      0.86      9539\n",
      "\n",
      "Epoch 3/5\n",
      "Validation Accuracy: 0.8638\n",
      "              precision    recall  f1-score   support\n",
      "\n",
      "           0       0.97      0.98      0.98      1603\n",
      "           1       0.99      0.97      0.98      1603\n",
      "           2       0.87      0.89      0.88      1531\n",
      "           3       0.77      0.54      0.63      1624\n",
      "           4       0.66      0.84      0.74      1612\n",
      "           5       0.94      0.97      0.96      1566\n",
      "\n",
      "    accuracy                           0.86      9539\n",
      "   macro avg       0.87      0.87      0.86      9539\n",
      "weighted avg       0.87      0.86      0.86      9539\n",
      "\n",
      "Epoch 4/5\n",
      "Validation Accuracy: 0.8583\n",
      "              precision    recall  f1-score   support\n",
      "\n",
      "           0       0.98      0.98      0.98      1603\n",
      "           1       0.99      0.98      0.98      1603\n",
      "           2       0.88      0.88      0.88      1531\n",
      "           3       0.70      0.58      0.64      1624\n",
      "           4       0.66      0.77      0.71      1612\n",
      "           5       0.94      0.97      0.96      1566\n",
      "\n",
      "    accuracy                           0.86      9539\n",
      "   macro avg       0.86      0.86      0.86      9539\n",
      "weighted avg       0.86      0.86      0.86      9539\n",
      "\n",
      "Epoch 5/5\n",
      "Validation Accuracy: 0.8556\n",
      "              precision    recall  f1-score   support\n",
      "\n",
      "           0       0.98      0.98      0.98      1603\n",
      "           1       0.99      0.98      0.98      1603\n",
      "           2       0.88      0.88      0.88      1531\n",
      "           3       0.68      0.59      0.63      1624\n",
      "           4       0.66      0.75      0.70      1612\n",
      "           5       0.95      0.96      0.96      1566\n",
      "\n",
      "    accuracy                           0.86      9539\n",
      "   macro avg       0.86      0.86      0.86      9539\n",
      "weighted avg       0.86      0.86      0.85      9539\n",
      "\n"
     ]
    }
   ],
   "source": [
    "for epoch in range(num_epochs):\n",
    "    print(f\"Epoch {epoch+1}/{num_epochs}\")\n",
    "    train(model, train_dataloader, optimizer, scheduler, device)\n",
    "    accuracy, report = evaluate(model, val_dataloader, device)\n",
    "    print(f\"Validation Accuracy: {accuracy:.4f}\")\n",
    "    print(report)"
   ]
  },
  {
   "cell_type": "code",
   "execution_count": 25,
   "id": "0625681c",
   "metadata": {},
   "outputs": [],
   "source": [
    "# Assuming `model` is your PyTorch model\n",
    "torch.save(model.state_dict(), \"model.pth\")"
   ]
  },
  {
   "cell_type": "markdown",
   "id": "3a1f479d",
   "metadata": {
    "id": "8qx-nvx2uXVY",
    "papermill": {
     "duration": 0.014067,
     "end_time": "2024-01-18T19:37:08.992417",
     "exception": false,
     "start_time": "2024-01-18T19:37:08.978350",
     "status": "completed"
    },
    "tags": []
   },
   "source": [
    "## Model Evaluation"
   ]
  },
  {
   "cell_type": "code",
   "execution_count": 26,
   "id": "5de954b2",
   "metadata": {
    "execution": {
     "iopub.execute_input": "2024-01-18T19:37:09.022355Z",
     "iopub.status.busy": "2024-01-18T19:37:09.021899Z",
     "iopub.status.idle": "2024-01-18T19:37:09.026687Z",
     "shell.execute_reply": "2024-01-18T19:37:09.025844Z"
    },
    "id": "FQxnZUxYvHEw",
    "papermill": {
     "duration": 0.022502,
     "end_time": "2024-01-18T19:37:09.028761",
     "exception": false,
     "start_time": "2024-01-18T19:37:09.006259",
     "status": "completed"
    },
    "tags": []
   },
   "outputs": [],
   "source": [
    "classes = labEncoder.classes_.tolist()"
   ]
  },
  {
   "cell_type": "code",
   "execution_count": 27,
   "id": "0dfa71b6",
   "metadata": {
    "execution": {
     "iopub.execute_input": "2024-01-18T19:37:09.062180Z",
     "iopub.status.busy": "2024-01-18T19:37:09.061784Z",
     "iopub.status.idle": "2024-01-18T19:37:09.213782Z",
     "shell.execute_reply": "2024-01-18T19:37:09.212575Z"
    },
    "id": "WrKF7_6bcLoe",
    "outputId": "f4564a16-7472-499b-dd64-7d3b3a5bc891",
    "papermill": {
     "duration": 0.171312,
     "end_time": "2024-01-18T19:37:09.216742",
     "exception": false,
     "start_time": "2024-01-18T19:37:09.045430",
     "status": "completed"
    },
    "scrolled": true,
    "tags": []
   },
   "outputs": [
    {
     "name": "stdout",
     "output_type": "stream",
     "text": [
      "=============================================\n",
      "Text:\n",
      "So we can't joke/comment about; suicide, death, robbery, pets, rape, being gay, being straight, religion, fat people, gingers, etc.,. Black humour is what helps people get through shit. Taking offence at every little comment is ridiculous and yes I have lost family to suicide.\n",
      "Actual: gender\tPredicted: gender\n",
      "=============================================\n",
      "=============================================\n",
      "Text:\n",
      "@smileyt22 @CSPANJNKY @Communist_Dog @RockDots @cspanwj Privateers taking over our public schools our most important asset\n",
      "Actual: not_cyberbullying\tPredicted: age\n",
      "=============================================\n",
      "=============================================\n",
      "Text:\n",
      "@Jeff_Nacht it's not pink.\n",
      "Actual: other_cyberbullying\tPredicted: not_cyberbullying\n",
      "=============================================\n",
      "=============================================\n",
      "Text:\n",
      "That’s what this is about, isn’t it? Were you bullied by other girls at school? This isn’t high school.\n",
      "Actual: age\tPredicted: age\n",
      "=============================================\n",
      "=============================================\n",
      "Text:\n",
      "@98Halima @johnnygjokaj @BilalIGhumman @cdnKhadija @rfrankh53 Snooor.\n",
      "Actual: not_cyberbullying\tPredicted: not_cyberbullying\n",
      "=============================================\n",
      "=============================================\n",
      "Text:\n",
      "Rape jokes aren't funny. They're inappropriate and offensive. So is using the word \"gay\" and \"retarded\" in negative connotation. #annoyed\n",
      "Actual: gender\tPredicted: gender\n",
      "=============================================\n",
      "=============================================\n",
      "Text:\n",
      "RT @J0ELPUT0: @1dftcienciou @GusmanoCarolina @CNCOmusic EL FUCKING PROBLEMA! damn\n",
      "Actual: other_cyberbullying\tPredicted: not_cyberbullying\n",
      "=============================================\n",
      "=============================================\n",
      "Text:\n",
      "@brendensparks yessss *quiet fist pump* i am a trendsetter\n",
      "Actual: not_cyberbullying\tPredicted: not_cyberbullying\n",
      "=============================================\n",
      "=============================================\n",
      "Text:\n",
      "The best millennials could pick for humor in the 90- early 2000s was jokes about pedophilia, being gay, rape, and racist shit. Imagine if gen z”a culture was centered around that humor, I would scoot back into my mothers vageen and wait till I heard a real joke to come back out.\n",
      "Actual: gender\tPredicted: gender\n",
      "=============================================\n",
      "=============================================\n",
      "Text:\n",
      "I was a dance major. I was studying sports nutrition on a campus in \"not the best area\" & decided it wasn't safe for me. I also volunteered to attend a \"magnet\" high school for racial integration. Bad idea. I was bullied by girls of color would surround me. I had to quit. 1990's\n",
      "Actual: age\tPredicted: age\n",
      "=============================================\n"
     ]
    }
   ],
   "source": [
    "for _ in range(10):\n",
    "    random_idx = random.randint(0, len(val_texts))\n",
    "    text = val_texts[random_idx]\n",
    "    label = classes[val_labels[random_idx]]\n",
    "    pred = predict_class(text, model, tokenizer, device, classes)\n",
    "\n",
    "    print(\"=============================================\")\n",
    "    print(f\"Text:\\n{text}\")\n",
    "    print(f\"Actual: {label}\\tPredicted: {pred}\")\n",
    "    print(\"=============================================\")"
   ]
  },
  {
   "cell_type": "markdown",
   "id": "0ff994a0",
   "metadata": {
    "papermill": {
     "duration": 0.015621,
     "end_time": "2024-01-18T19:37:09.249047",
     "exception": false,
     "start_time": "2024-01-18T19:37:09.233426",
     "status": "completed"
    },
    "tags": []
   },
   "source": [
    "<div class=\"alert alert-success\">\n",
    "<h4>Conclusion</h4>\n",
    "    <p>\n",
    "    In conclusion, BERT is a powerful advancement in the field of NLP. With minimal preprocessing, setup and time, the model achieves great results,\n",
    "    and is able to perform well across multiple classes. This is a rather basic usage of the architecture, it's capabalities extend to several other use cases\n",
    "    and applications. There are several other models like BERT, based on the Transformer architecture that create a powerful ecosystem of these models.\n",
    "    </p>\n",
    "</div>"
   ]
  },
  {
   "cell_type": "code",
   "execution_count": 30,
   "id": "9d5581aa",
   "metadata": {},
   "outputs": [],
   "source": [
    "br_data = pd.read_csv('brandwatch_data.csv',usecols=['Title', 'Sentiment', 'Emotion', 'Region', 'Gender', 'Impressions'])"
   ]
  },
  {
   "cell_type": "code",
   "execution_count": 31,
   "id": "52ac6463",
   "metadata": {},
   "outputs": [
    {
     "data": {
      "text/html": [
       "<div>\n",
       "<style scoped>\n",
       "    .dataframe tbody tr th:only-of-type {\n",
       "        vertical-align: middle;\n",
       "    }\n",
       "\n",
       "    .dataframe tbody tr th {\n",
       "        vertical-align: top;\n",
       "    }\n",
       "\n",
       "    .dataframe thead th {\n",
       "        text-align: right;\n",
       "    }\n",
       "</style>\n",
       "<table border=\"1\" class=\"dataframe\">\n",
       "  <thead>\n",
       "    <tr style=\"text-align: right;\">\n",
       "      <th></th>\n",
       "      <th>Title</th>\n",
       "      <th>Sentiment</th>\n",
       "      <th>Emotion</th>\n",
       "      <th>Region</th>\n",
       "      <th>Gender</th>\n",
       "      <th>Impressions</th>\n",
       "    </tr>\n",
       "  </thead>\n",
       "  <tbody>\n",
       "    <tr>\n",
       "      <th>0</th>\n",
       "      <td>@realest_lauren @KellyScaletta Close our borde...</td>\n",
       "      <td>negative</td>\n",
       "      <td>Anger</td>\n",
       "      <td>Florida</td>\n",
       "      <td>male</td>\n",
       "      <td>358</td>\n",
       "    </tr>\n",
       "    <tr>\n",
       "      <th>1</th>\n",
       "      <td>@wow36932525 Didn't Michael Herrera talk about...</td>\n",
       "      <td>negative</td>\n",
       "      <td>NaN</td>\n",
       "      <td>Oregon</td>\n",
       "      <td>unknown</td>\n",
       "      <td>280</td>\n",
       "    </tr>\n",
       "    <tr>\n",
       "      <th>2</th>\n",
       "      <td>@KatiePhang FOR ALL OF YOU ILLITERATE DUMMIES ...</td>\n",
       "      <td>negative</td>\n",
       "      <td>Joy</td>\n",
       "      <td>Texas</td>\n",
       "      <td>unknown</td>\n",
       "      <td>5</td>\n",
       "    </tr>\n",
       "    <tr>\n",
       "      <th>3</th>\n",
       "      <td>@vickiringer The border patrol couldn’t legall...</td>\n",
       "      <td>negative</td>\n",
       "      <td>Sadness</td>\n",
       "      <td>California</td>\n",
       "      <td>male</td>\n",
       "      <td>75</td>\n",
       "    </tr>\n",
       "    <tr>\n",
       "      <th>4</th>\n",
       "      <td>@tuszyb Another dumbed down individual. THIS H...</td>\n",
       "      <td>negative</td>\n",
       "      <td>NaN</td>\n",
       "      <td>Texas</td>\n",
       "      <td>unknown</td>\n",
       "      <td>5</td>\n",
       "    </tr>\n",
       "  </tbody>\n",
       "</table>\n",
       "</div>"
      ],
      "text/plain": [
       "                                               Title Sentiment  Emotion  \\\n",
       "0  @realest_lauren @KellyScaletta Close our borde...  negative    Anger   \n",
       "1  @wow36932525 Didn't Michael Herrera talk about...  negative      NaN   \n",
       "2  @KatiePhang FOR ALL OF YOU ILLITERATE DUMMIES ...  negative      Joy   \n",
       "3  @vickiringer The border patrol couldn’t legall...  negative  Sadness   \n",
       "4  @tuszyb Another dumbed down individual. THIS H...  negative      NaN   \n",
       "\n",
       "       Region   Gender  Impressions  \n",
       "0     Florida     male          358  \n",
       "1      Oregon  unknown          280  \n",
       "2       Texas  unknown            5  \n",
       "3  California     male           75  \n",
       "4       Texas  unknown            5  "
      ]
     },
     "execution_count": 31,
     "metadata": {},
     "output_type": "execute_result"
    }
   ],
   "source": [
    "br_data.head()"
   ]
  },
  {
   "cell_type": "code",
   "execution_count": 39,
   "id": "7af8e6f8",
   "metadata": {},
   "outputs": [
    {
     "data": {
      "text/plain": [
       "74630"
      ]
     },
     "execution_count": 39,
     "metadata": {},
     "output_type": "execute_result"
    }
   ],
   "source": [
    "texts = br_data['Title'].tolist()\n",
    "len(texts)"
   ]
  },
  {
   "cell_type": "code",
   "execution_count": 46,
   "id": "b0c6ea81",
   "metadata": {},
   "outputs": [
    {
     "name": "stderr",
     "output_type": "stream",
     "text": [
      "100%|█████████████████████████████████████| 74630/74630 [12:50<00:00, 96.82it/s]\n"
     ]
    },
    {
     "data": {
      "text/html": [
       "<div>\n",
       "<style scoped>\n",
       "    .dataframe tbody tr th:only-of-type {\n",
       "        vertical-align: middle;\n",
       "    }\n",
       "\n",
       "    .dataframe tbody tr th {\n",
       "        vertical-align: top;\n",
       "    }\n",
       "\n",
       "    .dataframe thead th {\n",
       "        text-align: right;\n",
       "    }\n",
       "</style>\n",
       "<table border=\"1\" class=\"dataframe\">\n",
       "  <thead>\n",
       "    <tr style=\"text-align: right;\">\n",
       "      <th></th>\n",
       "      <th>Title</th>\n",
       "      <th>Sentiment</th>\n",
       "      <th>Emotion</th>\n",
       "      <th>Region</th>\n",
       "      <th>Gender</th>\n",
       "      <th>Impressions</th>\n",
       "      <th>Prediction</th>\n",
       "    </tr>\n",
       "  </thead>\n",
       "  <tbody>\n",
       "    <tr>\n",
       "      <th>0</th>\n",
       "      <td>@realest_lauren @KellyScaletta Close our borde...</td>\n",
       "      <td>negative</td>\n",
       "      <td>Anger</td>\n",
       "      <td>Florida</td>\n",
       "      <td>male</td>\n",
       "      <td>358</td>\n",
       "      <td>ethnicity</td>\n",
       "    </tr>\n",
       "    <tr>\n",
       "      <th>1</th>\n",
       "      <td>@wow36932525 Didn't Michael Herrera talk about...</td>\n",
       "      <td>negative</td>\n",
       "      <td>NaN</td>\n",
       "      <td>Oregon</td>\n",
       "      <td>unknown</td>\n",
       "      <td>280</td>\n",
       "      <td>ethnicity</td>\n",
       "    </tr>\n",
       "    <tr>\n",
       "      <th>2</th>\n",
       "      <td>@KatiePhang FOR ALL OF YOU ILLITERATE DUMMIES ...</td>\n",
       "      <td>negative</td>\n",
       "      <td>Joy</td>\n",
       "      <td>Texas</td>\n",
       "      <td>unknown</td>\n",
       "      <td>5</td>\n",
       "      <td>ethnicity</td>\n",
       "    </tr>\n",
       "    <tr>\n",
       "      <th>3</th>\n",
       "      <td>@vickiringer The border patrol couldn’t legall...</td>\n",
       "      <td>negative</td>\n",
       "      <td>Sadness</td>\n",
       "      <td>California</td>\n",
       "      <td>male</td>\n",
       "      <td>75</td>\n",
       "      <td>not_cyberbullying</td>\n",
       "    </tr>\n",
       "    <tr>\n",
       "      <th>4</th>\n",
       "      <td>@tuszyb Another dumbed down individual. THIS H...</td>\n",
       "      <td>negative</td>\n",
       "      <td>NaN</td>\n",
       "      <td>Texas</td>\n",
       "      <td>unknown</td>\n",
       "      <td>5</td>\n",
       "      <td>ethnicity</td>\n",
       "    </tr>\n",
       "  </tbody>\n",
       "</table>\n",
       "</div>"
      ],
      "text/plain": [
       "                                               Title Sentiment  Emotion  \\\n",
       "0  @realest_lauren @KellyScaletta Close our borde...  negative    Anger   \n",
       "1  @wow36932525 Didn't Michael Herrera talk about...  negative      NaN   \n",
       "2  @KatiePhang FOR ALL OF YOU ILLITERATE DUMMIES ...  negative      Joy   \n",
       "3  @vickiringer The border patrol couldn’t legall...  negative  Sadness   \n",
       "4  @tuszyb Another dumbed down individual. THIS H...  negative      NaN   \n",
       "\n",
       "       Region   Gender  Impressions         Prediction  \n",
       "0     Florida     male          358          ethnicity  \n",
       "1      Oregon  unknown          280          ethnicity  \n",
       "2       Texas  unknown            5          ethnicity  \n",
       "3  California     male           75  not_cyberbullying  \n",
       "4       Texas  unknown            5          ethnicity  "
      ]
     },
     "execution_count": 46,
     "metadata": {},
     "output_type": "execute_result"
    }
   ],
   "source": [
    "from tqdm import tqdm  # For progress tracking\n",
    "\n",
    "# Define the batch size\n",
    "# batch_size = 32  # Adjust based on available memory and system capacity\n",
    "\n",
    "# Function to predict class for a batch\n",
    "def predict_class(text, model, tokenizer, device, classes, max_length=128):\n",
    "    model.eval()\n",
    "    encoding = tokenizer(text, return_tensors='pt', max_length=max_length, padding='max_length', truncation=True)\n",
    "    input_ids = encoding['input_ids'].to(device)\n",
    "    attention_mask = encoding['attention_mask'].to(device)\n",
    "\n",
    "    with torch.no_grad():\n",
    "        outputs = model(input_ids=input_ids, attention_mask=attention_mask)\n",
    "        _, preds = torch.max(outputs, dim=1)\n",
    "\n",
    "    return classes[preds.item()]\n",
    "\n",
    "# Prepare for batch processing\n",
    "texts = br_data['Title'].tolist()  # Convert the 'Title' column to a list\n",
    "predictions = []  # To store all predictions\n",
    "model.to(device)  # Move model to the specified device (e.g., 'cuda' or 'cpu')\n",
    "\n",
    "# Process in batches\n",
    "for i in tqdm(range(0, len(texts))):\n",
    "    pred = predict_class(texts[i], model, tokenizer, device, classes)\n",
    "    predictions.append(pred)  # Append predictions for the batch\n",
    "\n",
    "# Add predictions to the DataFrame\n",
    "br_data['Prediction'] = predictions\n",
    "\n",
    "# Display a sample of the updated DataFrame\n",
    "br_data.head()"
   ]
  },
  {
   "cell_type": "code",
   "execution_count": 47,
   "id": "c434bf6c",
   "metadata": {},
   "outputs": [],
   "source": [
    "br_data.to_csv(\"bert_brandwatch.csv\", index=False)"
   ]
  },
  {
   "cell_type": "code",
   "execution_count": null,
   "id": "2447af1a",
   "metadata": {},
   "outputs": [],
   "source": []
  }
 ],
 "metadata": {
  "accelerator": "GPU",
  "colab": {
   "gpuType": "T4",
   "provenance": []
  },
  "kaggle": {
   "accelerator": "gpu",
   "dataSources": [
    {
     "datasetId": 1869236,
     "sourceId": 3053020,
     "sourceType": "datasetVersion"
    }
   ],
   "dockerImageVersionId": 30636,
   "isGpuEnabled": true,
   "isInternetEnabled": true,
   "language": "python",
   "sourceType": "notebook"
  },
  "kernelspec": {
   "display_name": "Python 3 (ipykernel)",
   "language": "python",
   "name": "python3"
  },
  "language_info": {
   "codemirror_mode": {
    "name": "ipython",
    "version": 3
   },
   "file_extension": ".py",
   "mimetype": "text/x-python",
   "name": "python",
   "nbconvert_exporter": "python",
   "pygments_lexer": "ipython3",
   "version": "3.11.5"
  },
  "papermill": {
   "default_parameters": {},
   "duration": 2570.703296,
   "end_time": "2024-01-18T19:37:11.096114",
   "environment_variables": {},
   "exception": null,
   "input_path": "__notebook__.ipynb",
   "output_path": "__notebook__.ipynb",
   "parameters": {},
   "start_time": "2024-01-18T18:54:20.392818",
   "version": "2.4.0"
  },
  "widgets": {
   "application/vnd.jupyter.widget-state+json": {
    "state": {
     "0150d202676746528e78dba7ac13b4bd": {
      "model_module": "@jupyter-widgets/controls",
      "model_module_version": "1.5.0",
      "model_name": "ProgressStyleModel",
      "state": {
       "_model_module": "@jupyter-widgets/controls",
       "_model_module_version": "1.5.0",
       "_model_name": "ProgressStyleModel",
       "_view_count": null,
       "_view_module": "@jupyter-widgets/base",
       "_view_module_version": "1.2.0",
       "_view_name": "StyleView",
       "bar_color": null,
       "description_width": ""
      }
     },
     "05aca2eea8b147189a2bcff6bae18b1c": {
      "model_module": "@jupyter-widgets/controls",
      "model_module_version": "1.5.0",
      "model_name": "HTMLModel",
      "state": {
       "_dom_classes": [],
       "_model_module": "@jupyter-widgets/controls",
       "_model_module_version": "1.5.0",
       "_model_name": "HTMLModel",
       "_view_count": null,
       "_view_module": "@jupyter-widgets/controls",
       "_view_module_version": "1.5.0",
       "_view_name": "HTMLView",
       "description": "",
       "description_tooltip": null,
       "layout": "IPY_MODEL_c28f81b5b6e94216b1bac30791fb0639",
       "placeholder": "​",
       "style": "IPY_MODEL_12c6c5335fef46bb982ad8f1e675dbd5",
       "value": "config.json: 100%"
      }
     },
     "0c5b0230e8c44077b32fb4574d1ade20": {
      "model_module": "@jupyter-widgets/controls",
      "model_module_version": "1.5.0",
      "model_name": "HTMLModel",
      "state": {
       "_dom_classes": [],
       "_model_module": "@jupyter-widgets/controls",
       "_model_module_version": "1.5.0",
       "_model_name": "HTMLModel",
       "_view_count": null,
       "_view_module": "@jupyter-widgets/controls",
       "_view_module_version": "1.5.0",
       "_view_name": "HTMLView",
       "description": "",
       "description_tooltip": null,
       "layout": "IPY_MODEL_b4738ab7b93a4300a272c9b5d2ca695e",
       "placeholder": "​",
       "style": "IPY_MODEL_40bcbe69ec854608b7d4b117bf90b014",
       "value": "model.safetensors: 100%"
      }
     },
     "0e06b7cc2e4a40d2a6d1c2ccef5ac574": {
      "model_module": "@jupyter-widgets/controls",
      "model_module_version": "1.5.0",
      "model_name": "DescriptionStyleModel",
      "state": {
       "_model_module": "@jupyter-widgets/controls",
       "_model_module_version": "1.5.0",
       "_model_name": "DescriptionStyleModel",
       "_view_count": null,
       "_view_module": "@jupyter-widgets/base",
       "_view_module_version": "1.2.0",
       "_view_name": "StyleView",
       "description_width": ""
      }
     },
     "12c6c5335fef46bb982ad8f1e675dbd5": {
      "model_module": "@jupyter-widgets/controls",
      "model_module_version": "1.5.0",
      "model_name": "DescriptionStyleModel",
      "state": {
       "_model_module": "@jupyter-widgets/controls",
       "_model_module_version": "1.5.0",
       "_model_name": "DescriptionStyleModel",
       "_view_count": null,
       "_view_module": "@jupyter-widgets/base",
       "_view_module_version": "1.2.0",
       "_view_name": "StyleView",
       "description_width": ""
      }
     },
     "16ad80d93c644b5d96acf47778bdac2d": {
      "model_module": "@jupyter-widgets/controls",
      "model_module_version": "1.5.0",
      "model_name": "DescriptionStyleModel",
      "state": {
       "_model_module": "@jupyter-widgets/controls",
       "_model_module_version": "1.5.0",
       "_model_name": "DescriptionStyleModel",
       "_view_count": null,
       "_view_module": "@jupyter-widgets/base",
       "_view_module_version": "1.2.0",
       "_view_name": "StyleView",
       "description_width": ""
      }
     },
     "1c24f5ba7bc247c1acb70c2fff77989c": {
      "model_module": "@jupyter-widgets/controls",
      "model_module_version": "1.5.0",
      "model_name": "HBoxModel",
      "state": {
       "_dom_classes": [],
       "_model_module": "@jupyter-widgets/controls",
       "_model_module_version": "1.5.0",
       "_model_name": "HBoxModel",
       "_view_count": null,
       "_view_module": "@jupyter-widgets/controls",
       "_view_module_version": "1.5.0",
       "_view_name": "HBoxView",
       "box_style": "",
       "children": [
        "IPY_MODEL_f248a52a0cf64efe981e5b34ee3d760d",
        "IPY_MODEL_5489daf6c8f742b785c1c19d09eaad72",
        "IPY_MODEL_72d958bf0d32433da77dc9172a32d558"
       ],
       "layout": "IPY_MODEL_24726569124c44388217c5be097226fe"
      }
     },
     "20fb220cef384c7b9da63d2dc1823e49": {
      "model_module": "@jupyter-widgets/base",
      "model_module_version": "1.2.0",
      "model_name": "LayoutModel",
      "state": {
       "_model_module": "@jupyter-widgets/base",
       "_model_module_version": "1.2.0",
       "_model_name": "LayoutModel",
       "_view_count": null,
       "_view_module": "@jupyter-widgets/base",
       "_view_module_version": "1.2.0",
       "_view_name": "LayoutView",
       "align_content": null,
       "align_items": null,
       "align_self": null,
       "border": null,
       "bottom": null,
       "display": null,
       "flex": null,
       "flex_flow": null,
       "grid_area": null,
       "grid_auto_columns": null,
       "grid_auto_flow": null,
       "grid_auto_rows": null,
       "grid_column": null,
       "grid_gap": null,
       "grid_row": null,
       "grid_template_areas": null,
       "grid_template_columns": null,
       "grid_template_rows": null,
       "height": null,
       "justify_content": null,
       "justify_items": null,
       "left": null,
       "margin": null,
       "max_height": null,
       "max_width": null,
       "min_height": null,
       "min_width": null,
       "object_fit": null,
       "object_position": null,
       "order": null,
       "overflow": null,
       "overflow_x": null,
       "overflow_y": null,
       "padding": null,
       "right": null,
       "top": null,
       "visibility": null,
       "width": null
      }
     },
     "24726569124c44388217c5be097226fe": {
      "model_module": "@jupyter-widgets/base",
      "model_module_version": "1.2.0",
      "model_name": "LayoutModel",
      "state": {
       "_model_module": "@jupyter-widgets/base",
       "_model_module_version": "1.2.0",
       "_model_name": "LayoutModel",
       "_view_count": null,
       "_view_module": "@jupyter-widgets/base",
       "_view_module_version": "1.2.0",
       "_view_name": "LayoutView",
       "align_content": null,
       "align_items": null,
       "align_self": null,
       "border": null,
       "bottom": null,
       "display": null,
       "flex": null,
       "flex_flow": null,
       "grid_area": null,
       "grid_auto_columns": null,
       "grid_auto_flow": null,
       "grid_auto_rows": null,
       "grid_column": null,
       "grid_gap": null,
       "grid_row": null,
       "grid_template_areas": null,
       "grid_template_columns": null,
       "grid_template_rows": null,
       "height": null,
       "justify_content": null,
       "justify_items": null,
       "left": null,
       "margin": null,
       "max_height": null,
       "max_width": null,
       "min_height": null,
       "min_width": null,
       "object_fit": null,
       "object_position": null,
       "order": null,
       "overflow": null,
       "overflow_x": null,
       "overflow_y": null,
       "padding": null,
       "right": null,
       "top": null,
       "visibility": null,
       "width": null
      }
     },
     "268f029e86ac49dd80ae1ead96846492": {
      "model_module": "@jupyter-widgets/controls",
      "model_module_version": "1.5.0",
      "model_name": "HBoxModel",
      "state": {
       "_dom_classes": [],
       "_model_module": "@jupyter-widgets/controls",
       "_model_module_version": "1.5.0",
       "_model_name": "HBoxModel",
       "_view_count": null,
       "_view_module": "@jupyter-widgets/controls",
       "_view_module_version": "1.5.0",
       "_view_name": "HBoxView",
       "box_style": "",
       "children": [
        "IPY_MODEL_69d1af85810e47dea0051c4a27a7e73b",
        "IPY_MODEL_8ac8701c13cf4ab3b1f4bcc9b7a7cba7",
        "IPY_MODEL_39cff13445c249dfbda6e0b6ce7ef975"
       ],
       "layout": "IPY_MODEL_a09e92978b344000a9ecf327d580f775"
      }
     },
     "275d67fc951a4cf986338d250864939c": {
      "model_module": "@jupyter-widgets/base",
      "model_module_version": "1.2.0",
      "model_name": "LayoutModel",
      "state": {
       "_model_module": "@jupyter-widgets/base",
       "_model_module_version": "1.2.0",
       "_model_name": "LayoutModel",
       "_view_count": null,
       "_view_module": "@jupyter-widgets/base",
       "_view_module_version": "1.2.0",
       "_view_name": "LayoutView",
       "align_content": null,
       "align_items": null,
       "align_self": null,
       "border": null,
       "bottom": null,
       "display": null,
       "flex": null,
       "flex_flow": null,
       "grid_area": null,
       "grid_auto_columns": null,
       "grid_auto_flow": null,
       "grid_auto_rows": null,
       "grid_column": null,
       "grid_gap": null,
       "grid_row": null,
       "grid_template_areas": null,
       "grid_template_columns": null,
       "grid_template_rows": null,
       "height": null,
       "justify_content": null,
       "justify_items": null,
       "left": null,
       "margin": null,
       "max_height": null,
       "max_width": null,
       "min_height": null,
       "min_width": null,
       "object_fit": null,
       "object_position": null,
       "order": null,
       "overflow": null,
       "overflow_x": null,
       "overflow_y": null,
       "padding": null,
       "right": null,
       "top": null,
       "visibility": null,
       "width": null
      }
     },
     "2d09d03f18d54e258ff7ab91b225649a": {
      "model_module": "@jupyter-widgets/base",
      "model_module_version": "1.2.0",
      "model_name": "LayoutModel",
      "state": {
       "_model_module": "@jupyter-widgets/base",
       "_model_module_version": "1.2.0",
       "_model_name": "LayoutModel",
       "_view_count": null,
       "_view_module": "@jupyter-widgets/base",
       "_view_module_version": "1.2.0",
       "_view_name": "LayoutView",
       "align_content": null,
       "align_items": null,
       "align_self": null,
       "border": null,
       "bottom": null,
       "display": null,
       "flex": null,
       "flex_flow": null,
       "grid_area": null,
       "grid_auto_columns": null,
       "grid_auto_flow": null,
       "grid_auto_rows": null,
       "grid_column": null,
       "grid_gap": null,
       "grid_row": null,
       "grid_template_areas": null,
       "grid_template_columns": null,
       "grid_template_rows": null,
       "height": null,
       "justify_content": null,
       "justify_items": null,
       "left": null,
       "margin": null,
       "max_height": null,
       "max_width": null,
       "min_height": null,
       "min_width": null,
       "object_fit": null,
       "object_position": null,
       "order": null,
       "overflow": null,
       "overflow_x": null,
       "overflow_y": null,
       "padding": null,
       "right": null,
       "top": null,
       "visibility": null,
       "width": null
      }
     },
     "309b6e2a7e994e1e94d8b70faff8cbd7": {
      "model_module": "@jupyter-widgets/controls",
      "model_module_version": "1.5.0",
      "model_name": "FloatProgressModel",
      "state": {
       "_dom_classes": [],
       "_model_module": "@jupyter-widgets/controls",
       "_model_module_version": "1.5.0",
       "_model_name": "FloatProgressModel",
       "_view_count": null,
       "_view_module": "@jupyter-widgets/controls",
       "_view_module_version": "1.5.0",
       "_view_name": "ProgressView",
       "bar_style": "success",
       "description": "",
       "description_tooltip": null,
       "layout": "IPY_MODEL_275d67fc951a4cf986338d250864939c",
       "max": 570,
       "min": 0,
       "orientation": "horizontal",
       "style": "IPY_MODEL_320d102341964034b0e500061a2296d7",
       "value": 570
      }
     },
     "320d102341964034b0e500061a2296d7": {
      "model_module": "@jupyter-widgets/controls",
      "model_module_version": "1.5.0",
      "model_name": "ProgressStyleModel",
      "state": {
       "_model_module": "@jupyter-widgets/controls",
       "_model_module_version": "1.5.0",
       "_model_name": "ProgressStyleModel",
       "_view_count": null,
       "_view_module": "@jupyter-widgets/base",
       "_view_module_version": "1.2.0",
       "_view_name": "StyleView",
       "bar_color": null,
       "description_width": ""
      }
     },
     "378b854ce2ce494d9885d136bb81551a": {
      "model_module": "@jupyter-widgets/base",
      "model_module_version": "1.2.0",
      "model_name": "LayoutModel",
      "state": {
       "_model_module": "@jupyter-widgets/base",
       "_model_module_version": "1.2.0",
       "_model_name": "LayoutModel",
       "_view_count": null,
       "_view_module": "@jupyter-widgets/base",
       "_view_module_version": "1.2.0",
       "_view_name": "LayoutView",
       "align_content": null,
       "align_items": null,
       "align_self": null,
       "border": null,
       "bottom": null,
       "display": null,
       "flex": null,
       "flex_flow": null,
       "grid_area": null,
       "grid_auto_columns": null,
       "grid_auto_flow": null,
       "grid_auto_rows": null,
       "grid_column": null,
       "grid_gap": null,
       "grid_row": null,
       "grid_template_areas": null,
       "grid_template_columns": null,
       "grid_template_rows": null,
       "height": null,
       "justify_content": null,
       "justify_items": null,
       "left": null,
       "margin": null,
       "max_height": null,
       "max_width": null,
       "min_height": null,
       "min_width": null,
       "object_fit": null,
       "object_position": null,
       "order": null,
       "overflow": null,
       "overflow_x": null,
       "overflow_y": null,
       "padding": null,
       "right": null,
       "top": null,
       "visibility": null,
       "width": null
      }
     },
     "3914cc389ce14067ba8b0d705efeb069": {
      "model_module": "@jupyter-widgets/controls",
      "model_module_version": "1.5.0",
      "model_name": "HTMLModel",
      "state": {
       "_dom_classes": [],
       "_model_module": "@jupyter-widgets/controls",
       "_model_module_version": "1.5.0",
       "_model_name": "HTMLModel",
       "_view_count": null,
       "_view_module": "@jupyter-widgets/controls",
       "_view_module_version": "1.5.0",
       "_view_name": "HTMLView",
       "description": "",
       "description_tooltip": null,
       "layout": "IPY_MODEL_bdc80b4ed9434a88900ddc5886fa7036",
       "placeholder": "​",
       "style": "IPY_MODEL_6716fa8f3b11499190fc4351335215dd",
       "value": " 440M/440M [00:02&lt;00:00, 217MB/s]"
      }
     },
     "39cff13445c249dfbda6e0b6ce7ef975": {
      "model_module": "@jupyter-widgets/controls",
      "model_module_version": "1.5.0",
      "model_name": "HTMLModel",
      "state": {
       "_dom_classes": [],
       "_model_module": "@jupyter-widgets/controls",
       "_model_module_version": "1.5.0",
       "_model_name": "HTMLModel",
       "_view_count": null,
       "_view_module": "@jupyter-widgets/controls",
       "_view_module_version": "1.5.0",
       "_view_name": "HTMLView",
       "description": "",
       "description_tooltip": null,
       "layout": "IPY_MODEL_5da9d79576754c0d80da7931efc3c01b",
       "placeholder": "​",
       "style": "IPY_MODEL_a8b5874a25eb4b489bdfa2a4b708c7b6",
       "value": " 232k/232k [00:00&lt;00:00, 5.02MB/s]"
      }
     },
     "3f6d23bfbc1e40a49cfacbc8623c95ca": {
      "model_module": "@jupyter-widgets/base",
      "model_module_version": "1.2.0",
      "model_name": "LayoutModel",
      "state": {
       "_model_module": "@jupyter-widgets/base",
       "_model_module_version": "1.2.0",
       "_model_name": "LayoutModel",
       "_view_count": null,
       "_view_module": "@jupyter-widgets/base",
       "_view_module_version": "1.2.0",
       "_view_name": "LayoutView",
       "align_content": null,
       "align_items": null,
       "align_self": null,
       "border": null,
       "bottom": null,
       "display": null,
       "flex": null,
       "flex_flow": null,
       "grid_area": null,
       "grid_auto_columns": null,
       "grid_auto_flow": null,
       "grid_auto_rows": null,
       "grid_column": null,
       "grid_gap": null,
       "grid_row": null,
       "grid_template_areas": null,
       "grid_template_columns": null,
       "grid_template_rows": null,
       "height": null,
       "justify_content": null,
       "justify_items": null,
       "left": null,
       "margin": null,
       "max_height": null,
       "max_width": null,
       "min_height": null,
       "min_width": null,
       "object_fit": null,
       "object_position": null,
       "order": null,
       "overflow": null,
       "overflow_x": null,
       "overflow_y": null,
       "padding": null,
       "right": null,
       "top": null,
       "visibility": null,
       "width": null
      }
     },
     "40bcbe69ec854608b7d4b117bf90b014": {
      "model_module": "@jupyter-widgets/controls",
      "model_module_version": "1.5.0",
      "model_name": "DescriptionStyleModel",
      "state": {
       "_model_module": "@jupyter-widgets/controls",
       "_model_module_version": "1.5.0",
       "_model_name": "DescriptionStyleModel",
       "_view_count": null,
       "_view_module": "@jupyter-widgets/base",
       "_view_module_version": "1.2.0",
       "_view_name": "StyleView",
       "description_width": ""
      }
     },
     "4f383aea86324315b69716f329fdbb58": {
      "model_module": "@jupyter-widgets/base",
      "model_module_version": "1.2.0",
      "model_name": "LayoutModel",
      "state": {
       "_model_module": "@jupyter-widgets/base",
       "_model_module_version": "1.2.0",
       "_model_name": "LayoutModel",
       "_view_count": null,
       "_view_module": "@jupyter-widgets/base",
       "_view_module_version": "1.2.0",
       "_view_name": "LayoutView",
       "align_content": null,
       "align_items": null,
       "align_self": null,
       "border": null,
       "bottom": null,
       "display": null,
       "flex": null,
       "flex_flow": null,
       "grid_area": null,
       "grid_auto_columns": null,
       "grid_auto_flow": null,
       "grid_auto_rows": null,
       "grid_column": null,
       "grid_gap": null,
       "grid_row": null,
       "grid_template_areas": null,
       "grid_template_columns": null,
       "grid_template_rows": null,
       "height": null,
       "justify_content": null,
       "justify_items": null,
       "left": null,
       "margin": null,
       "max_height": null,
       "max_width": null,
       "min_height": null,
       "min_width": null,
       "object_fit": null,
       "object_position": null,
       "order": null,
       "overflow": null,
       "overflow_x": null,
       "overflow_y": null,
       "padding": null,
       "right": null,
       "top": null,
       "visibility": null,
       "width": null
      }
     },
     "5489daf6c8f742b785c1c19d09eaad72": {
      "model_module": "@jupyter-widgets/controls",
      "model_module_version": "1.5.0",
      "model_name": "FloatProgressModel",
      "state": {
       "_dom_classes": [],
       "_model_module": "@jupyter-widgets/controls",
       "_model_module_version": "1.5.0",
       "_model_name": "FloatProgressModel",
       "_view_count": null,
       "_view_module": "@jupyter-widgets/controls",
       "_view_module_version": "1.5.0",
       "_view_name": "ProgressView",
       "bar_style": "success",
       "description": "",
       "description_tooltip": null,
       "layout": "IPY_MODEL_3f6d23bfbc1e40a49cfacbc8623c95ca",
       "max": 466062,
       "min": 0,
       "orientation": "horizontal",
       "style": "IPY_MODEL_8b539d6b74584e4798ae3258a7cba185",
       "value": 466062
      }
     },
     "5da9d79576754c0d80da7931efc3c01b": {
      "model_module": "@jupyter-widgets/base",
      "model_module_version": "1.2.0",
      "model_name": "LayoutModel",
      "state": {
       "_model_module": "@jupyter-widgets/base",
       "_model_module_version": "1.2.0",
       "_model_name": "LayoutModel",
       "_view_count": null,
       "_view_module": "@jupyter-widgets/base",
       "_view_module_version": "1.2.0",
       "_view_name": "LayoutView",
       "align_content": null,
       "align_items": null,
       "align_self": null,
       "border": null,
       "bottom": null,
       "display": null,
       "flex": null,
       "flex_flow": null,
       "grid_area": null,
       "grid_auto_columns": null,
       "grid_auto_flow": null,
       "grid_auto_rows": null,
       "grid_column": null,
       "grid_gap": null,
       "grid_row": null,
       "grid_template_areas": null,
       "grid_template_columns": null,
       "grid_template_rows": null,
       "height": null,
       "justify_content": null,
       "justify_items": null,
       "left": null,
       "margin": null,
       "max_height": null,
       "max_width": null,
       "min_height": null,
       "min_width": null,
       "object_fit": null,
       "object_position": null,
       "order": null,
       "overflow": null,
       "overflow_x": null,
       "overflow_y": null,
       "padding": null,
       "right": null,
       "top": null,
       "visibility": null,
       "width": null
      }
     },
     "612511b75e904e04ad12b28eb76663ef": {
      "model_module": "@jupyter-widgets/controls",
      "model_module_version": "1.5.0",
      "model_name": "FloatProgressModel",
      "state": {
       "_dom_classes": [],
       "_model_module": "@jupyter-widgets/controls",
       "_model_module_version": "1.5.0",
       "_model_name": "FloatProgressModel",
       "_view_count": null,
       "_view_module": "@jupyter-widgets/controls",
       "_view_module_version": "1.5.0",
       "_view_name": "ProgressView",
       "bar_style": "success",
       "description": "",
       "description_tooltip": null,
       "layout": "IPY_MODEL_810842b727a04c70b94dedd18a874f2f",
       "max": 440449768,
       "min": 0,
       "orientation": "horizontal",
       "style": "IPY_MODEL_0150d202676746528e78dba7ac13b4bd",
       "value": 440449768
      }
     },
     "6716fa8f3b11499190fc4351335215dd": {
      "model_module": "@jupyter-widgets/controls",
      "model_module_version": "1.5.0",
      "model_name": "DescriptionStyleModel",
      "state": {
       "_model_module": "@jupyter-widgets/controls",
       "_model_module_version": "1.5.0",
       "_model_name": "DescriptionStyleModel",
       "_view_count": null,
       "_view_module": "@jupyter-widgets/base",
       "_view_module_version": "1.2.0",
       "_view_name": "StyleView",
       "description_width": ""
      }
     },
     "69d1af85810e47dea0051c4a27a7e73b": {
      "model_module": "@jupyter-widgets/controls",
      "model_module_version": "1.5.0",
      "model_name": "HTMLModel",
      "state": {
       "_dom_classes": [],
       "_model_module": "@jupyter-widgets/controls",
       "_model_module_version": "1.5.0",
       "_model_name": "HTMLModel",
       "_view_count": null,
       "_view_module": "@jupyter-widgets/controls",
       "_view_module_version": "1.5.0",
       "_view_name": "HTMLView",
       "description": "",
       "description_tooltip": null,
       "layout": "IPY_MODEL_dd75af6b539a42648c623303bb3db516",
       "placeholder": "​",
       "style": "IPY_MODEL_ab42b3b73d1f4f168842fe0642fd6420",
       "value": "vocab.txt: 100%"
      }
     },
     "6dbeb417bc6c4276aac7d4ad79dea065": {
      "model_module": "@jupyter-widgets/base",
      "model_module_version": "1.2.0",
      "model_name": "LayoutModel",
      "state": {
       "_model_module": "@jupyter-widgets/base",
       "_model_module_version": "1.2.0",
       "_model_name": "LayoutModel",
       "_view_count": null,
       "_view_module": "@jupyter-widgets/base",
       "_view_module_version": "1.2.0",
       "_view_name": "LayoutView",
       "align_content": null,
       "align_items": null,
       "align_self": null,
       "border": null,
       "bottom": null,
       "display": null,
       "flex": null,
       "flex_flow": null,
       "grid_area": null,
       "grid_auto_columns": null,
       "grid_auto_flow": null,
       "grid_auto_rows": null,
       "grid_column": null,
       "grid_gap": null,
       "grid_row": null,
       "grid_template_areas": null,
       "grid_template_columns": null,
       "grid_template_rows": null,
       "height": null,
       "justify_content": null,
       "justify_items": null,
       "left": null,
       "margin": null,
       "max_height": null,
       "max_width": null,
       "min_height": null,
       "min_width": null,
       "object_fit": null,
       "object_position": null,
       "order": null,
       "overflow": null,
       "overflow_x": null,
       "overflow_y": null,
       "padding": null,
       "right": null,
       "top": null,
       "visibility": null,
       "width": null
      }
     },
     "712b6767cad7490b96df136986f12b08": {
      "model_module": "@jupyter-widgets/controls",
      "model_module_version": "1.5.0",
      "model_name": "DescriptionStyleModel",
      "state": {
       "_model_module": "@jupyter-widgets/controls",
       "_model_module_version": "1.5.0",
       "_model_name": "DescriptionStyleModel",
       "_view_count": null,
       "_view_module": "@jupyter-widgets/base",
       "_view_module_version": "1.2.0",
       "_view_name": "StyleView",
       "description_width": ""
      }
     },
     "72d958bf0d32433da77dc9172a32d558": {
      "model_module": "@jupyter-widgets/controls",
      "model_module_version": "1.5.0",
      "model_name": "HTMLModel",
      "state": {
       "_dom_classes": [],
       "_model_module": "@jupyter-widgets/controls",
       "_model_module_version": "1.5.0",
       "_model_name": "HTMLModel",
       "_view_count": null,
       "_view_module": "@jupyter-widgets/controls",
       "_view_module_version": "1.5.0",
       "_view_name": "HTMLView",
       "description": "",
       "description_tooltip": null,
       "layout": "IPY_MODEL_d294df4dcb3945fbaa27d42f4f9c5aa3",
       "placeholder": "​",
       "style": "IPY_MODEL_712b6767cad7490b96df136986f12b08",
       "value": " 466k/466k [00:00&lt;00:00, 10.4MB/s]"
      }
     },
     "74b40d9858864c788192e23e1256a1db": {
      "model_module": "@jupyter-widgets/controls",
      "model_module_version": "1.5.0",
      "model_name": "HBoxModel",
      "state": {
       "_dom_classes": [],
       "_model_module": "@jupyter-widgets/controls",
       "_model_module_version": "1.5.0",
       "_model_name": "HBoxModel",
       "_view_count": null,
       "_view_module": "@jupyter-widgets/controls",
       "_view_module_version": "1.5.0",
       "_view_name": "HBoxView",
       "box_style": "",
       "children": [
        "IPY_MODEL_05aca2eea8b147189a2bcff6bae18b1c",
        "IPY_MODEL_309b6e2a7e994e1e94d8b70faff8cbd7",
        "IPY_MODEL_c819a6e17f114875b86afc7521a77df3"
       ],
       "layout": "IPY_MODEL_6dbeb417bc6c4276aac7d4ad79dea065"
      }
     },
     "7da2479d786a49dd8d7a7a76b46d4fb8": {
      "model_module": "@jupyter-widgets/controls",
      "model_module_version": "1.5.0",
      "model_name": "ProgressStyleModel",
      "state": {
       "_model_module": "@jupyter-widgets/controls",
       "_model_module_version": "1.5.0",
       "_model_name": "ProgressStyleModel",
       "_view_count": null,
       "_view_module": "@jupyter-widgets/base",
       "_view_module_version": "1.2.0",
       "_view_name": "StyleView",
       "bar_color": null,
       "description_width": ""
      }
     },
     "810842b727a04c70b94dedd18a874f2f": {
      "model_module": "@jupyter-widgets/base",
      "model_module_version": "1.2.0",
      "model_name": "LayoutModel",
      "state": {
       "_model_module": "@jupyter-widgets/base",
       "_model_module_version": "1.2.0",
       "_model_name": "LayoutModel",
       "_view_count": null,
       "_view_module": "@jupyter-widgets/base",
       "_view_module_version": "1.2.0",
       "_view_name": "LayoutView",
       "align_content": null,
       "align_items": null,
       "align_self": null,
       "border": null,
       "bottom": null,
       "display": null,
       "flex": null,
       "flex_flow": null,
       "grid_area": null,
       "grid_auto_columns": null,
       "grid_auto_flow": null,
       "grid_auto_rows": null,
       "grid_column": null,
       "grid_gap": null,
       "grid_row": null,
       "grid_template_areas": null,
       "grid_template_columns": null,
       "grid_template_rows": null,
       "height": null,
       "justify_content": null,
       "justify_items": null,
       "left": null,
       "margin": null,
       "max_height": null,
       "max_width": null,
       "min_height": null,
       "min_width": null,
       "object_fit": null,
       "object_position": null,
       "order": null,
       "overflow": null,
       "overflow_x": null,
       "overflow_y": null,
       "padding": null,
       "right": null,
       "top": null,
       "visibility": null,
       "width": null
      }
     },
     "837010a2590844e0b3f1c380b7ac87b6": {
      "model_module": "@jupyter-widgets/controls",
      "model_module_version": "1.5.0",
      "model_name": "DescriptionStyleModel",
      "state": {
       "_model_module": "@jupyter-widgets/controls",
       "_model_module_version": "1.5.0",
       "_model_name": "DescriptionStyleModel",
       "_view_count": null,
       "_view_module": "@jupyter-widgets/base",
       "_view_module_version": "1.2.0",
       "_view_name": "StyleView",
       "description_width": ""
      }
     },
     "8ac8701c13cf4ab3b1f4bcc9b7a7cba7": {
      "model_module": "@jupyter-widgets/controls",
      "model_module_version": "1.5.0",
      "model_name": "FloatProgressModel",
      "state": {
       "_dom_classes": [],
       "_model_module": "@jupyter-widgets/controls",
       "_model_module_version": "1.5.0",
       "_model_name": "FloatProgressModel",
       "_view_count": null,
       "_view_module": "@jupyter-widgets/controls",
       "_view_module_version": "1.5.0",
       "_view_name": "ProgressView",
       "bar_style": "success",
       "description": "",
       "description_tooltip": null,
       "layout": "IPY_MODEL_a4a3b02ea3a847cf9a1b4e7affa3fc3f",
       "max": 231508,
       "min": 0,
       "orientation": "horizontal",
       "style": "IPY_MODEL_f7d569649276493db9ba18c02ead5399",
       "value": 231508
      }
     },
     "8b539d6b74584e4798ae3258a7cba185": {
      "model_module": "@jupyter-widgets/controls",
      "model_module_version": "1.5.0",
      "model_name": "ProgressStyleModel",
      "state": {
       "_model_module": "@jupyter-widgets/controls",
       "_model_module_version": "1.5.0",
       "_model_name": "ProgressStyleModel",
       "_view_count": null,
       "_view_module": "@jupyter-widgets/base",
       "_view_module_version": "1.2.0",
       "_view_name": "StyleView",
       "bar_color": null,
       "description_width": ""
      }
     },
     "8d1271f54262447ebc49ec4921ed8f7c": {
      "model_module": "@jupyter-widgets/base",
      "model_module_version": "1.2.0",
      "model_name": "LayoutModel",
      "state": {
       "_model_module": "@jupyter-widgets/base",
       "_model_module_version": "1.2.0",
       "_model_name": "LayoutModel",
       "_view_count": null,
       "_view_module": "@jupyter-widgets/base",
       "_view_module_version": "1.2.0",
       "_view_name": "LayoutView",
       "align_content": null,
       "align_items": null,
       "align_self": null,
       "border": null,
       "bottom": null,
       "display": null,
       "flex": null,
       "flex_flow": null,
       "grid_area": null,
       "grid_auto_columns": null,
       "grid_auto_flow": null,
       "grid_auto_rows": null,
       "grid_column": null,
       "grid_gap": null,
       "grid_row": null,
       "grid_template_areas": null,
       "grid_template_columns": null,
       "grid_template_rows": null,
       "height": null,
       "justify_content": null,
       "justify_items": null,
       "left": null,
       "margin": null,
       "max_height": null,
       "max_width": null,
       "min_height": null,
       "min_width": null,
       "object_fit": null,
       "object_position": null,
       "order": null,
       "overflow": null,
       "overflow_x": null,
       "overflow_y": null,
       "padding": null,
       "right": null,
       "top": null,
       "visibility": null,
       "width": null
      }
     },
     "9a751d420da74b56ab9301ac6d9af7d7": {
      "model_module": "@jupyter-widgets/controls",
      "model_module_version": "1.5.0",
      "model_name": "DescriptionStyleModel",
      "state": {
       "_model_module": "@jupyter-widgets/controls",
       "_model_module_version": "1.5.0",
       "_model_name": "DescriptionStyleModel",
       "_view_count": null,
       "_view_module": "@jupyter-widgets/base",
       "_view_module_version": "1.2.0",
       "_view_name": "StyleView",
       "description_width": ""
      }
     },
     "a09e92978b344000a9ecf327d580f775": {
      "model_module": "@jupyter-widgets/base",
      "model_module_version": "1.2.0",
      "model_name": "LayoutModel",
      "state": {
       "_model_module": "@jupyter-widgets/base",
       "_model_module_version": "1.2.0",
       "_model_name": "LayoutModel",
       "_view_count": null,
       "_view_module": "@jupyter-widgets/base",
       "_view_module_version": "1.2.0",
       "_view_name": "LayoutView",
       "align_content": null,
       "align_items": null,
       "align_self": null,
       "border": null,
       "bottom": null,
       "display": null,
       "flex": null,
       "flex_flow": null,
       "grid_area": null,
       "grid_auto_columns": null,
       "grid_auto_flow": null,
       "grid_auto_rows": null,
       "grid_column": null,
       "grid_gap": null,
       "grid_row": null,
       "grid_template_areas": null,
       "grid_template_columns": null,
       "grid_template_rows": null,
       "height": null,
       "justify_content": null,
       "justify_items": null,
       "left": null,
       "margin": null,
       "max_height": null,
       "max_width": null,
       "min_height": null,
       "min_width": null,
       "object_fit": null,
       "object_position": null,
       "order": null,
       "overflow": null,
       "overflow_x": null,
       "overflow_y": null,
       "padding": null,
       "right": null,
       "top": null,
       "visibility": null,
       "width": null
      }
     },
     "a258528ab58248e7aef65dbb0bb928b3": {
      "model_module": "@jupyter-widgets/controls",
      "model_module_version": "1.5.0",
      "model_name": "HBoxModel",
      "state": {
       "_dom_classes": [],
       "_model_module": "@jupyter-widgets/controls",
       "_model_module_version": "1.5.0",
       "_model_name": "HBoxModel",
       "_view_count": null,
       "_view_module": "@jupyter-widgets/controls",
       "_view_module_version": "1.5.0",
       "_view_name": "HBoxView",
       "box_style": "",
       "children": [
        "IPY_MODEL_ef7b64ba8f004e64ac87e5a15da46883",
        "IPY_MODEL_b48dc2c0dd744016826d6e8016eebee4",
        "IPY_MODEL_e2d7ea5437874aa084da2e829ffc0690"
       ],
       "layout": "IPY_MODEL_2d09d03f18d54e258ff7ab91b225649a"
      }
     },
     "a4a3b02ea3a847cf9a1b4e7affa3fc3f": {
      "model_module": "@jupyter-widgets/base",
      "model_module_version": "1.2.0",
      "model_name": "LayoutModel",
      "state": {
       "_model_module": "@jupyter-widgets/base",
       "_model_module_version": "1.2.0",
       "_model_name": "LayoutModel",
       "_view_count": null,
       "_view_module": "@jupyter-widgets/base",
       "_view_module_version": "1.2.0",
       "_view_name": "LayoutView",
       "align_content": null,
       "align_items": null,
       "align_self": null,
       "border": null,
       "bottom": null,
       "display": null,
       "flex": null,
       "flex_flow": null,
       "grid_area": null,
       "grid_auto_columns": null,
       "grid_auto_flow": null,
       "grid_auto_rows": null,
       "grid_column": null,
       "grid_gap": null,
       "grid_row": null,
       "grid_template_areas": null,
       "grid_template_columns": null,
       "grid_template_rows": null,
       "height": null,
       "justify_content": null,
       "justify_items": null,
       "left": null,
       "margin": null,
       "max_height": null,
       "max_width": null,
       "min_height": null,
       "min_width": null,
       "object_fit": null,
       "object_position": null,
       "order": null,
       "overflow": null,
       "overflow_x": null,
       "overflow_y": null,
       "padding": null,
       "right": null,
       "top": null,
       "visibility": null,
       "width": null
      }
     },
     "a8b5874a25eb4b489bdfa2a4b708c7b6": {
      "model_module": "@jupyter-widgets/controls",
      "model_module_version": "1.5.0",
      "model_name": "DescriptionStyleModel",
      "state": {
       "_model_module": "@jupyter-widgets/controls",
       "_model_module_version": "1.5.0",
       "_model_name": "DescriptionStyleModel",
       "_view_count": null,
       "_view_module": "@jupyter-widgets/base",
       "_view_module_version": "1.2.0",
       "_view_name": "StyleView",
       "description_width": ""
      }
     },
     "ab42b3b73d1f4f168842fe0642fd6420": {
      "model_module": "@jupyter-widgets/controls",
      "model_module_version": "1.5.0",
      "model_name": "DescriptionStyleModel",
      "state": {
       "_model_module": "@jupyter-widgets/controls",
       "_model_module_version": "1.5.0",
       "_model_name": "DescriptionStyleModel",
       "_view_count": null,
       "_view_module": "@jupyter-widgets/base",
       "_view_module_version": "1.2.0",
       "_view_name": "StyleView",
       "description_width": ""
      }
     },
     "b4738ab7b93a4300a272c9b5d2ca695e": {
      "model_module": "@jupyter-widgets/base",
      "model_module_version": "1.2.0",
      "model_name": "LayoutModel",
      "state": {
       "_model_module": "@jupyter-widgets/base",
       "_model_module_version": "1.2.0",
       "_model_name": "LayoutModel",
       "_view_count": null,
       "_view_module": "@jupyter-widgets/base",
       "_view_module_version": "1.2.0",
       "_view_name": "LayoutView",
       "align_content": null,
       "align_items": null,
       "align_self": null,
       "border": null,
       "bottom": null,
       "display": null,
       "flex": null,
       "flex_flow": null,
       "grid_area": null,
       "grid_auto_columns": null,
       "grid_auto_flow": null,
       "grid_auto_rows": null,
       "grid_column": null,
       "grid_gap": null,
       "grid_row": null,
       "grid_template_areas": null,
       "grid_template_columns": null,
       "grid_template_rows": null,
       "height": null,
       "justify_content": null,
       "justify_items": null,
       "left": null,
       "margin": null,
       "max_height": null,
       "max_width": null,
       "min_height": null,
       "min_width": null,
       "object_fit": null,
       "object_position": null,
       "order": null,
       "overflow": null,
       "overflow_x": null,
       "overflow_y": null,
       "padding": null,
       "right": null,
       "top": null,
       "visibility": null,
       "width": null
      }
     },
     "b48dc2c0dd744016826d6e8016eebee4": {
      "model_module": "@jupyter-widgets/controls",
      "model_module_version": "1.5.0",
      "model_name": "FloatProgressModel",
      "state": {
       "_dom_classes": [],
       "_model_module": "@jupyter-widgets/controls",
       "_model_module_version": "1.5.0",
       "_model_name": "FloatProgressModel",
       "_view_count": null,
       "_view_module": "@jupyter-widgets/controls",
       "_view_module_version": "1.5.0",
       "_view_name": "ProgressView",
       "bar_style": "success",
       "description": "",
       "description_tooltip": null,
       "layout": "IPY_MODEL_4f383aea86324315b69716f329fdbb58",
       "max": 28,
       "min": 0,
       "orientation": "horizontal",
       "style": "IPY_MODEL_7da2479d786a49dd8d7a7a76b46d4fb8",
       "value": 28
      }
     },
     "bdc80b4ed9434a88900ddc5886fa7036": {
      "model_module": "@jupyter-widgets/base",
      "model_module_version": "1.2.0",
      "model_name": "LayoutModel",
      "state": {
       "_model_module": "@jupyter-widgets/base",
       "_model_module_version": "1.2.0",
       "_model_name": "LayoutModel",
       "_view_count": null,
       "_view_module": "@jupyter-widgets/base",
       "_view_module_version": "1.2.0",
       "_view_name": "LayoutView",
       "align_content": null,
       "align_items": null,
       "align_self": null,
       "border": null,
       "bottom": null,
       "display": null,
       "flex": null,
       "flex_flow": null,
       "grid_area": null,
       "grid_auto_columns": null,
       "grid_auto_flow": null,
       "grid_auto_rows": null,
       "grid_column": null,
       "grid_gap": null,
       "grid_row": null,
       "grid_template_areas": null,
       "grid_template_columns": null,
       "grid_template_rows": null,
       "height": null,
       "justify_content": null,
       "justify_items": null,
       "left": null,
       "margin": null,
       "max_height": null,
       "max_width": null,
       "min_height": null,
       "min_width": null,
       "object_fit": null,
       "object_position": null,
       "order": null,
       "overflow": null,
       "overflow_x": null,
       "overflow_y": null,
       "padding": null,
       "right": null,
       "top": null,
       "visibility": null,
       "width": null
      }
     },
     "c28f81b5b6e94216b1bac30791fb0639": {
      "model_module": "@jupyter-widgets/base",
      "model_module_version": "1.2.0",
      "model_name": "LayoutModel",
      "state": {
       "_model_module": "@jupyter-widgets/base",
       "_model_module_version": "1.2.0",
       "_model_name": "LayoutModel",
       "_view_count": null,
       "_view_module": "@jupyter-widgets/base",
       "_view_module_version": "1.2.0",
       "_view_name": "LayoutView",
       "align_content": null,
       "align_items": null,
       "align_self": null,
       "border": null,
       "bottom": null,
       "display": null,
       "flex": null,
       "flex_flow": null,
       "grid_area": null,
       "grid_auto_columns": null,
       "grid_auto_flow": null,
       "grid_auto_rows": null,
       "grid_column": null,
       "grid_gap": null,
       "grid_row": null,
       "grid_template_areas": null,
       "grid_template_columns": null,
       "grid_template_rows": null,
       "height": null,
       "justify_content": null,
       "justify_items": null,
       "left": null,
       "margin": null,
       "max_height": null,
       "max_width": null,
       "min_height": null,
       "min_width": null,
       "object_fit": null,
       "object_position": null,
       "order": null,
       "overflow": null,
       "overflow_x": null,
       "overflow_y": null,
       "padding": null,
       "right": null,
       "top": null,
       "visibility": null,
       "width": null
      }
     },
     "c819a6e17f114875b86afc7521a77df3": {
      "model_module": "@jupyter-widgets/controls",
      "model_module_version": "1.5.0",
      "model_name": "HTMLModel",
      "state": {
       "_dom_classes": [],
       "_model_module": "@jupyter-widgets/controls",
       "_model_module_version": "1.5.0",
       "_model_name": "HTMLModel",
       "_view_count": null,
       "_view_module": "@jupyter-widgets/controls",
       "_view_module_version": "1.5.0",
       "_view_name": "HTMLView",
       "description": "",
       "description_tooltip": null,
       "layout": "IPY_MODEL_378b854ce2ce494d9885d136bb81551a",
       "placeholder": "​",
       "style": "IPY_MODEL_16ad80d93c644b5d96acf47778bdac2d",
       "value": " 570/570 [00:00&lt;00:00, 44.2kB/s]"
      }
     },
     "d10e806674c441db8a9d27452350d269": {
      "model_module": "@jupyter-widgets/controls",
      "model_module_version": "1.5.0",
      "model_name": "HBoxModel",
      "state": {
       "_dom_classes": [],
       "_model_module": "@jupyter-widgets/controls",
       "_model_module_version": "1.5.0",
       "_model_name": "HBoxModel",
       "_view_count": null,
       "_view_module": "@jupyter-widgets/controls",
       "_view_module_version": "1.5.0",
       "_view_name": "HBoxView",
       "box_style": "",
       "children": [
        "IPY_MODEL_0c5b0230e8c44077b32fb4574d1ade20",
        "IPY_MODEL_612511b75e904e04ad12b28eb76663ef",
        "IPY_MODEL_3914cc389ce14067ba8b0d705efeb069"
       ],
       "layout": "IPY_MODEL_8d1271f54262447ebc49ec4921ed8f7c"
      }
     },
     "d294df4dcb3945fbaa27d42f4f9c5aa3": {
      "model_module": "@jupyter-widgets/base",
      "model_module_version": "1.2.0",
      "model_name": "LayoutModel",
      "state": {
       "_model_module": "@jupyter-widgets/base",
       "_model_module_version": "1.2.0",
       "_model_name": "LayoutModel",
       "_view_count": null,
       "_view_module": "@jupyter-widgets/base",
       "_view_module_version": "1.2.0",
       "_view_name": "LayoutView",
       "align_content": null,
       "align_items": null,
       "align_self": null,
       "border": null,
       "bottom": null,
       "display": null,
       "flex": null,
       "flex_flow": null,
       "grid_area": null,
       "grid_auto_columns": null,
       "grid_auto_flow": null,
       "grid_auto_rows": null,
       "grid_column": null,
       "grid_gap": null,
       "grid_row": null,
       "grid_template_areas": null,
       "grid_template_columns": null,
       "grid_template_rows": null,
       "height": null,
       "justify_content": null,
       "justify_items": null,
       "left": null,
       "margin": null,
       "max_height": null,
       "max_width": null,
       "min_height": null,
       "min_width": null,
       "object_fit": null,
       "object_position": null,
       "order": null,
       "overflow": null,
       "overflow_x": null,
       "overflow_y": null,
       "padding": null,
       "right": null,
       "top": null,
       "visibility": null,
       "width": null
      }
     },
     "dd75af6b539a42648c623303bb3db516": {
      "model_module": "@jupyter-widgets/base",
      "model_module_version": "1.2.0",
      "model_name": "LayoutModel",
      "state": {
       "_model_module": "@jupyter-widgets/base",
       "_model_module_version": "1.2.0",
       "_model_name": "LayoutModel",
       "_view_count": null,
       "_view_module": "@jupyter-widgets/base",
       "_view_module_version": "1.2.0",
       "_view_name": "LayoutView",
       "align_content": null,
       "align_items": null,
       "align_self": null,
       "border": null,
       "bottom": null,
       "display": null,
       "flex": null,
       "flex_flow": null,
       "grid_area": null,
       "grid_auto_columns": null,
       "grid_auto_flow": null,
       "grid_auto_rows": null,
       "grid_column": null,
       "grid_gap": null,
       "grid_row": null,
       "grid_template_areas": null,
       "grid_template_columns": null,
       "grid_template_rows": null,
       "height": null,
       "justify_content": null,
       "justify_items": null,
       "left": null,
       "margin": null,
       "max_height": null,
       "max_width": null,
       "min_height": null,
       "min_width": null,
       "object_fit": null,
       "object_position": null,
       "order": null,
       "overflow": null,
       "overflow_x": null,
       "overflow_y": null,
       "padding": null,
       "right": null,
       "top": null,
       "visibility": null,
       "width": null
      }
     },
     "e14b98e468ac4d4db59bde48af299bfa": {
      "model_module": "@jupyter-widgets/base",
      "model_module_version": "1.2.0",
      "model_name": "LayoutModel",
      "state": {
       "_model_module": "@jupyter-widgets/base",
       "_model_module_version": "1.2.0",
       "_model_name": "LayoutModel",
       "_view_count": null,
       "_view_module": "@jupyter-widgets/base",
       "_view_module_version": "1.2.0",
       "_view_name": "LayoutView",
       "align_content": null,
       "align_items": null,
       "align_self": null,
       "border": null,
       "bottom": null,
       "display": null,
       "flex": null,
       "flex_flow": null,
       "grid_area": null,
       "grid_auto_columns": null,
       "grid_auto_flow": null,
       "grid_auto_rows": null,
       "grid_column": null,
       "grid_gap": null,
       "grid_row": null,
       "grid_template_areas": null,
       "grid_template_columns": null,
       "grid_template_rows": null,
       "height": null,
       "justify_content": null,
       "justify_items": null,
       "left": null,
       "margin": null,
       "max_height": null,
       "max_width": null,
       "min_height": null,
       "min_width": null,
       "object_fit": null,
       "object_position": null,
       "order": null,
       "overflow": null,
       "overflow_x": null,
       "overflow_y": null,
       "padding": null,
       "right": null,
       "top": null,
       "visibility": null,
       "width": null
      }
     },
     "e2d7ea5437874aa084da2e829ffc0690": {
      "model_module": "@jupyter-widgets/controls",
      "model_module_version": "1.5.0",
      "model_name": "HTMLModel",
      "state": {
       "_dom_classes": [],
       "_model_module": "@jupyter-widgets/controls",
       "_model_module_version": "1.5.0",
       "_model_name": "HTMLModel",
       "_view_count": null,
       "_view_module": "@jupyter-widgets/controls",
       "_view_module_version": "1.5.0",
       "_view_name": "HTMLView",
       "description": "",
       "description_tooltip": null,
       "layout": "IPY_MODEL_fca701bfd98348849568e336ffdececc",
       "placeholder": "​",
       "style": "IPY_MODEL_0e06b7cc2e4a40d2a6d1c2ccef5ac574",
       "value": " 28.0/28.0 [00:00&lt;00:00, 1.70kB/s]"
      }
     },
     "ef7b64ba8f004e64ac87e5a15da46883": {
      "model_module": "@jupyter-widgets/controls",
      "model_module_version": "1.5.0",
      "model_name": "HTMLModel",
      "state": {
       "_dom_classes": [],
       "_model_module": "@jupyter-widgets/controls",
       "_model_module_version": "1.5.0",
       "_model_name": "HTMLModel",
       "_view_count": null,
       "_view_module": "@jupyter-widgets/controls",
       "_view_module_version": "1.5.0",
       "_view_name": "HTMLView",
       "description": "",
       "description_tooltip": null,
       "layout": "IPY_MODEL_20fb220cef384c7b9da63d2dc1823e49",
       "placeholder": "​",
       "style": "IPY_MODEL_837010a2590844e0b3f1c380b7ac87b6",
       "value": "tokenizer_config.json: 100%"
      }
     },
     "f248a52a0cf64efe981e5b34ee3d760d": {
      "model_module": "@jupyter-widgets/controls",
      "model_module_version": "1.5.0",
      "model_name": "HTMLModel",
      "state": {
       "_dom_classes": [],
       "_model_module": "@jupyter-widgets/controls",
       "_model_module_version": "1.5.0",
       "_model_name": "HTMLModel",
       "_view_count": null,
       "_view_module": "@jupyter-widgets/controls",
       "_view_module_version": "1.5.0",
       "_view_name": "HTMLView",
       "description": "",
       "description_tooltip": null,
       "layout": "IPY_MODEL_e14b98e468ac4d4db59bde48af299bfa",
       "placeholder": "​",
       "style": "IPY_MODEL_9a751d420da74b56ab9301ac6d9af7d7",
       "value": "tokenizer.json: 100%"
      }
     },
     "f7d569649276493db9ba18c02ead5399": {
      "model_module": "@jupyter-widgets/controls",
      "model_module_version": "1.5.0",
      "model_name": "ProgressStyleModel",
      "state": {
       "_model_module": "@jupyter-widgets/controls",
       "_model_module_version": "1.5.0",
       "_model_name": "ProgressStyleModel",
       "_view_count": null,
       "_view_module": "@jupyter-widgets/base",
       "_view_module_version": "1.2.0",
       "_view_name": "StyleView",
       "bar_color": null,
       "description_width": ""
      }
     },
     "fca701bfd98348849568e336ffdececc": {
      "model_module": "@jupyter-widgets/base",
      "model_module_version": "1.2.0",
      "model_name": "LayoutModel",
      "state": {
       "_model_module": "@jupyter-widgets/base",
       "_model_module_version": "1.2.0",
       "_model_name": "LayoutModel",
       "_view_count": null,
       "_view_module": "@jupyter-widgets/base",
       "_view_module_version": "1.2.0",
       "_view_name": "LayoutView",
       "align_content": null,
       "align_items": null,
       "align_self": null,
       "border": null,
       "bottom": null,
       "display": null,
       "flex": null,
       "flex_flow": null,
       "grid_area": null,
       "grid_auto_columns": null,
       "grid_auto_flow": null,
       "grid_auto_rows": null,
       "grid_column": null,
       "grid_gap": null,
       "grid_row": null,
       "grid_template_areas": null,
       "grid_template_columns": null,
       "grid_template_rows": null,
       "height": null,
       "justify_content": null,
       "justify_items": null,
       "left": null,
       "margin": null,
       "max_height": null,
       "max_width": null,
       "min_height": null,
       "min_width": null,
       "object_fit": null,
       "object_position": null,
       "order": null,
       "overflow": null,
       "overflow_x": null,
       "overflow_y": null,
       "padding": null,
       "right": null,
       "top": null,
       "visibility": null,
       "width": null
      }
     }
    },
    "version_major": 2,
    "version_minor": 0
   }
  }
 },
 "nbformat": 4,
 "nbformat_minor": 5
}
