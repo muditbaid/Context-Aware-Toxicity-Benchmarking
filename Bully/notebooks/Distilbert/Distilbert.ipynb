{
 "cells": [
  {
   "cell_type": "code",
   "execution_count": 2,
   "id": "41be1d42-5da7-4f48-8207-117836a9e1ec",
   "metadata": {},
   "outputs": [
    {
     "name": "stdout",
     "output_type": "stream",
     "text": [
      "Python 3.12.7\n"
     ]
    }
   ],
   "source": [
    "!python --version"
   ]
  },
  {
   "cell_type": "code",
   "execution_count": 1,
   "id": "86ca9b83-1b14-45ac-bbbf-e9304582ec42",
   "metadata": {},
   "outputs": [],
   "source": [
    "# Load model directly\n",
    "import torch\n",
    "from transformers import AutoTokenizer, AutoModelForSequenceClassification\n",
    "\n",
    "tokenizer = AutoTokenizer.from_pretrained(\"SSEF-HG-AC/distilbert-uncased-finetuned-cyberbullying\")\n",
    "model = AutoModelForSequenceClassification.from_pretrained(\"SSEF-HG-AC/distilbert-uncased-finetuned-cyberbullying\")"
   ]
  },
  {
   "cell_type": "code",
   "execution_count": 3,
   "id": "8b7cd503-1523-4d81-9a5d-915b1832c864",
   "metadata": {},
   "outputs": [],
   "source": [
    "import pandas as pd\n",
    "import numpy as np"
   ]
  },
  {
   "cell_type": "code",
   "execution_count": 5,
   "id": "917dcc83-2aaf-4a29-8030-71ada0d39179",
   "metadata": {},
   "outputs": [],
   "source": [
    "br_data = pd.read_csv(\"E:/Docs/UGA/Dr. Itai Himelboim/Brandwatch/Complete Data/brandwatch_data.csv\",low_memory=False)"
   ]
  },
  {
   "cell_type": "code",
   "execution_count": 7,
   "id": "73597236-29a5-4d32-8c40-a07dc057eb52",
   "metadata": {},
   "outputs": [
    {
     "data": {
      "text/html": [
       "<div>\n",
       "<style scoped>\n",
       "    .dataframe tbody tr th:only-of-type {\n",
       "        vertical-align: middle;\n",
       "    }\n",
       "\n",
       "    .dataframe tbody tr th {\n",
       "        vertical-align: top;\n",
       "    }\n",
       "\n",
       "    .dataframe thead th {\n",
       "        text-align: right;\n",
       "    }\n",
       "</style>\n",
       "<table border=\"1\" class=\"dataframe\">\n",
       "  <thead>\n",
       "    <tr style=\"text-align: right;\">\n",
       "      <th></th>\n",
       "      <th>Title</th>\n",
       "      <th>Sentiment</th>\n",
       "      <th>Emotion</th>\n",
       "      <th>Region</th>\n",
       "      <th>Gender</th>\n",
       "      <th>Impressions</th>\n",
       "    </tr>\n",
       "  </thead>\n",
       "  <tbody>\n",
       "    <tr>\n",
       "      <th>0</th>\n",
       "      <td>@realest_lauren @KellyScaletta Close our borde...</td>\n",
       "      <td>negative</td>\n",
       "      <td>Anger</td>\n",
       "      <td>Florida</td>\n",
       "      <td>male</td>\n",
       "      <td>358</td>\n",
       "    </tr>\n",
       "    <tr>\n",
       "      <th>1</th>\n",
       "      <td>@wow36932525 Didn't Michael Herrera talk about...</td>\n",
       "      <td>negative</td>\n",
       "      <td>NaN</td>\n",
       "      <td>Oregon</td>\n",
       "      <td>unknown</td>\n",
       "      <td>280</td>\n",
       "    </tr>\n",
       "    <tr>\n",
       "      <th>2</th>\n",
       "      <td>@KatiePhang FOR ALL OF YOU ILLITERATE DUMMIES ...</td>\n",
       "      <td>negative</td>\n",
       "      <td>Joy</td>\n",
       "      <td>Texas</td>\n",
       "      <td>unknown</td>\n",
       "      <td>5</td>\n",
       "    </tr>\n",
       "    <tr>\n",
       "      <th>3</th>\n",
       "      <td>@vickiringer The border patrol couldn’t legall...</td>\n",
       "      <td>negative</td>\n",
       "      <td>Sadness</td>\n",
       "      <td>California</td>\n",
       "      <td>male</td>\n",
       "      <td>75</td>\n",
       "    </tr>\n",
       "    <tr>\n",
       "      <th>4</th>\n",
       "      <td>@tuszyb Another dumbed down individual. THIS H...</td>\n",
       "      <td>negative</td>\n",
       "      <td>NaN</td>\n",
       "      <td>Texas</td>\n",
       "      <td>unknown</td>\n",
       "      <td>5</td>\n",
       "    </tr>\n",
       "  </tbody>\n",
       "</table>\n",
       "</div>"
      ],
      "text/plain": [
       "                                               Title Sentiment  Emotion  \\\n",
       "0  @realest_lauren @KellyScaletta Close our borde...  negative    Anger   \n",
       "1  @wow36932525 Didn't Michael Herrera talk about...  negative      NaN   \n",
       "2  @KatiePhang FOR ALL OF YOU ILLITERATE DUMMIES ...  negative      Joy   \n",
       "3  @vickiringer The border patrol couldn’t legall...  negative  Sadness   \n",
       "4  @tuszyb Another dumbed down individual. THIS H...  negative      NaN   \n",
       "\n",
       "       Region   Gender  Impressions  \n",
       "0     Florida     male          358  \n",
       "1      Oregon  unknown          280  \n",
       "2       Texas  unknown            5  \n",
       "3  California     male           75  \n",
       "4       Texas  unknown            5  "
      ]
     },
     "execution_count": 7,
     "metadata": {},
     "output_type": "execute_result"
    }
   ],
   "source": [
    "br_data = br_data[['Title', 'Sentiment', 'Emotion', 'Region', 'Gender', 'Impressions']]\n",
    "br_data.head()"
   ]
  },
  {
   "cell_type": "code",
   "execution_count": 23,
   "id": "18558ec3-1c15-4dc3-b0d9-f2925045d695",
   "metadata": {},
   "outputs": [
    {
     "name": "stderr",
     "output_type": "stream",
     "text": [
      "100%|████████████████████████████████████████████████████████████████████████████| 2333/2333 [2:57:24<00:00,  4.56s/it]\n"
     ]
    },
    {
     "ename": "AttributeError",
     "evalue": "'list' object has no attribute 'tolist'",
     "output_type": "error",
     "traceback": [
      "\u001b[1;31m---------------------------------------------------------------------------\u001b[0m",
      "\u001b[1;31mAttributeError\u001b[0m                            Traceback (most recent call last)",
      "Cell \u001b[1;32mIn[23], line 28\u001b[0m\n\u001b[0;32m     21\u001b[0m     predictions\u001b[38;5;241m.\u001b[39mextend(batch_predictions)\n\u001b[0;32m     22\u001b[0m \u001b[38;5;66;03m# Run the model on the tokenized input\u001b[39;00m\n\u001b[0;32m     23\u001b[0m \u001b[38;5;66;03m# with torch.no_grad():\u001b[39;00m\n\u001b[0;32m     24\u001b[0m \u001b[38;5;66;03m#     outputs = model(**inputs)\u001b[39;00m\n\u001b[0;32m     25\u001b[0m \u001b[38;5;66;03m#     predictions = torch.argmax(outputs.logits, dim=1)\u001b[39;00m\n\u001b[0;32m     26\u001b[0m \n\u001b[0;32m     27\u001b[0m \u001b[38;5;66;03m# Add predictions to the DataFrame\u001b[39;00m\n\u001b[1;32m---> 28\u001b[0m br_data[\u001b[38;5;124m'\u001b[39m\u001b[38;5;124mCyberbullying Prediction\u001b[39m\u001b[38;5;124m'\u001b[39m] \u001b[38;5;241m=\u001b[39m [\u001b[38;5;124m\"\u001b[39m\u001b[38;5;124mCyberbullying\u001b[39m\u001b[38;5;124m\"\u001b[39m \u001b[38;5;28;01mif\u001b[39;00m pred \u001b[38;5;241m==\u001b[39m \u001b[38;5;241m1\u001b[39m \u001b[38;5;28;01melse\u001b[39;00m \u001b[38;5;124m\"\u001b[39m\u001b[38;5;124mNon-Cyberbullying\u001b[39m\u001b[38;5;124m\"\u001b[39m \u001b[38;5;28;01mfor\u001b[39;00m pred \u001b[38;5;129;01min\u001b[39;00m predictions\u001b[38;5;241m.\u001b[39mtolist()]\n\u001b[0;32m     30\u001b[0m \u001b[38;5;66;03m# Display the results for the first 10 rows\u001b[39;00m\n\u001b[0;32m     31\u001b[0m br_data\u001b[38;5;241m.\u001b[39mhead()\n",
      "\u001b[1;31mAttributeError\u001b[0m: 'list' object has no attribute 'tolist'"
     ]
    }
   ],
   "source": [
    "from tqdm import tqdm\n",
    "texts = br_data['Title'].tolist()\n",
    "model.eval()\n",
    "# Tokenize the text\n",
    "# inputs = tokenizer(texts, return_tensors=\"pt\", padding=True, truncation=True, max_length=512)\n",
    "\n",
    "# Function to process a batch of texts\n",
    "def classify_batch(texts):\n",
    "    inputs = tokenizer(texts, return_tensors=\"pt\", padding=True, truncation=True, max_length=512)\n",
    "    with torch.no_grad():\n",
    "        outputs = model(**inputs)\n",
    "    predictions = torch.argmax(outputs.logits, dim=1)\n",
    "    return predictions.tolist()\n",
    "\n",
    "# Process data in batches\n",
    "batch_size = 32  # Adjust based on your system's memory\n",
    "predictions = []\n",
    "for i in tqdm(range(0, len(br_data), batch_size)):\n",
    "    batch_texts = br_data['Title'][i:i+batch_size].tolist()\n",
    "    batch_predictions = classify_batch(batch_texts)\n",
    "    predictions.extend(batch_predictions)\n",
    "# Run the model on the tokenized input\n",
    "# with torch.no_grad():\n",
    "#     outputs = model(**inputs)\n",
    "#     predictions = torch.argmax(outputs.logits, dim=1)\n",
    "\n",
    "# Add predictions to the DataFrame\n",
    "br_data['Cyberbullying Prediction'] = [\"Cyberbullying\" if pred == 1 else \"Non-Cyberbullying\" for pred in predictions.tolist()]\n",
    "\n",
    "# Display the results for the first 10 rows\n",
    "br_data.head()"
   ]
  },
  {
   "cell_type": "code",
   "execution_count": 24,
   "id": "2b313b36-c12d-484f-8242-c0c19b46f7fc",
   "metadata": {},
   "outputs": [
    {
     "data": {
      "text/html": [
       "<div>\n",
       "<style scoped>\n",
       "    .dataframe tbody tr th:only-of-type {\n",
       "        vertical-align: middle;\n",
       "    }\n",
       "\n",
       "    .dataframe tbody tr th {\n",
       "        vertical-align: top;\n",
       "    }\n",
       "\n",
       "    .dataframe thead th {\n",
       "        text-align: right;\n",
       "    }\n",
       "</style>\n",
       "<table border=\"1\" class=\"dataframe\">\n",
       "  <thead>\n",
       "    <tr style=\"text-align: right;\">\n",
       "      <th></th>\n",
       "      <th>Title</th>\n",
       "      <th>Sentiment</th>\n",
       "      <th>Emotion</th>\n",
       "      <th>Region</th>\n",
       "      <th>Gender</th>\n",
       "      <th>Impressions</th>\n",
       "      <th>Cyberbullying Prediction</th>\n",
       "    </tr>\n",
       "  </thead>\n",
       "  <tbody>\n",
       "    <tr>\n",
       "      <th>0</th>\n",
       "      <td>@realest_lauren @KellyScaletta Close our borde...</td>\n",
       "      <td>negative</td>\n",
       "      <td>Anger</td>\n",
       "      <td>Florida</td>\n",
       "      <td>male</td>\n",
       "      <td>358</td>\n",
       "      <td>Cyberbullying</td>\n",
       "    </tr>\n",
       "    <tr>\n",
       "      <th>1</th>\n",
       "      <td>@wow36932525 Didn't Michael Herrera talk about...</td>\n",
       "      <td>negative</td>\n",
       "      <td>NaN</td>\n",
       "      <td>Oregon</td>\n",
       "      <td>unknown</td>\n",
       "      <td>280</td>\n",
       "      <td>Cyberbullying</td>\n",
       "    </tr>\n",
       "    <tr>\n",
       "      <th>2</th>\n",
       "      <td>@KatiePhang FOR ALL OF YOU ILLITERATE DUMMIES ...</td>\n",
       "      <td>negative</td>\n",
       "      <td>Joy</td>\n",
       "      <td>Texas</td>\n",
       "      <td>unknown</td>\n",
       "      <td>5</td>\n",
       "      <td>Cyberbullying</td>\n",
       "    </tr>\n",
       "    <tr>\n",
       "      <th>3</th>\n",
       "      <td>@vickiringer The border patrol couldn’t legall...</td>\n",
       "      <td>negative</td>\n",
       "      <td>Sadness</td>\n",
       "      <td>California</td>\n",
       "      <td>male</td>\n",
       "      <td>75</td>\n",
       "      <td>Cyberbullying</td>\n",
       "    </tr>\n",
       "    <tr>\n",
       "      <th>4</th>\n",
       "      <td>@tuszyb Another dumbed down individual. THIS H...</td>\n",
       "      <td>negative</td>\n",
       "      <td>NaN</td>\n",
       "      <td>Texas</td>\n",
       "      <td>unknown</td>\n",
       "      <td>5</td>\n",
       "      <td>Non-Cyberbullying</td>\n",
       "    </tr>\n",
       "  </tbody>\n",
       "</table>\n",
       "</div>"
      ],
      "text/plain": [
       "                                               Title Sentiment  Emotion  \\\n",
       "0  @realest_lauren @KellyScaletta Close our borde...  negative    Anger   \n",
       "1  @wow36932525 Didn't Michael Herrera talk about...  negative      NaN   \n",
       "2  @KatiePhang FOR ALL OF YOU ILLITERATE DUMMIES ...  negative      Joy   \n",
       "3  @vickiringer The border patrol couldn’t legall...  negative  Sadness   \n",
       "4  @tuszyb Another dumbed down individual. THIS H...  negative      NaN   \n",
       "\n",
       "       Region   Gender  Impressions Cyberbullying Prediction  \n",
       "0     Florida     male          358            Cyberbullying  \n",
       "1      Oregon  unknown          280            Cyberbullying  \n",
       "2       Texas  unknown            5            Cyberbullying  \n",
       "3  California     male           75            Cyberbullying  \n",
       "4       Texas  unknown            5        Non-Cyberbullying  "
      ]
     },
     "execution_count": 24,
     "metadata": {},
     "output_type": "execute_result"
    }
   ],
   "source": [
    "br_data['Cyberbullying Prediction'] = [\"Cyberbullying\" if pred == 1 else \"Non-Cyberbullying\" for pred in predictions]\n",
    "br_data.head()"
   ]
  },
  {
   "cell_type": "code",
   "execution_count": 26,
   "id": "4729140a-8d4b-4e90-b699-fe35c0554748",
   "metadata": {},
   "outputs": [],
   "source": [
    "br_data.to_csv(\"distilbert_brandwatch.csv\", index=False)"
   ]
  },
  {
   "cell_type": "code",
   "execution_count": null,
   "id": "9d489d8d-e659-467a-bb6c-93a10835e323",
   "metadata": {},
   "outputs": [],
   "source": []
  }
 ],
 "metadata": {
  "kernelspec": {
   "display_name": "Python 3 (ipykernel)",
   "language": "python",
   "name": "python3"
  },
  "language_info": {
   "codemirror_mode": {
    "name": "ipython",
    "version": 3
   },
   "file_extension": ".py",
   "mimetype": "text/x-python",
   "name": "python",
   "nbconvert_exporter": "python",
   "pygments_lexer": "ipython3",
   "version": "3.12.7"
  }
 },
 "nbformat": 4,
 "nbformat_minor": 5
}
